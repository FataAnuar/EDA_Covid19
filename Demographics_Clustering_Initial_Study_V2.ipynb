{
 "cells": [
  {
   "cell_type": "markdown",
   "metadata": {},
   "source": [
    "## This notebook provides clustering analysis for Covid-19 Demographics project"
   ]
  },
  {
   "cell_type": "code",
   "execution_count": 3,
   "metadata": {},
   "outputs": [],
   "source": [
    "import pandas as pd\n",
    "\n",
    "import seaborn as sns\n",
    "import matplotlib.pyplot as plt\n",
    "from mpl_toolkits.mplot3d import Axes3D\n",
    "import numpy as np\n",
    "from sklearn.decomposition import PCA\n",
    "from sklearn.manifold import TSNE\n",
    "\n",
    "from sklearn.cluster import DBSCAN, AgglomerativeClustering, SpectralClustering\n",
    "from sklearn.preprocessing import StandardScaler\n",
    "from sklearn.preprocessing import MinMaxScaler, StandardScaler\n",
    "import plotly.express as px\n",
    "%matplotlib inline\n",
    "\n",
    "#%matplotlib notebook\n",
    "pd.options.display.max_columns = 100\n",
    "pd.options.display.max_rows = 250\n",
    "plt.rcParams[\"figure.figsize\"] = [15, 10]"
   ]
  },
  {
   "cell_type": "code",
   "execution_count": 4,
   "metadata": {},
   "outputs": [],
   "source": [
    "df=pd.read_excel('Final_cleaned_scaled_5_21.xlsx')"
   ]
  },
  {
   "cell_type": "code",
   "execution_count": 5,
   "metadata": {},
   "outputs": [
    {
     "data": {
      "text/html": [
       "<div>\n",
       "<style scoped>\n",
       "    .dataframe tbody tr th:only-of-type {\n",
       "        vertical-align: middle;\n",
       "    }\n",
       "\n",
       "    .dataframe tbody tr th {\n",
       "        vertical-align: top;\n",
       "    }\n",
       "\n",
       "    .dataframe thead th {\n",
       "        text-align: right;\n",
       "    }\n",
       "</style>\n",
       "<table border=\"1\" class=\"dataframe\">\n",
       "  <thead>\n",
       "    <tr style=\"text-align: right;\">\n",
       "      <th></th>\n",
       "      <th>Country Name</th>\n",
       "      <th>region</th>\n",
       "      <th>sub-region</th>\n",
       "      <th>Country Code</th>\n",
       "      <th>Income group</th>\n",
       "      <th>Population aged 0 to 14 years old (percentage)</th>\n",
       "      <th>Population aged 60+ years old (percentage)</th>\n",
       "      <th>Population density</th>\n",
       "      <th>Population mid-year estimates (millions)</th>\n",
       "      <th>Population mid-year estimates for females (millions)</th>\n",
       "      <th>Population mid-year estimates for males (millions)</th>\n",
       "      <th>Sex ratio (males per 100 females)</th>\n",
       "      <th>GDP(USD - billion)</th>\n",
       "      <th>Current health expenditure per capita (current US$)</th>\n",
       "      <th>Current health expenditure (% of GDP)</th>\n",
       "      <th>Domestic general government health expenditure (% of current health expenditure)</th>\n",
       "      <th>Domestic general government health expenditure (% of GDP)</th>\n",
       "      <th>Domestic general government health expenditure (% of general government expenditure)</th>\n",
       "      <th>Domestic general government health expenditure per capita (current US$)</th>\n",
       "      <th>Domestic private health expenditure (% of current health expenditure)</th>\n",
       "      <th>Domestic private health expenditure per capita (current US$)</th>\n",
       "      <th>External health expenditure (% of current health expenditure)</th>\n",
       "      <th>External health expenditure per capita (current US$)</th>\n",
       "      <th>SI_mean1</th>\n",
       "      <th>SI_mean2</th>\n",
       "      <th>min_SI</th>\n",
       "      <th>max_SI</th>\n",
       "      <th>Days_diff</th>\n",
       "      <th>growth_1</th>\n",
       "      <th>growth_2</th>\n",
       "    </tr>\n",
       "  </thead>\n",
       "  <tbody>\n",
       "    <tr>\n",
       "      <th>0</th>\n",
       "      <td>Afghanistan</td>\n",
       "      <td>Asia</td>\n",
       "      <td>Southern Asia</td>\n",
       "      <td>AFG</td>\n",
       "      <td>Low income</td>\n",
       "      <td>0.803525</td>\n",
       "      <td>0.043767</td>\n",
       "      <td>0.007011</td>\n",
       "      <td>0.026509</td>\n",
       "      <td>0.026449</td>\n",
       "      <td>0.026482</td>\n",
       "      <td>0.087618</td>\n",
       "      <td>0.000916</td>\n",
       "      <td>0.004667</td>\n",
       "      <td>0.544648</td>\n",
       "      <td>0.000000</td>\n",
       "      <td>0.007256</td>\n",
       "      <td>0.008444</td>\n",
       "      <td>0.000052</td>\n",
       "      <td>0.970848</td>\n",
       "      <td>0.011661</td>\n",
       "      <td>0.324983</td>\n",
       "      <td>0.038880</td>\n",
       "      <td>0.550713</td>\n",
       "      <td>0.349535</td>\n",
       "      <td>0.333392</td>\n",
       "      <td>0.675709</td>\n",
       "      <td>0.237624</td>\n",
       "      <td>0.001316</td>\n",
       "      <td>0.009175</td>\n",
       "    </tr>\n",
       "    <tr>\n",
       "      <th>1</th>\n",
       "      <td>Albania</td>\n",
       "      <td>Europe</td>\n",
       "      <td>Southern Europe</td>\n",
       "      <td>ALB</td>\n",
       "      <td>Upper middle income</td>\n",
       "      <td>0.135111</td>\n",
       "      <td>0.566350</td>\n",
       "      <td>0.012664</td>\n",
       "      <td>0.001986</td>\n",
       "      <td>0.001957</td>\n",
       "      <td>0.001926</td>\n",
       "      <td>0.079523</td>\n",
       "      <td>0.000708</td>\n",
       "      <td>0.025532</td>\n",
       "      <td>0.312771</td>\n",
       "      <td>0.398797</td>\n",
       "      <td>0.173100</td>\n",
       "      <td>0.206896</td>\n",
       "      <td>0.013595</td>\n",
       "      <td>0.720274</td>\n",
       "      <td>0.042577</td>\n",
       "      <td>0.012294</td>\n",
       "      <td>0.006970</td>\n",
       "      <td>0.711830</td>\n",
       "      <td>0.525025</td>\n",
       "      <td>0.000000</td>\n",
       "      <td>0.837798</td>\n",
       "      <td>0.138614</td>\n",
       "      <td>0.000865</td>\n",
       "      <td>0.003027</td>\n",
       "    </tr>\n",
       "    <tr>\n",
       "      <th>2</th>\n",
       "      <td>Algeria</td>\n",
       "      <td>Africa</td>\n",
       "      <td>Northern Africa</td>\n",
       "      <td>DZA</td>\n",
       "      <td>Upper middle income</td>\n",
       "      <td>0.485699</td>\n",
       "      <td>0.220484</td>\n",
       "      <td>0.002163</td>\n",
       "      <td>0.030005</td>\n",
       "      <td>0.030448</td>\n",
       "      <td>0.029500</td>\n",
       "      <td>0.072090</td>\n",
       "      <td>0.008431</td>\n",
       "      <td>0.028194</td>\n",
       "      <td>0.309498</td>\n",
       "      <td>0.688632</td>\n",
       "      <td>0.300792</td>\n",
       "      <td>0.239367</td>\n",
       "      <td>0.021516</td>\n",
       "      <td>0.388782</td>\n",
       "      <td>0.022530</td>\n",
       "      <td>0.000411</td>\n",
       "      <td>0.000213</td>\n",
       "      <td>0.698880</td>\n",
       "      <td>0.366403</td>\n",
       "      <td>0.166783</td>\n",
       "      <td>0.945970</td>\n",
       "      <td>0.287129</td>\n",
       "      <td>0.003403</td>\n",
       "      <td>0.023632</td>\n",
       "    </tr>\n",
       "    <tr>\n",
       "      <th>3</th>\n",
       "      <td>Andorra</td>\n",
       "      <td>Europe</td>\n",
       "      <td>Southern Europe</td>\n",
       "      <td>AND</td>\n",
       "      <td>High income</td>\n",
       "      <td>0.053246</td>\n",
       "      <td>0.803976</td>\n",
       "      <td>0.019778</td>\n",
       "      <td>0.000030</td>\n",
       "      <td>0.007571</td>\n",
       "      <td>0.006507</td>\n",
       "      <td>0.046064</td>\n",
       "      <td>0.000131</td>\n",
       "      <td>0.376144</td>\n",
       "      <td>0.555845</td>\n",
       "      <td>0.484360</td>\n",
       "      <td>0.344595</td>\n",
       "      <td>0.326316</td>\n",
       "      <td>0.232989</td>\n",
       "      <td>0.628525</td>\n",
       "      <td>0.532639</td>\n",
       "      <td>0.004732</td>\n",
       "      <td>0.015008</td>\n",
       "      <td>0.427950</td>\n",
       "      <td>0.124223</td>\n",
       "      <td>0.166783</td>\n",
       "      <td>0.513507</td>\n",
       "      <td>0.069307</td>\n",
       "      <td>0.000878</td>\n",
       "      <td>0.006142</td>\n",
       "    </tr>\n",
       "    <tr>\n",
       "      <th>4</th>\n",
       "      <td>Angola</td>\n",
       "      <td>Africa</td>\n",
       "      <td>Sub-Saharan Africa</td>\n",
       "      <td>AGO</td>\n",
       "      <td>Lower middle income</td>\n",
       "      <td>0.914152</td>\n",
       "      <td>0.026430</td>\n",
       "      <td>0.003062</td>\n",
       "      <td>0.022174</td>\n",
       "      <td>0.022966</td>\n",
       "      <td>0.021337</td>\n",
       "      <td>0.053001</td>\n",
       "      <td>0.005121</td>\n",
       "      <td>0.009628</td>\n",
       "      <td>0.059747</td>\n",
       "      <td>0.429414</td>\n",
       "      <td>0.062405</td>\n",
       "      <td>0.098969</td>\n",
       "      <td>0.004893</td>\n",
       "      <td>0.645943</td>\n",
       "      <td>0.013140</td>\n",
       "      <td>0.067718</td>\n",
       "      <td>0.013463</td>\n",
       "      <td>0.260342</td>\n",
       "      <td>0.286854</td>\n",
       "      <td>0.083304</td>\n",
       "      <td>0.675709</td>\n",
       "      <td>0.475248</td>\n",
       "      <td>0.000036</td>\n",
       "      <td>0.000308</td>\n",
       "    </tr>\n",
       "  </tbody>\n",
       "</table>\n",
       "</div>"
      ],
      "text/plain": [
       "  Country Name  region          sub-region Country Code         Income group  \\\n",
       "0  Afghanistan    Asia       Southern Asia          AFG           Low income   \n",
       "1      Albania  Europe     Southern Europe          ALB  Upper middle income   \n",
       "2      Algeria  Africa     Northern Africa          DZA  Upper middle income   \n",
       "3      Andorra  Europe     Southern Europe          AND          High income   \n",
       "4       Angola  Africa  Sub-Saharan Africa          AGO  Lower middle income   \n",
       "\n",
       "   Population aged 0 to 14 years old (percentage)  \\\n",
       "0                                        0.803525   \n",
       "1                                        0.135111   \n",
       "2                                        0.485699   \n",
       "3                                        0.053246   \n",
       "4                                        0.914152   \n",
       "\n",
       "   Population aged 60+ years old (percentage)  Population density  \\\n",
       "0                                    0.043767            0.007011   \n",
       "1                                    0.566350            0.012664   \n",
       "2                                    0.220484            0.002163   \n",
       "3                                    0.803976            0.019778   \n",
       "4                                    0.026430            0.003062   \n",
       "\n",
       "   Population mid-year estimates (millions)  \\\n",
       "0                                  0.026509   \n",
       "1                                  0.001986   \n",
       "2                                  0.030005   \n",
       "3                                  0.000030   \n",
       "4                                  0.022174   \n",
       "\n",
       "   Population mid-year estimates for females (millions)  \\\n",
       "0                                           0.026449      \n",
       "1                                           0.001957      \n",
       "2                                           0.030448      \n",
       "3                                           0.007571      \n",
       "4                                           0.022966      \n",
       "\n",
       "   Population mid-year estimates for males (millions)  \\\n",
       "0                                           0.026482    \n",
       "1                                           0.001926    \n",
       "2                                           0.029500    \n",
       "3                                           0.006507    \n",
       "4                                           0.021337    \n",
       "\n",
       "   Sex ratio (males per 100 females)  GDP(USD - billion)  \\\n",
       "0                           0.087618            0.000916   \n",
       "1                           0.079523            0.000708   \n",
       "2                           0.072090            0.008431   \n",
       "3                           0.046064            0.000131   \n",
       "4                           0.053001            0.005121   \n",
       "\n",
       "   Current health expenditure per capita (current US$)  \\\n",
       "0                                           0.004667     \n",
       "1                                           0.025532     \n",
       "2                                           0.028194     \n",
       "3                                           0.376144     \n",
       "4                                           0.009628     \n",
       "\n",
       "   Current health expenditure (% of GDP)  \\\n",
       "0                               0.544648   \n",
       "1                               0.312771   \n",
       "2                               0.309498   \n",
       "3                               0.555845   \n",
       "4                               0.059747   \n",
       "\n",
       "   Domestic general government health expenditure (% of current health expenditure)  \\\n",
       "0                                           0.000000                                  \n",
       "1                                           0.398797                                  \n",
       "2                                           0.688632                                  \n",
       "3                                           0.484360                                  \n",
       "4                                           0.429414                                  \n",
       "\n",
       "   Domestic general government health expenditure (% of GDP)  \\\n",
       "0                                           0.007256           \n",
       "1                                           0.173100           \n",
       "2                                           0.300792           \n",
       "3                                           0.344595           \n",
       "4                                           0.062405           \n",
       "\n",
       "   Domestic general government health expenditure (% of general government expenditure)  \\\n",
       "0                                           0.008444                                      \n",
       "1                                           0.206896                                      \n",
       "2                                           0.239367                                      \n",
       "3                                           0.326316                                      \n",
       "4                                           0.098969                                      \n",
       "\n",
       "   Domestic general government health expenditure per capita (current US$)  \\\n",
       "0                                           0.000052                         \n",
       "1                                           0.013595                         \n",
       "2                                           0.021516                         \n",
       "3                                           0.232989                         \n",
       "4                                           0.004893                         \n",
       "\n",
       "   Domestic private health expenditure (% of current health expenditure)  \\\n",
       "0                                           0.970848                       \n",
       "1                                           0.720274                       \n",
       "2                                           0.388782                       \n",
       "3                                           0.628525                       \n",
       "4                                           0.645943                       \n",
       "\n",
       "   Domestic private health expenditure per capita (current US$)  \\\n",
       "0                                           0.011661              \n",
       "1                                           0.042577              \n",
       "2                                           0.022530              \n",
       "3                                           0.532639              \n",
       "4                                           0.013140              \n",
       "\n",
       "   External health expenditure (% of current health expenditure)  \\\n",
       "0                                           0.324983               \n",
       "1                                           0.012294               \n",
       "2                                           0.000411               \n",
       "3                                           0.004732               \n",
       "4                                           0.067718               \n",
       "\n",
       "   External health expenditure per capita (current US$)  SI_mean1  SI_mean2  \\\n",
       "0                                           0.038880     0.550713  0.349535   \n",
       "1                                           0.006970     0.711830  0.525025   \n",
       "2                                           0.000213     0.698880  0.366403   \n",
       "3                                           0.015008     0.427950  0.124223   \n",
       "4                                           0.013463     0.260342  0.286854   \n",
       "\n",
       "     min_SI    max_SI  Days_diff  growth_1  growth_2  \n",
       "0  0.333392  0.675709   0.237624  0.001316  0.009175  \n",
       "1  0.000000  0.837798   0.138614  0.000865  0.003027  \n",
       "2  0.166783  0.945970   0.287129  0.003403  0.023632  \n",
       "3  0.166783  0.513507   0.069307  0.000878  0.006142  \n",
       "4  0.083304  0.675709   0.475248  0.000036  0.000308  "
      ]
     },
     "execution_count": 5,
     "metadata": {},
     "output_type": "execute_result"
    }
   ],
   "source": [
    "df.head()"
   ]
  },
  {
   "cell_type": "code",
   "execution_count": 6,
   "metadata": {},
   "outputs": [],
   "source": [
    "X=df.loc[:,'Population aged 0 to 14 years old (percentage)':'growth_2']\n",
    "X=X.drop(columns=['SI_mean1','growth_2'])"
   ]
  },
  {
   "cell_type": "code",
   "execution_count": 7,
   "metadata": {},
   "outputs": [
    {
     "data": {
      "text/html": [
       "<div>\n",
       "<style scoped>\n",
       "    .dataframe tbody tr th:only-of-type {\n",
       "        vertical-align: middle;\n",
       "    }\n",
       "\n",
       "    .dataframe tbody tr th {\n",
       "        vertical-align: top;\n",
       "    }\n",
       "\n",
       "    .dataframe thead th {\n",
       "        text-align: right;\n",
       "    }\n",
       "</style>\n",
       "<table border=\"1\" class=\"dataframe\">\n",
       "  <thead>\n",
       "    <tr style=\"text-align: right;\">\n",
       "      <th></th>\n",
       "      <th>Population aged 0 to 14 years old (percentage)</th>\n",
       "      <th>Population aged 60+ years old (percentage)</th>\n",
       "      <th>Population density</th>\n",
       "      <th>Population mid-year estimates (millions)</th>\n",
       "      <th>Population mid-year estimates for females (millions)</th>\n",
       "      <th>Population mid-year estimates for males (millions)</th>\n",
       "      <th>Sex ratio (males per 100 females)</th>\n",
       "      <th>GDP(USD - billion)</th>\n",
       "      <th>Current health expenditure per capita (current US$)</th>\n",
       "      <th>Current health expenditure (% of GDP)</th>\n",
       "      <th>Domestic general government health expenditure (% of current health expenditure)</th>\n",
       "      <th>Domestic general government health expenditure (% of GDP)</th>\n",
       "      <th>Domestic general government health expenditure (% of general government expenditure)</th>\n",
       "      <th>Domestic general government health expenditure per capita (current US$)</th>\n",
       "      <th>Domestic private health expenditure (% of current health expenditure)</th>\n",
       "      <th>Domestic private health expenditure per capita (current US$)</th>\n",
       "      <th>External health expenditure (% of current health expenditure)</th>\n",
       "      <th>External health expenditure per capita (current US$)</th>\n",
       "      <th>SI_mean2</th>\n",
       "      <th>min_SI</th>\n",
       "      <th>max_SI</th>\n",
       "      <th>Days_diff</th>\n",
       "      <th>growth_1</th>\n",
       "    </tr>\n",
       "  </thead>\n",
       "  <tbody>\n",
       "    <tr>\n",
       "      <th>count</th>\n",
       "      <td>138.000000</td>\n",
       "      <td>138.000000</td>\n",
       "      <td>138.000000</td>\n",
       "      <td>138.000000</td>\n",
       "      <td>138.000000</td>\n",
       "      <td>138.000000</td>\n",
       "      <td>138.000000</td>\n",
       "      <td>138.000000</td>\n",
       "      <td>138.000000</td>\n",
       "      <td>138.000000</td>\n",
       "      <td>138.000000</td>\n",
       "      <td>138.000000</td>\n",
       "      <td>138.000000</td>\n",
       "      <td>138.000000</td>\n",
       "      <td>138.000000</td>\n",
       "      <td>138.000000</td>\n",
       "      <td>138.000000</td>\n",
       "      <td>138.000000</td>\n",
       "      <td>138.000000</td>\n",
       "      <td>138.000000</td>\n",
       "      <td>138.000000</td>\n",
       "      <td>138.000000</td>\n",
       "      <td>138.000000</td>\n",
       "    </tr>\n",
       "    <tr>\n",
       "      <th>mean</th>\n",
       "      <td>0.367942</td>\n",
       "      <td>0.358930</td>\n",
       "      <td>0.023767</td>\n",
       "      <td>0.036581</td>\n",
       "      <td>0.038275</td>\n",
       "      <td>0.036999</td>\n",
       "      <td>0.072878</td>\n",
       "      <td>0.029397</td>\n",
       "      <td>0.128902</td>\n",
       "      <td>0.319369</td>\n",
       "      <td>0.555938</td>\n",
       "      <td>0.260446</td>\n",
       "      <td>0.263480</td>\n",
       "      <td>0.115449</td>\n",
       "      <td>0.462784</td>\n",
       "      <td>0.092986</td>\n",
       "      <td>0.125294</td>\n",
       "      <td>0.057710</td>\n",
       "      <td>0.450342</td>\n",
       "      <td>0.144682</td>\n",
       "      <td>0.835098</td>\n",
       "      <td>0.387861</td>\n",
       "      <td>0.021907</td>\n",
       "    </tr>\n",
       "    <tr>\n",
       "      <th>std</th>\n",
       "      <td>0.276107</td>\n",
       "      <td>0.275259</td>\n",
       "      <td>0.086300</td>\n",
       "      <td>0.120148</td>\n",
       "      <td>0.119888</td>\n",
       "      <td>0.120752</td>\n",
       "      <td>0.105442</td>\n",
       "      <td>0.106052</td>\n",
       "      <td>0.198111</td>\n",
       "      <td>0.182862</td>\n",
       "      <td>0.234160</td>\n",
       "      <td>0.187382</td>\n",
       "      <td>0.159142</td>\n",
       "      <td>0.191901</td>\n",
       "      <td>0.233895</td>\n",
       "      <td>0.135287</td>\n",
       "      <td>0.227805</td>\n",
       "      <td>0.132705</td>\n",
       "      <td>0.172718</td>\n",
       "      <td>0.150058</td>\n",
       "      <td>0.166002</td>\n",
       "      <td>0.232500</td>\n",
       "      <td>0.093210</td>\n",
       "    </tr>\n",
       "    <tr>\n",
       "      <th>min</th>\n",
       "      <td>0.000000</td>\n",
       "      <td>0.000000</td>\n",
       "      <td>0.000000</td>\n",
       "      <td>0.000000</td>\n",
       "      <td>0.000000</td>\n",
       "      <td>0.000000</td>\n",
       "      <td>0.000000</td>\n",
       "      <td>0.000000</td>\n",
       "      <td>0.000000</td>\n",
       "      <td>0.000000</td>\n",
       "      <td>0.000000</td>\n",
       "      <td>0.000000</td>\n",
       "      <td>0.000000</td>\n",
       "      <td>0.000000</td>\n",
       "      <td>0.000000</td>\n",
       "      <td>0.000000</td>\n",
       "      <td>0.000000</td>\n",
       "      <td>0.000000</td>\n",
       "      <td>0.000000</td>\n",
       "      <td>0.000000</td>\n",
       "      <td>0.000000</td>\n",
       "      <td>0.000000</td>\n",
       "      <td>0.000000</td>\n",
       "    </tr>\n",
       "    <tr>\n",
       "      <th>25%</th>\n",
       "      <td>0.117425</td>\n",
       "      <td>0.100498</td>\n",
       "      <td>0.003059</td>\n",
       "      <td>0.003398</td>\n",
       "      <td>0.003906</td>\n",
       "      <td>0.003688</td>\n",
       "      <td>0.046974</td>\n",
       "      <td>0.000818</td>\n",
       "      <td>0.011413</td>\n",
       "      <td>0.169906</td>\n",
       "      <td>0.401121</td>\n",
       "      <td>0.118198</td>\n",
       "      <td>0.156497</td>\n",
       "      <td>0.004945</td>\n",
       "      <td>0.272967</td>\n",
       "      <td>0.013559</td>\n",
       "      <td>0.004407</td>\n",
       "      <td>0.004370</td>\n",
       "      <td>0.332801</td>\n",
       "      <td>0.041652</td>\n",
       "      <td>0.756754</td>\n",
       "      <td>0.178218</td>\n",
       "      <td>0.000304</td>\n",
       "    </tr>\n",
       "    <tr>\n",
       "      <th>50%</th>\n",
       "      <td>0.322885</td>\n",
       "      <td>0.285244</td>\n",
       "      <td>0.010014</td>\n",
       "      <td>0.008013</td>\n",
       "      <td>0.008268</td>\n",
       "      <td>0.007802</td>\n",
       "      <td>0.056441</td>\n",
       "      <td>0.003294</td>\n",
       "      <td>0.038547</td>\n",
       "      <td>0.308730</td>\n",
       "      <td>0.584667</td>\n",
       "      <td>0.231951</td>\n",
       "      <td>0.239367</td>\n",
       "      <td>0.027077</td>\n",
       "      <td>0.432414</td>\n",
       "      <td>0.034515</td>\n",
       "      <td>0.021448</td>\n",
       "      <td>0.015008</td>\n",
       "      <td>0.436304</td>\n",
       "      <td>0.166783</td>\n",
       "      <td>0.837798</td>\n",
       "      <td>0.351485</td>\n",
       "      <td>0.001751</td>\n",
       "    </tr>\n",
       "    <tr>\n",
       "      <th>75%</th>\n",
       "      <td>0.558923</td>\n",
       "      <td>0.626101</td>\n",
       "      <td>0.019776</td>\n",
       "      <td>0.026483</td>\n",
       "      <td>0.027864</td>\n",
       "      <td>0.026937</td>\n",
       "      <td>0.066333</td>\n",
       "      <td>0.017392</td>\n",
       "      <td>0.138785</td>\n",
       "      <td>0.429803</td>\n",
       "      <td>0.740843</td>\n",
       "      <td>0.356831</td>\n",
       "      <td>0.349732</td>\n",
       "      <td>0.112658</td>\n",
       "      <td>0.608149</td>\n",
       "      <td>0.127518</td>\n",
       "      <td>0.104613</td>\n",
       "      <td>0.049035</td>\n",
       "      <td>0.562268</td>\n",
       "      <td>0.166783</td>\n",
       "      <td>0.945970</td>\n",
       "      <td>0.581683</td>\n",
       "      <td>0.008655</td>\n",
       "    </tr>\n",
       "    <tr>\n",
       "      <th>max</th>\n",
       "      <td>1.000000</td>\n",
       "      <td>1.000000</td>\n",
       "      <td>1.000000</td>\n",
       "      <td>1.000000</td>\n",
       "      <td>1.000000</td>\n",
       "      <td>1.000000</td>\n",
       "      <td>1.000000</td>\n",
       "      <td>1.000000</td>\n",
       "      <td>1.000000</td>\n",
       "      <td>1.000000</td>\n",
       "      <td>1.000000</td>\n",
       "      <td>1.000000</td>\n",
       "      <td>1.000000</td>\n",
       "      <td>1.000000</td>\n",
       "      <td>1.000000</td>\n",
       "      <td>1.000000</td>\n",
       "      <td>1.000000</td>\n",
       "      <td>1.000000</td>\n",
       "      <td>1.000000</td>\n",
       "      <td>1.000000</td>\n",
       "      <td>1.000000</td>\n",
       "      <td>1.000000</td>\n",
       "      <td>1.000000</td>\n",
       "    </tr>\n",
       "  </tbody>\n",
       "</table>\n",
       "</div>"
      ],
      "text/plain": [
       "       Population aged 0 to 14 years old (percentage)  \\\n",
       "count                                      138.000000   \n",
       "mean                                         0.367942   \n",
       "std                                          0.276107   \n",
       "min                                          0.000000   \n",
       "25%                                          0.117425   \n",
       "50%                                          0.322885   \n",
       "75%                                          0.558923   \n",
       "max                                          1.000000   \n",
       "\n",
       "       Population aged 60+ years old (percentage)  Population density  \\\n",
       "count                                  138.000000          138.000000   \n",
       "mean                                     0.358930            0.023767   \n",
       "std                                      0.275259            0.086300   \n",
       "min                                      0.000000            0.000000   \n",
       "25%                                      0.100498            0.003059   \n",
       "50%                                      0.285244            0.010014   \n",
       "75%                                      0.626101            0.019776   \n",
       "max                                      1.000000            1.000000   \n",
       "\n",
       "       Population mid-year estimates (millions)  \\\n",
       "count                                138.000000   \n",
       "mean                                   0.036581   \n",
       "std                                    0.120148   \n",
       "min                                    0.000000   \n",
       "25%                                    0.003398   \n",
       "50%                                    0.008013   \n",
       "75%                                    0.026483   \n",
       "max                                    1.000000   \n",
       "\n",
       "       Population mid-year estimates for females (millions)  \\\n",
       "count                                         138.000000      \n",
       "mean                                            0.038275      \n",
       "std                                             0.119888      \n",
       "min                                             0.000000      \n",
       "25%                                             0.003906      \n",
       "50%                                             0.008268      \n",
       "75%                                             0.027864      \n",
       "max                                             1.000000      \n",
       "\n",
       "       Population mid-year estimates for males (millions)  \\\n",
       "count                                         138.000000    \n",
       "mean                                            0.036999    \n",
       "std                                             0.120752    \n",
       "min                                             0.000000    \n",
       "25%                                             0.003688    \n",
       "50%                                             0.007802    \n",
       "75%                                             0.026937    \n",
       "max                                             1.000000    \n",
       "\n",
       "       Sex ratio (males per 100 females)  GDP(USD - billion)  \\\n",
       "count                         138.000000          138.000000   \n",
       "mean                            0.072878            0.029397   \n",
       "std                             0.105442            0.106052   \n",
       "min                             0.000000            0.000000   \n",
       "25%                             0.046974            0.000818   \n",
       "50%                             0.056441            0.003294   \n",
       "75%                             0.066333            0.017392   \n",
       "max                             1.000000            1.000000   \n",
       "\n",
       "       Current health expenditure per capita (current US$)  \\\n",
       "count                                         138.000000     \n",
       "mean                                            0.128902     \n",
       "std                                             0.198111     \n",
       "min                                             0.000000     \n",
       "25%                                             0.011413     \n",
       "50%                                             0.038547     \n",
       "75%                                             0.138785     \n",
       "max                                             1.000000     \n",
       "\n",
       "       Current health expenditure (% of GDP)  \\\n",
       "count                             138.000000   \n",
       "mean                                0.319369   \n",
       "std                                 0.182862   \n",
       "min                                 0.000000   \n",
       "25%                                 0.169906   \n",
       "50%                                 0.308730   \n",
       "75%                                 0.429803   \n",
       "max                                 1.000000   \n",
       "\n",
       "       Domestic general government health expenditure (% of current health expenditure)  \\\n",
       "count                                         138.000000                                  \n",
       "mean                                            0.555938                                  \n",
       "std                                             0.234160                                  \n",
       "min                                             0.000000                                  \n",
       "25%                                             0.401121                                  \n",
       "50%                                             0.584667                                  \n",
       "75%                                             0.740843                                  \n",
       "max                                             1.000000                                  \n",
       "\n",
       "       Domestic general government health expenditure (% of GDP)  \\\n",
       "count                                         138.000000           \n",
       "mean                                            0.260446           \n",
       "std                                             0.187382           \n",
       "min                                             0.000000           \n",
       "25%                                             0.118198           \n",
       "50%                                             0.231951           \n",
       "75%                                             0.356831           \n",
       "max                                             1.000000           \n",
       "\n",
       "       Domestic general government health expenditure (% of general government expenditure)  \\\n",
       "count                                         138.000000                                      \n",
       "mean                                            0.263480                                      \n",
       "std                                             0.159142                                      \n",
       "min                                             0.000000                                      \n",
       "25%                                             0.156497                                      \n",
       "50%                                             0.239367                                      \n",
       "75%                                             0.349732                                      \n",
       "max                                             1.000000                                      \n",
       "\n",
       "       Domestic general government health expenditure per capita (current US$)  \\\n",
       "count                                         138.000000                         \n",
       "mean                                            0.115449                         \n",
       "std                                             0.191901                         \n",
       "min                                             0.000000                         \n",
       "25%                                             0.004945                         \n",
       "50%                                             0.027077                         \n",
       "75%                                             0.112658                         \n",
       "max                                             1.000000                         \n",
       "\n",
       "       Domestic private health expenditure (% of current health expenditure)  \\\n",
       "count                                         138.000000                       \n",
       "mean                                            0.462784                       \n",
       "std                                             0.233895                       \n",
       "min                                             0.000000                       \n",
       "25%                                             0.272967                       \n",
       "50%                                             0.432414                       \n",
       "75%                                             0.608149                       \n",
       "max                                             1.000000                       \n",
       "\n",
       "       Domestic private health expenditure per capita (current US$)  \\\n",
       "count                                         138.000000              \n",
       "mean                                            0.092986              \n",
       "std                                             0.135287              \n",
       "min                                             0.000000              \n",
       "25%                                             0.013559              \n",
       "50%                                             0.034515              \n",
       "75%                                             0.127518              \n",
       "max                                             1.000000              \n",
       "\n",
       "       External health expenditure (% of current health expenditure)  \\\n",
       "count                                         138.000000               \n",
       "mean                                            0.125294               \n",
       "std                                             0.227805               \n",
       "min                                             0.000000               \n",
       "25%                                             0.004407               \n",
       "50%                                             0.021448               \n",
       "75%                                             0.104613               \n",
       "max                                             1.000000               \n",
       "\n",
       "       External health expenditure per capita (current US$)    SI_mean2  \\\n",
       "count                                         138.000000     138.000000   \n",
       "mean                                            0.057710       0.450342   \n",
       "std                                             0.132705       0.172718   \n",
       "min                                             0.000000       0.000000   \n",
       "25%                                             0.004370       0.332801   \n",
       "50%                                             0.015008       0.436304   \n",
       "75%                                             0.049035       0.562268   \n",
       "max                                             1.000000       1.000000   \n",
       "\n",
       "           min_SI      max_SI   Days_diff    growth_1  \n",
       "count  138.000000  138.000000  138.000000  138.000000  \n",
       "mean     0.144682    0.835098    0.387861    0.021907  \n",
       "std      0.150058    0.166002    0.232500    0.093210  \n",
       "min      0.000000    0.000000    0.000000    0.000000  \n",
       "25%      0.041652    0.756754    0.178218    0.000304  \n",
       "50%      0.166783    0.837798    0.351485    0.001751  \n",
       "75%      0.166783    0.945970    0.581683    0.008655  \n",
       "max      1.000000    1.000000    1.000000    1.000000  "
      ]
     },
     "execution_count": 7,
     "metadata": {},
     "output_type": "execute_result"
    }
   ],
   "source": [
    "X.describe()"
   ]
  },
  {
   "cell_type": "code",
   "execution_count": 258,
   "metadata": {},
   "outputs": [
    {
     "data": {
      "text/plain": [
       "Index(['Population aged 0 to 14 years old (percentage)',\n",
       "       'Population aged 60+ years old (percentage)', 'Population density',\n",
       "       'Population mid-year estimates (millions)',\n",
       "       'Population mid-year estimates for females (millions)',\n",
       "       'Population mid-year estimates for males (millions)',\n",
       "       'Sex ratio (males per 100 females)', 'GDP(USD - billion)',\n",
       "       'Current health expenditure per capita (current US$)',\n",
       "       'Current health expenditure (% of GDP)',\n",
       "       'Domestic general government health expenditure (% of current health expenditure)',\n",
       "       'Domestic general government health expenditure (% of GDP)',\n",
       "       'Domestic general government health expenditure (% of general government expenditure)',\n",
       "       'Domestic general government health expenditure per capita (current US$)',\n",
       "       'Domestic private health expenditure (% of current health expenditure)',\n",
       "       'Domestic private health expenditure per capita (current US$)',\n",
       "       'External health expenditure (% of current health expenditure)',\n",
       "       'External health expenditure per capita (current US$)', 'SI_mean2',\n",
       "       'min_SI', 'max_SI', 'Days_diff', 'growth_1', 'Fem/Male'],\n",
       "      dtype='object')"
      ]
     },
     "execution_count": 258,
     "metadata": {},
     "output_type": "execute_result"
    }
   ],
   "source": [
    "X.columns"
   ]
  },
  {
   "cell_type": "code",
   "execution_count": 8,
   "metadata": {},
   "outputs": [],
   "source": [
    "X=X.drop(columns=['Current health expenditure per capita (current US$)',\n",
    "       'Current health expenditure (% of GDP)',\n",
    "       'Domestic general government health expenditure (% of current health expenditure)',\n",
    "       'Domestic general government health expenditure (% of GDP)',\n",
    "       'Domestic general government health expenditure (% of general government expenditure)',\n",
    "       'Domestic general government health expenditure per capita (current US$)',\n",
    "       'Domestic private health expenditure (% of current health expenditure)',\n",
    "       'Domestic private health expenditure per capita (current US$)',\n",
    "       'External health expenditure (% of current health expenditure)',\n",
    "       'External health expenditure per capita (current US$)'])"
   ]
  },
  {
   "cell_type": "code",
   "execution_count": 17,
   "metadata": {},
   "outputs": [
    {
     "data": {
      "text/plain": [
       "PCA(copy=True, iterated_power='auto', n_components=3, random_state=None,\n",
       "  svd_solver='auto', tol=0.0, whiten=False)"
      ]
     },
     "execution_count": 17,
     "metadata": {},
     "output_type": "execute_result"
    }
   ],
   "source": [
    "pca = PCA(n_components=3)\n",
    "\n",
    "pca.fit(X)"
   ]
  },
  {
   "cell_type": "code",
   "execution_count": 18,
   "metadata": {},
   "outputs": [],
   "source": [
    "x_pca = pca.transform(X)"
   ]
  },
  {
   "cell_type": "code",
   "execution_count": 19,
   "metadata": {},
   "outputs": [],
   "source": [
    "dfX=pd.DataFrame(df['Country Name'])\n",
    "dfX['pca1']=x_pca[:,0]\n",
    "dfX['pca2']=x_pca[:,1]\n",
    "dfX['pca3']=x_pca[:,2]"
   ]
  },
  {
   "cell_type": "code",
   "execution_count": 20,
   "metadata": {
    "scrolled": true
   },
   "outputs": [
    {
     "data": {
      "application/vnd.plotly.v1+json": {
       "config": {
        "plotlyServerURL": "https://plot.ly"
       },
       "data": [
        {
         "hovertemplate": "<b>%{hovertext}</b><br><br>pca1=%{x}<br>pca2=%{y}<extra></extra>",
         "hovertext": [
          "Afghanistan",
          "Albania",
          "Algeria",
          "Andorra",
          "Angola",
          "Argentina",
          "Australia",
          "Austria",
          "Azerbaijan",
          "Bangladesh",
          "Barbados",
          "Belgium",
          "Belize",
          "Bolivia",
          "Bosnia and Herzegovina",
          "Botswana",
          "Brazil",
          "Brunei Darussalam",
          "Bulgaria",
          "Burkina Faso",
          "Burundi",
          "Cameroon",
          "Canada",
          "Chad",
          "Chile",
          "China",
          "Colombia",
          "Congo, Dem. Rep.",
          "Costa Rica",
          "Croatia",
          "Cuba",
          "Cyprus",
          "Czech Republic",
          "Denmark",
          "Djibouti",
          "Dominica",
          "Dominican Republic",
          "Ecuador",
          "Egypt, Arab Rep.",
          "El Salvador",
          "Estonia",
          "Eswatini",
          "Finland",
          "France",
          "Gabon",
          "Gambia, The",
          "Germany",
          "Ghana",
          "Greece",
          "Greenland",
          "Guatemala",
          "Guyana",
          "Honduras",
          "Hungary",
          "Iceland",
          "India",
          "Indonesia",
          "Iran, Islamic Rep.",
          "Iraq",
          "Ireland",
          "Israel",
          "Italy",
          "Jamaica",
          "Japan",
          "Jordan",
          "Kazakhstan",
          "Kenya",
          "Korea, Rep.",
          "Kosovo",
          "Kuwait",
          "Kyrgyz Republic",
          "Lao PDR",
          "Lebanon",
          "Libya",
          "Luxembourg",
          "Madagascar",
          "Malawi",
          "Malaysia",
          "Mali",
          "Mauritania",
          "Mauritius",
          "Mexico",
          "Moldova",
          "Mongolia",
          "Morocco",
          "Mozambique",
          "Namibia",
          "Netherlands",
          "New Zealand",
          "Nicaragua",
          "Niger",
          "Nigeria",
          "Norway",
          "Oman",
          "Pakistan",
          "Panama",
          "Papua New Guinea",
          "Paraguay",
          "Peru",
          "Philippines",
          "Poland",
          "Portugal",
          "Qatar",
          "Romania",
          "Russian Federation",
          "Rwanda",
          "San Marino",
          "Saudi Arabia",
          "Serbia",
          "Seychelles",
          "Sierra Leone",
          "Singapore",
          "Slovak Republic",
          "Slovenia",
          "South Africa",
          "South Sudan",
          "Spain",
          "Sri Lanka",
          "Sudan",
          "Sweden",
          "Switzerland",
          "Syrian Arab Republic",
          "United Rep. of Tanzania",
          "Thailand",
          "Trinidad and Tobago",
          "Tunisia",
          "Turkey",
          "Uganda",
          "Ukraine",
          "United Arab Emirates",
          "United Kingdom",
          "United States of America",
          "Uruguay",
          "Uzbekistan",
          "Venezuela, RB",
          "Vietnam",
          "Zambia",
          "Zimbabwe"
         ],
         "legendgroup": "",
         "marker": {
          "color": "#636efa",
          "symbol": "circle"
         },
         "mode": "markers",
         "name": "",
         "showlegend": false,
         "type": "scatter",
         "x": [
          -0.5841435066445266,
          0.2747030654764339,
          -0.20004344927742018,
          0.36838771836138473,
          -0.6271921308737498,
          0.14701717556394311,
          0.3261808027105846,
          0.4288956266599061,
          0.02805343983152026,
          -0.04887272696855921,
          0.38881047169851923,
          0.4205556284515122,
          -0.27633181722997824,
          -0.26812665953645076,
          0.48328511729861423,
          -0.19109704574780748,
          0.04901149061834043,
          -0.021346717027405347,
          0.4845672737545444,
          -0.6219585726178479,
          -0.6653677031907239,
          -0.5756225298857757,
          0.4680704858029983,
          -0.6790886869553991,
          0.08915342337237595,
          0.4051276889856002,
          0.11627574682721586,
          -0.5850290384590839,
          0.08620579466178134,
          0.5670351117767676,
          0.38038327594082316,
          0.228405570354387,
          0.3948920614497405,
          0.4081500264620619,
          -0.31838468172722817,
          -0.12310994847987906,
          -0.14635950202191503,
          -0.030364044988267468,
          -0.27685217762163034,
          -0.0031045825555294946,
          0.3374368949218406,
          -0.4450699016425677,
          0.4518356461557728,
          0.5174341629408061,
          -0.4172377677611352,
          -0.7116496941396309,
          0.6190336213136974,
          -0.36446768341703756,
          0.4409512695910352,
          0.3002669544603048,
          -0.19550706353159344,
          -0.09993800805345923,
          -0.27270216584167134,
          0.4531886402154097,
          0.2635142441510583,
          0.08792876099920291,
          -0.017595393455127572,
          -0.057819812921440256,
          -0.4208542150396871,
          0.1775776390404491,
          0.0860949480672698,
          0.7015096291552859,
          0.07258976954241106,
          0.7805064055399875,
          -0.3486955111351194,
          -0.16906339013541927,
          -0.4110559666447339,
          0.5081212525651144,
          0.3453468480553925,
          -0.018714549343904378,
          -0.31345481681830223,
          -0.3398735643252502,
          -0.018233189907985593,
          -0.14536364073617802,
          0.2475381093601392,
          -0.5119445175541923,
          -0.619874623916947,
          0.04418554241106827,
          -0.7379408879901032,
          -0.48193859602949324,
          0.16038486803884827,
          -0.0811307888387999,
          0.22651426970193378,
          -0.1308557826934556,
          -0.13721519209046948,
          -0.662853296571803,
          -0.4562372642502469,
          0.3975467361407422,
          0.32448810842741066,
          -0.39564008955832486,
          -0.7566733472442065,
          -0.4900161792606091,
          0.3748211305530992,
          -0.07466187208508626,
          -0.27282166001523805,
          -0.025987143018632256,
          -0.3133681461148848,
          -0.09431016558283738,
          -0.052830276775064744,
          -0.13897776752453853,
          0.5356085459811312,
          0.6372874063615926,
          0.07873493431308685,
          0.5016568959115142,
          0.34911562899853366,
          -0.36430470202048,
          0.5042236150769615,
          -0.09710649055036247,
          0.5000887399194683,
          0.04396105710134189,
          -0.5424041845850479,
          0.5072091156384315,
          0.3670122080940161,
          0.45900669222022794,
          -0.11563970235267867,
          -0.5011277444818821,
          0.5161543206165479,
          0.15552699244669324,
          -0.4335169981700198,
          0.2934176899966383,
          0.392883771259611,
          -0.1805619093997084,
          -0.6483229204695585,
          0.2194925685113147,
          0.18082858818957118,
          -0.00807282303298952,
          0.09992099775996982,
          -0.5072645688343282,
          0.3699064087724568,
          0.025929466373103772,
          0.38480207578158004,
          0.46640660482504165,
          0.10049796047640602,
          -0.09220739656169863,
          -0.1242814564670142,
          0.13747345275694223,
          -0.657551599740027,
          -0.5717962343493643
         ],
         "xaxis": "x",
         "y": [
          -0.10815387547118128,
          -0.2141539235524407,
          -0.04039944388216831,
          -0.6341789639147964,
          0.0856648686295405,
          0.31516170948362104,
          0.07231534963289615,
          -0.2697094643408141,
          0.17898686750390355,
          0.4361574053222499,
          0.07490117200697662,
          -0.10675483142322971,
          -0.17745661691991918,
          -0.3289862642685421,
          0.025818697799374752,
          0.4795243732851563,
          -0.14527679937775856,
          0.15343467000337813,
          -0.2437187394625331,
          -0.11937871667279697,
          -0.11912162550207539,
          -0.1110082737801864,
          0.11840536344134553,
          -0.13308827887098731,
          -0.38031498293402494,
          0.6699524399362169,
          0.3272348523247693,
          0.06839285994665635,
          -0.0984261297455556,
          0.0067426551043724735,
          0.14120544806843843,
          -0.28935807106319406,
          -0.361704406175168,
          -0.25549405283162246,
          -0.3314930474812896,
          -0.33138923566926076,
          -0.14101636047810337,
          0.27832007224669325,
          0.019328567560410678,
          0.1986359044634656,
          -0.5126469278132312,
          -0.06537825835191512,
          -0.35275414354495804,
          0.12858756227861826,
          -0.052845488262481526,
          -0.417577956613437,
          0.12912414062943772,
          0.2587957545834769,
          -0.4414187910539253,
          -0.2621719535783753,
          0.36229057247467644,
          0.12868782691686664,
          -0.045092478301947035,
          -0.261803524097825,
          -0.03178366342276451,
          0.8570010306612654,
          0.33417074360706156,
          0.0166147812297961,
          0.04620281467207305,
          -0.16474197451175518,
          0.18101515312375335,
          0.18585989806484354,
          0.16823950515398872,
          0.16500899866191995,
          -0.07383534929195691,
          -0.23335311324912886,
          0.33654826645482316,
          0.17159942927678198,
          -0.3263848339401408,
          0.32024133485848966,
          -0.15199483259469157,
          -0.1561841049847982,
          0.10916319965765481,
          0.2273767509684997,
          -0.33614884821145075,
          -0.12009498415718158,
          -0.14356707592438364,
          0.2679203719716856,
          -0.3123195990697931,
          0.03917586139012494,
          -0.3650388765496946,
          -0.023441986023721512,
          -0.26128449478293536,
          0.3581733083129471,
          -0.2015010160928182,
          -0.27518234606118874,
          -0.15727078746494996,
          -0.3386112814385152,
          0.04318474181166483,
          -0.6096351930116772,
          -0.21978418628348403,
          0.32687057031832895,
          -0.019471933164681966,
          0.38495260620397725,
          0.2569195331655831,
          0.12194894989795428,
          0.22217592590868707,
          0.2314866116454664,
          -0.0976351153536083,
          0.2560120073481035,
          0.20254310298798023,
          0.1449281716622765,
          0.456274614336396,
          0.07935695203286937,
          0.04650457647084659,
          0.36731818205330574,
          -0.24622768852845942,
          0.2803089120522963,
          0.0930869976347245,
          0.169107311197842,
          -0.1418435209653456,
          0.38069338572469047,
          -0.17903853773799644,
          -0.28668094006605804,
          0.2494877883323962,
          0.009994387472066513,
          -0.03973419365345895,
          0.21961181373424224,
          0.13159496129654585,
          -0.4837201678634017,
          -0.3189802821696814,
          0.2680735623537197,
          -0.24052107595121439,
          -0.21808452488998462,
          0.0679191711133802,
          -0.1212130055363013,
          0.3030290761565791,
          0.48640338136613415,
          -0.23202047422390634,
          0.3689160951103917,
          -0.06530466861294551,
          0.11659310217673048,
          -0.5360729649330361,
          0.38882532532627234,
          -0.1691981559328768,
          0.4248588805062681,
          -0.1312533560484933,
          -0.1595305009717485
         ],
         "yaxis": "y"
        }
       ],
       "layout": {
        "legend": {
         "tracegroupgap": 0
        },
        "margin": {
         "t": 60
        },
        "template": {
         "data": {
          "bar": [
           {
            "error_x": {
             "color": "#2a3f5f"
            },
            "error_y": {
             "color": "#2a3f5f"
            },
            "marker": {
             "line": {
              "color": "#E5ECF6",
              "width": 0.5
             }
            },
            "type": "bar"
           }
          ],
          "barpolar": [
           {
            "marker": {
             "line": {
              "color": "#E5ECF6",
              "width": 0.5
             }
            },
            "type": "barpolar"
           }
          ],
          "carpet": [
           {
            "aaxis": {
             "endlinecolor": "#2a3f5f",
             "gridcolor": "white",
             "linecolor": "white",
             "minorgridcolor": "white",
             "startlinecolor": "#2a3f5f"
            },
            "baxis": {
             "endlinecolor": "#2a3f5f",
             "gridcolor": "white",
             "linecolor": "white",
             "minorgridcolor": "white",
             "startlinecolor": "#2a3f5f"
            },
            "type": "carpet"
           }
          ],
          "choropleth": [
           {
            "colorbar": {
             "outlinewidth": 0,
             "ticks": ""
            },
            "type": "choropleth"
           }
          ],
          "contour": [
           {
            "colorbar": {
             "outlinewidth": 0,
             "ticks": ""
            },
            "colorscale": [
             [
              0,
              "#0d0887"
             ],
             [
              0.1111111111111111,
              "#46039f"
             ],
             [
              0.2222222222222222,
              "#7201a8"
             ],
             [
              0.3333333333333333,
              "#9c179e"
             ],
             [
              0.4444444444444444,
              "#bd3786"
             ],
             [
              0.5555555555555556,
              "#d8576b"
             ],
             [
              0.6666666666666666,
              "#ed7953"
             ],
             [
              0.7777777777777778,
              "#fb9f3a"
             ],
             [
              0.8888888888888888,
              "#fdca26"
             ],
             [
              1,
              "#f0f921"
             ]
            ],
            "type": "contour"
           }
          ],
          "contourcarpet": [
           {
            "colorbar": {
             "outlinewidth": 0,
             "ticks": ""
            },
            "type": "contourcarpet"
           }
          ],
          "heatmap": [
           {
            "colorbar": {
             "outlinewidth": 0,
             "ticks": ""
            },
            "colorscale": [
             [
              0,
              "#0d0887"
             ],
             [
              0.1111111111111111,
              "#46039f"
             ],
             [
              0.2222222222222222,
              "#7201a8"
             ],
             [
              0.3333333333333333,
              "#9c179e"
             ],
             [
              0.4444444444444444,
              "#bd3786"
             ],
             [
              0.5555555555555556,
              "#d8576b"
             ],
             [
              0.6666666666666666,
              "#ed7953"
             ],
             [
              0.7777777777777778,
              "#fb9f3a"
             ],
             [
              0.8888888888888888,
              "#fdca26"
             ],
             [
              1,
              "#f0f921"
             ]
            ],
            "type": "heatmap"
           }
          ],
          "heatmapgl": [
           {
            "colorbar": {
             "outlinewidth": 0,
             "ticks": ""
            },
            "colorscale": [
             [
              0,
              "#0d0887"
             ],
             [
              0.1111111111111111,
              "#46039f"
             ],
             [
              0.2222222222222222,
              "#7201a8"
             ],
             [
              0.3333333333333333,
              "#9c179e"
             ],
             [
              0.4444444444444444,
              "#bd3786"
             ],
             [
              0.5555555555555556,
              "#d8576b"
             ],
             [
              0.6666666666666666,
              "#ed7953"
             ],
             [
              0.7777777777777778,
              "#fb9f3a"
             ],
             [
              0.8888888888888888,
              "#fdca26"
             ],
             [
              1,
              "#f0f921"
             ]
            ],
            "type": "heatmapgl"
           }
          ],
          "histogram": [
           {
            "marker": {
             "colorbar": {
              "outlinewidth": 0,
              "ticks": ""
             }
            },
            "type": "histogram"
           }
          ],
          "histogram2d": [
           {
            "colorbar": {
             "outlinewidth": 0,
             "ticks": ""
            },
            "colorscale": [
             [
              0,
              "#0d0887"
             ],
             [
              0.1111111111111111,
              "#46039f"
             ],
             [
              0.2222222222222222,
              "#7201a8"
             ],
             [
              0.3333333333333333,
              "#9c179e"
             ],
             [
              0.4444444444444444,
              "#bd3786"
             ],
             [
              0.5555555555555556,
              "#d8576b"
             ],
             [
              0.6666666666666666,
              "#ed7953"
             ],
             [
              0.7777777777777778,
              "#fb9f3a"
             ],
             [
              0.8888888888888888,
              "#fdca26"
             ],
             [
              1,
              "#f0f921"
             ]
            ],
            "type": "histogram2d"
           }
          ],
          "histogram2dcontour": [
           {
            "colorbar": {
             "outlinewidth": 0,
             "ticks": ""
            },
            "colorscale": [
             [
              0,
              "#0d0887"
             ],
             [
              0.1111111111111111,
              "#46039f"
             ],
             [
              0.2222222222222222,
              "#7201a8"
             ],
             [
              0.3333333333333333,
              "#9c179e"
             ],
             [
              0.4444444444444444,
              "#bd3786"
             ],
             [
              0.5555555555555556,
              "#d8576b"
             ],
             [
              0.6666666666666666,
              "#ed7953"
             ],
             [
              0.7777777777777778,
              "#fb9f3a"
             ],
             [
              0.8888888888888888,
              "#fdca26"
             ],
             [
              1,
              "#f0f921"
             ]
            ],
            "type": "histogram2dcontour"
           }
          ],
          "mesh3d": [
           {
            "colorbar": {
             "outlinewidth": 0,
             "ticks": ""
            },
            "type": "mesh3d"
           }
          ],
          "parcoords": [
           {
            "line": {
             "colorbar": {
              "outlinewidth": 0,
              "ticks": ""
             }
            },
            "type": "parcoords"
           }
          ],
          "pie": [
           {
            "automargin": true,
            "type": "pie"
           }
          ],
          "scatter": [
           {
            "marker": {
             "colorbar": {
              "outlinewidth": 0,
              "ticks": ""
             }
            },
            "type": "scatter"
           }
          ],
          "scatter3d": [
           {
            "line": {
             "colorbar": {
              "outlinewidth": 0,
              "ticks": ""
             }
            },
            "marker": {
             "colorbar": {
              "outlinewidth": 0,
              "ticks": ""
             }
            },
            "type": "scatter3d"
           }
          ],
          "scattercarpet": [
           {
            "marker": {
             "colorbar": {
              "outlinewidth": 0,
              "ticks": ""
             }
            },
            "type": "scattercarpet"
           }
          ],
          "scattergeo": [
           {
            "marker": {
             "colorbar": {
              "outlinewidth": 0,
              "ticks": ""
             }
            },
            "type": "scattergeo"
           }
          ],
          "scattergl": [
           {
            "marker": {
             "colorbar": {
              "outlinewidth": 0,
              "ticks": ""
             }
            },
            "type": "scattergl"
           }
          ],
          "scattermapbox": [
           {
            "marker": {
             "colorbar": {
              "outlinewidth": 0,
              "ticks": ""
             }
            },
            "type": "scattermapbox"
           }
          ],
          "scatterpolar": [
           {
            "marker": {
             "colorbar": {
              "outlinewidth": 0,
              "ticks": ""
             }
            },
            "type": "scatterpolar"
           }
          ],
          "scatterpolargl": [
           {
            "marker": {
             "colorbar": {
              "outlinewidth": 0,
              "ticks": ""
             }
            },
            "type": "scatterpolargl"
           }
          ],
          "scatterternary": [
           {
            "marker": {
             "colorbar": {
              "outlinewidth": 0,
              "ticks": ""
             }
            },
            "type": "scatterternary"
           }
          ],
          "surface": [
           {
            "colorbar": {
             "outlinewidth": 0,
             "ticks": ""
            },
            "colorscale": [
             [
              0,
              "#0d0887"
             ],
             [
              0.1111111111111111,
              "#46039f"
             ],
             [
              0.2222222222222222,
              "#7201a8"
             ],
             [
              0.3333333333333333,
              "#9c179e"
             ],
             [
              0.4444444444444444,
              "#bd3786"
             ],
             [
              0.5555555555555556,
              "#d8576b"
             ],
             [
              0.6666666666666666,
              "#ed7953"
             ],
             [
              0.7777777777777778,
              "#fb9f3a"
             ],
             [
              0.8888888888888888,
              "#fdca26"
             ],
             [
              1,
              "#f0f921"
             ]
            ],
            "type": "surface"
           }
          ],
          "table": [
           {
            "cells": {
             "fill": {
              "color": "#EBF0F8"
             },
             "line": {
              "color": "white"
             }
            },
            "header": {
             "fill": {
              "color": "#C8D4E3"
             },
             "line": {
              "color": "white"
             }
            },
            "type": "table"
           }
          ]
         },
         "layout": {
          "annotationdefaults": {
           "arrowcolor": "#2a3f5f",
           "arrowhead": 0,
           "arrowwidth": 1
          },
          "coloraxis": {
           "colorbar": {
            "outlinewidth": 0,
            "ticks": ""
           }
          },
          "colorscale": {
           "diverging": [
            [
             0,
             "#8e0152"
            ],
            [
             0.1,
             "#c51b7d"
            ],
            [
             0.2,
             "#de77ae"
            ],
            [
             0.3,
             "#f1b6da"
            ],
            [
             0.4,
             "#fde0ef"
            ],
            [
             0.5,
             "#f7f7f7"
            ],
            [
             0.6,
             "#e6f5d0"
            ],
            [
             0.7,
             "#b8e186"
            ],
            [
             0.8,
             "#7fbc41"
            ],
            [
             0.9,
             "#4d9221"
            ],
            [
             1,
             "#276419"
            ]
           ],
           "sequential": [
            [
             0,
             "#0d0887"
            ],
            [
             0.1111111111111111,
             "#46039f"
            ],
            [
             0.2222222222222222,
             "#7201a8"
            ],
            [
             0.3333333333333333,
             "#9c179e"
            ],
            [
             0.4444444444444444,
             "#bd3786"
            ],
            [
             0.5555555555555556,
             "#d8576b"
            ],
            [
             0.6666666666666666,
             "#ed7953"
            ],
            [
             0.7777777777777778,
             "#fb9f3a"
            ],
            [
             0.8888888888888888,
             "#fdca26"
            ],
            [
             1,
             "#f0f921"
            ]
           ],
           "sequentialminus": [
            [
             0,
             "#0d0887"
            ],
            [
             0.1111111111111111,
             "#46039f"
            ],
            [
             0.2222222222222222,
             "#7201a8"
            ],
            [
             0.3333333333333333,
             "#9c179e"
            ],
            [
             0.4444444444444444,
             "#bd3786"
            ],
            [
             0.5555555555555556,
             "#d8576b"
            ],
            [
             0.6666666666666666,
             "#ed7953"
            ],
            [
             0.7777777777777778,
             "#fb9f3a"
            ],
            [
             0.8888888888888888,
             "#fdca26"
            ],
            [
             1,
             "#f0f921"
            ]
           ]
          },
          "colorway": [
           "#636efa",
           "#EF553B",
           "#00cc96",
           "#ab63fa",
           "#FFA15A",
           "#19d3f3",
           "#FF6692",
           "#B6E880",
           "#FF97FF",
           "#FECB52"
          ],
          "font": {
           "color": "#2a3f5f"
          },
          "geo": {
           "bgcolor": "white",
           "lakecolor": "white",
           "landcolor": "#E5ECF6",
           "showlakes": true,
           "showland": true,
           "subunitcolor": "white"
          },
          "hoverlabel": {
           "align": "left"
          },
          "hovermode": "closest",
          "mapbox": {
           "style": "light"
          },
          "paper_bgcolor": "white",
          "plot_bgcolor": "#E5ECF6",
          "polar": {
           "angularaxis": {
            "gridcolor": "white",
            "linecolor": "white",
            "ticks": ""
           },
           "bgcolor": "#E5ECF6",
           "radialaxis": {
            "gridcolor": "white",
            "linecolor": "white",
            "ticks": ""
           }
          },
          "scene": {
           "xaxis": {
            "backgroundcolor": "#E5ECF6",
            "gridcolor": "white",
            "gridwidth": 2,
            "linecolor": "white",
            "showbackground": true,
            "ticks": "",
            "zerolinecolor": "white"
           },
           "yaxis": {
            "backgroundcolor": "#E5ECF6",
            "gridcolor": "white",
            "gridwidth": 2,
            "linecolor": "white",
            "showbackground": true,
            "ticks": "",
            "zerolinecolor": "white"
           },
           "zaxis": {
            "backgroundcolor": "#E5ECF6",
            "gridcolor": "white",
            "gridwidth": 2,
            "linecolor": "white",
            "showbackground": true,
            "ticks": "",
            "zerolinecolor": "white"
           }
          },
          "shapedefaults": {
           "line": {
            "color": "#2a3f5f"
           }
          },
          "ternary": {
           "aaxis": {
            "gridcolor": "white",
            "linecolor": "white",
            "ticks": ""
           },
           "baxis": {
            "gridcolor": "white",
            "linecolor": "white",
            "ticks": ""
           },
           "bgcolor": "#E5ECF6",
           "caxis": {
            "gridcolor": "white",
            "linecolor": "white",
            "ticks": ""
           }
          },
          "title": {
           "x": 0.05
          },
          "xaxis": {
           "automargin": true,
           "gridcolor": "white",
           "linecolor": "white",
           "ticks": "",
           "title": {
            "standoff": 15
           },
           "zerolinecolor": "white",
           "zerolinewidth": 2
          },
          "yaxis": {
           "automargin": true,
           "gridcolor": "white",
           "linecolor": "white",
           "ticks": "",
           "title": {
            "standoff": 15
           },
           "zerolinecolor": "white",
           "zerolinewidth": 2
          }
         }
        },
        "xaxis": {
         "anchor": "y",
         "domain": [
          0,
          1
         ],
         "title": {
          "text": "pca1"
         }
        },
        "yaxis": {
         "anchor": "x",
         "domain": [
          0,
          1
         ],
         "title": {
          "text": "pca2"
         }
        }
       }
      },
      "text/html": [
       "<div>\n",
       "        \n",
       "        \n",
       "            <div id=\"0f07cda9-05c6-4ff0-b869-6df2294037bc\" class=\"plotly-graph-div\" style=\"height:525px; width:100%;\"></div>\n",
       "            <script type=\"text/javascript\">\n",
       "                require([\"plotly\"], function(Plotly) {\n",
       "                    window.PLOTLYENV=window.PLOTLYENV || {};\n",
       "                    \n",
       "                if (document.getElementById(\"0f07cda9-05c6-4ff0-b869-6df2294037bc\")) {\n",
       "                    Plotly.newPlot(\n",
       "                        '0f07cda9-05c6-4ff0-b869-6df2294037bc',\n",
       "                        [{\"hovertemplate\": \"<b>%{hovertext}</b><br><br>pca1=%{x}<br>pca2=%{y}<extra></extra>\", \"hovertext\": [\"Afghanistan\", \"Albania\", \"Algeria\", \"Andorra\", \"Angola\", \"Argentina\", \"Australia\", \"Austria\", \"Azerbaijan\", \"Bangladesh\", \"Barbados\", \"Belgium\", \"Belize\", \"Bolivia\", \"Bosnia and Herzegovina\", \"Botswana\", \"Brazil\", \"Brunei Darussalam\", \"Bulgaria\", \"Burkina Faso\", \"Burundi\", \"Cameroon\", \"Canada\", \"Chad\", \"Chile\", \"China\", \"Colombia\", \"Congo, Dem. Rep.\", \"Costa Rica\", \"Croatia\", \"Cuba\", \"Cyprus\", \"Czech Republic\", \"Denmark\", \"Djibouti\", \"Dominica\", \"Dominican Republic\", \"Ecuador\", \"Egypt, Arab Rep.\", \"El Salvador\", \"Estonia\", \"Eswatini\", \"Finland\", \"France\", \"Gabon\", \"Gambia, The\", \"Germany\", \"Ghana\", \"Greece\", \"Greenland\", \"Guatemala\", \"Guyana\", \"Honduras\", \"Hungary\", \"Iceland\", \"India\", \"Indonesia\", \"Iran, Islamic Rep.\", \"Iraq\", \"Ireland\", \"Israel\", \"Italy\", \"Jamaica\", \"Japan\", \"Jordan\", \"Kazakhstan\", \"Kenya\", \"Korea, Rep.\", \"Kosovo\", \"Kuwait\", \"Kyrgyz Republic\", \"Lao PDR\", \"Lebanon\", \"Libya\", \"Luxembourg\", \"Madagascar\", \"Malawi\", \"Malaysia\", \"Mali\", \"Mauritania\", \"Mauritius\", \"Mexico\", \"Moldova\", \"Mongolia\", \"Morocco\", \"Mozambique\", \"Namibia\", \"Netherlands\", \"New Zealand\", \"Nicaragua\", \"Niger\", \"Nigeria\", \"Norway\", \"Oman\", \"Pakistan\", \"Panama\", \"Papua New Guinea\", \"Paraguay\", \"Peru\", \"Philippines\", \"Poland\", \"Portugal\", \"Qatar\", \"Romania\", \"Russian Federation\", \"Rwanda\", \"San Marino\", \"Saudi Arabia\", \"Serbia\", \"Seychelles\", \"Sierra Leone\", \"Singapore\", \"Slovak Republic\", \"Slovenia\", \"South Africa\", \"South Sudan\", \"Spain\", \"Sri Lanka\", \"Sudan\", \"Sweden\", \"Switzerland\", \"Syrian Arab Republic\", \"United Rep. of Tanzania\", \"Thailand\", \"Trinidad and Tobago\", \"Tunisia\", \"Turkey\", \"Uganda\", \"Ukraine\", \"United Arab Emirates\", \"United Kingdom\", \"United States of America\", \"Uruguay\", \"Uzbekistan\", \"Venezuela, RB\", \"Vietnam\", \"Zambia\", \"Zimbabwe\"], \"legendgroup\": \"\", \"marker\": {\"color\": \"#636efa\", \"symbol\": \"circle\"}, \"mode\": \"markers\", \"name\": \"\", \"showlegend\": false, \"type\": \"scatter\", \"x\": [-0.5841435066445266, 0.2747030654764339, -0.20004344927742018, 0.36838771836138473, -0.6271921308737498, 0.14701717556394311, 0.3261808027105846, 0.4288956266599061, 0.02805343983152026, -0.04887272696855921, 0.38881047169851923, 0.4205556284515122, -0.27633181722997824, -0.26812665953645076, 0.48328511729861423, -0.19109704574780748, 0.04901149061834043, -0.021346717027405347, 0.4845672737545444, -0.6219585726178479, -0.6653677031907239, -0.5756225298857757, 0.4680704858029983, -0.6790886869553991, 0.08915342337237595, 0.4051276889856002, 0.11627574682721586, -0.5850290384590839, 0.08620579466178134, 0.5670351117767676, 0.38038327594082316, 0.228405570354387, 0.3948920614497405, 0.4081500264620619, -0.31838468172722817, -0.12310994847987906, -0.14635950202191503, -0.030364044988267468, -0.27685217762163034, -0.0031045825555294946, 0.3374368949218406, -0.4450699016425677, 0.4518356461557728, 0.5174341629408061, -0.4172377677611352, -0.7116496941396309, 0.6190336213136974, -0.36446768341703756, 0.4409512695910352, 0.3002669544603048, -0.19550706353159344, -0.09993800805345923, -0.27270216584167134, 0.4531886402154097, 0.2635142441510583, 0.08792876099920291, -0.017595393455127572, -0.057819812921440256, -0.4208542150396871, 0.1775776390404491, 0.0860949480672698, 0.7015096291552859, 0.07258976954241106, 0.7805064055399875, -0.3486955111351194, -0.16906339013541927, -0.4110559666447339, 0.5081212525651144, 0.3453468480553925, -0.018714549343904378, -0.31345481681830223, -0.3398735643252502, -0.018233189907985593, -0.14536364073617802, 0.2475381093601392, -0.5119445175541923, -0.619874623916947, 0.04418554241106827, -0.7379408879901032, -0.48193859602949324, 0.16038486803884827, -0.0811307888387999, 0.22651426970193378, -0.1308557826934556, -0.13721519209046948, -0.662853296571803, -0.4562372642502469, 0.3975467361407422, 0.32448810842741066, -0.39564008955832486, -0.7566733472442065, -0.4900161792606091, 0.3748211305530992, -0.07466187208508626, -0.27282166001523805, -0.025987143018632256, -0.3133681461148848, -0.09431016558283738, -0.052830276775064744, -0.13897776752453853, 0.5356085459811312, 0.6372874063615926, 0.07873493431308685, 0.5016568959115142, 0.34911562899853366, -0.36430470202048, 0.5042236150769615, -0.09710649055036247, 0.5000887399194683, 0.04396105710134189, -0.5424041845850479, 0.5072091156384315, 0.3670122080940161, 0.45900669222022794, -0.11563970235267867, -0.5011277444818821, 0.5161543206165479, 0.15552699244669324, -0.4335169981700198, 0.2934176899966383, 0.392883771259611, -0.1805619093997084, -0.6483229204695585, 0.2194925685113147, 0.18082858818957118, -0.00807282303298952, 0.09992099775996982, -0.5072645688343282, 0.3699064087724568, 0.025929466373103772, 0.38480207578158004, 0.46640660482504165, 0.10049796047640602, -0.09220739656169863, -0.1242814564670142, 0.13747345275694223, -0.657551599740027, -0.5717962343493643], \"xaxis\": \"x\", \"y\": [-0.10815387547118128, -0.2141539235524407, -0.04039944388216831, -0.6341789639147964, 0.0856648686295405, 0.31516170948362104, 0.07231534963289615, -0.2697094643408141, 0.17898686750390355, 0.4361574053222499, 0.07490117200697662, -0.10675483142322971, -0.17745661691991918, -0.3289862642685421, 0.025818697799374752, 0.4795243732851563, -0.14527679937775856, 0.15343467000337813, -0.2437187394625331, -0.11937871667279697, -0.11912162550207539, -0.1110082737801864, 0.11840536344134553, -0.13308827887098731, -0.38031498293402494, 0.6699524399362169, 0.3272348523247693, 0.06839285994665635, -0.0984261297455556, 0.0067426551043724735, 0.14120544806843843, -0.28935807106319406, -0.361704406175168, -0.25549405283162246, -0.3314930474812896, -0.33138923566926076, -0.14101636047810337, 0.27832007224669325, 0.019328567560410678, 0.1986359044634656, -0.5126469278132312, -0.06537825835191512, -0.35275414354495804, 0.12858756227861826, -0.052845488262481526, -0.417577956613437, 0.12912414062943772, 0.2587957545834769, -0.4414187910539253, -0.2621719535783753, 0.36229057247467644, 0.12868782691686664, -0.045092478301947035, -0.261803524097825, -0.03178366342276451, 0.8570010306612654, 0.33417074360706156, 0.0166147812297961, 0.04620281467207305, -0.16474197451175518, 0.18101515312375335, 0.18585989806484354, 0.16823950515398872, 0.16500899866191995, -0.07383534929195691, -0.23335311324912886, 0.33654826645482316, 0.17159942927678198, -0.3263848339401408, 0.32024133485848966, -0.15199483259469157, -0.1561841049847982, 0.10916319965765481, 0.2273767509684997, -0.33614884821145075, -0.12009498415718158, -0.14356707592438364, 0.2679203719716856, -0.3123195990697931, 0.03917586139012494, -0.3650388765496946, -0.023441986023721512, -0.26128449478293536, 0.3581733083129471, -0.2015010160928182, -0.27518234606118874, -0.15727078746494996, -0.3386112814385152, 0.04318474181166483, -0.6096351930116772, -0.21978418628348403, 0.32687057031832895, -0.019471933164681966, 0.38495260620397725, 0.2569195331655831, 0.12194894989795428, 0.22217592590868707, 0.2314866116454664, -0.0976351153536083, 0.2560120073481035, 0.20254310298798023, 0.1449281716622765, 0.456274614336396, 0.07935695203286937, 0.04650457647084659, 0.36731818205330574, -0.24622768852845942, 0.2803089120522963, 0.0930869976347245, 0.169107311197842, -0.1418435209653456, 0.38069338572469047, -0.17903853773799644, -0.28668094006605804, 0.2494877883323962, 0.009994387472066513, -0.03973419365345895, 0.21961181373424224, 0.13159496129654585, -0.4837201678634017, -0.3189802821696814, 0.2680735623537197, -0.24052107595121439, -0.21808452488998462, 0.0679191711133802, -0.1212130055363013, 0.3030290761565791, 0.48640338136613415, -0.23202047422390634, 0.3689160951103917, -0.06530466861294551, 0.11659310217673048, -0.5360729649330361, 0.38882532532627234, -0.1691981559328768, 0.4248588805062681, -0.1312533560484933, -0.1595305009717485], \"yaxis\": \"y\"}],\n",
       "                        {\"legend\": {\"tracegroupgap\": 0}, \"margin\": {\"t\": 60}, \"template\": {\"data\": {\"bar\": [{\"error_x\": {\"color\": \"#2a3f5f\"}, \"error_y\": {\"color\": \"#2a3f5f\"}, \"marker\": {\"line\": {\"color\": \"#E5ECF6\", \"width\": 0.5}}, \"type\": \"bar\"}], \"barpolar\": [{\"marker\": {\"line\": {\"color\": \"#E5ECF6\", \"width\": 0.5}}, \"type\": \"barpolar\"}], \"carpet\": [{\"aaxis\": {\"endlinecolor\": \"#2a3f5f\", \"gridcolor\": \"white\", \"linecolor\": \"white\", \"minorgridcolor\": \"white\", \"startlinecolor\": \"#2a3f5f\"}, \"baxis\": {\"endlinecolor\": \"#2a3f5f\", \"gridcolor\": \"white\", \"linecolor\": \"white\", \"minorgridcolor\": \"white\", \"startlinecolor\": \"#2a3f5f\"}, \"type\": \"carpet\"}], \"choropleth\": [{\"colorbar\": {\"outlinewidth\": 0, \"ticks\": \"\"}, \"type\": \"choropleth\"}], \"contour\": [{\"colorbar\": {\"outlinewidth\": 0, \"ticks\": \"\"}, \"colorscale\": [[0.0, \"#0d0887\"], [0.1111111111111111, \"#46039f\"], [0.2222222222222222, \"#7201a8\"], [0.3333333333333333, \"#9c179e\"], [0.4444444444444444, \"#bd3786\"], [0.5555555555555556, \"#d8576b\"], [0.6666666666666666, \"#ed7953\"], [0.7777777777777778, \"#fb9f3a\"], [0.8888888888888888, \"#fdca26\"], [1.0, \"#f0f921\"]], \"type\": \"contour\"}], \"contourcarpet\": [{\"colorbar\": {\"outlinewidth\": 0, \"ticks\": \"\"}, \"type\": \"contourcarpet\"}], \"heatmap\": [{\"colorbar\": {\"outlinewidth\": 0, \"ticks\": \"\"}, \"colorscale\": [[0.0, \"#0d0887\"], [0.1111111111111111, \"#46039f\"], [0.2222222222222222, \"#7201a8\"], [0.3333333333333333, \"#9c179e\"], [0.4444444444444444, \"#bd3786\"], [0.5555555555555556, \"#d8576b\"], [0.6666666666666666, \"#ed7953\"], [0.7777777777777778, \"#fb9f3a\"], [0.8888888888888888, \"#fdca26\"], [1.0, \"#f0f921\"]], \"type\": \"heatmap\"}], \"heatmapgl\": [{\"colorbar\": {\"outlinewidth\": 0, \"ticks\": \"\"}, \"colorscale\": [[0.0, \"#0d0887\"], [0.1111111111111111, \"#46039f\"], [0.2222222222222222, \"#7201a8\"], [0.3333333333333333, \"#9c179e\"], [0.4444444444444444, \"#bd3786\"], [0.5555555555555556, \"#d8576b\"], [0.6666666666666666, \"#ed7953\"], [0.7777777777777778, \"#fb9f3a\"], [0.8888888888888888, \"#fdca26\"], [1.0, \"#f0f921\"]], \"type\": \"heatmapgl\"}], \"histogram\": [{\"marker\": {\"colorbar\": {\"outlinewidth\": 0, \"ticks\": \"\"}}, \"type\": \"histogram\"}], \"histogram2d\": [{\"colorbar\": {\"outlinewidth\": 0, \"ticks\": \"\"}, \"colorscale\": [[0.0, \"#0d0887\"], [0.1111111111111111, \"#46039f\"], [0.2222222222222222, \"#7201a8\"], [0.3333333333333333, \"#9c179e\"], [0.4444444444444444, \"#bd3786\"], [0.5555555555555556, \"#d8576b\"], [0.6666666666666666, \"#ed7953\"], [0.7777777777777778, \"#fb9f3a\"], [0.8888888888888888, \"#fdca26\"], [1.0, \"#f0f921\"]], \"type\": \"histogram2d\"}], \"histogram2dcontour\": [{\"colorbar\": {\"outlinewidth\": 0, \"ticks\": \"\"}, \"colorscale\": [[0.0, \"#0d0887\"], [0.1111111111111111, \"#46039f\"], [0.2222222222222222, \"#7201a8\"], [0.3333333333333333, \"#9c179e\"], [0.4444444444444444, \"#bd3786\"], [0.5555555555555556, \"#d8576b\"], [0.6666666666666666, \"#ed7953\"], [0.7777777777777778, \"#fb9f3a\"], [0.8888888888888888, \"#fdca26\"], [1.0, \"#f0f921\"]], \"type\": \"histogram2dcontour\"}], \"mesh3d\": [{\"colorbar\": {\"outlinewidth\": 0, \"ticks\": \"\"}, \"type\": \"mesh3d\"}], \"parcoords\": [{\"line\": {\"colorbar\": {\"outlinewidth\": 0, \"ticks\": \"\"}}, \"type\": \"parcoords\"}], \"pie\": [{\"automargin\": true, \"type\": \"pie\"}], \"scatter\": [{\"marker\": {\"colorbar\": {\"outlinewidth\": 0, \"ticks\": \"\"}}, \"type\": \"scatter\"}], \"scatter3d\": [{\"line\": {\"colorbar\": {\"outlinewidth\": 0, \"ticks\": \"\"}}, \"marker\": {\"colorbar\": {\"outlinewidth\": 0, \"ticks\": \"\"}}, \"type\": \"scatter3d\"}], \"scattercarpet\": [{\"marker\": {\"colorbar\": {\"outlinewidth\": 0, \"ticks\": \"\"}}, \"type\": \"scattercarpet\"}], \"scattergeo\": [{\"marker\": {\"colorbar\": {\"outlinewidth\": 0, \"ticks\": \"\"}}, \"type\": \"scattergeo\"}], \"scattergl\": [{\"marker\": {\"colorbar\": {\"outlinewidth\": 0, \"ticks\": \"\"}}, \"type\": \"scattergl\"}], \"scattermapbox\": [{\"marker\": {\"colorbar\": {\"outlinewidth\": 0, \"ticks\": \"\"}}, \"type\": \"scattermapbox\"}], \"scatterpolar\": [{\"marker\": {\"colorbar\": {\"outlinewidth\": 0, \"ticks\": \"\"}}, \"type\": \"scatterpolar\"}], \"scatterpolargl\": [{\"marker\": {\"colorbar\": {\"outlinewidth\": 0, \"ticks\": \"\"}}, \"type\": \"scatterpolargl\"}], \"scatterternary\": [{\"marker\": {\"colorbar\": {\"outlinewidth\": 0, \"ticks\": \"\"}}, \"type\": \"scatterternary\"}], \"surface\": [{\"colorbar\": {\"outlinewidth\": 0, \"ticks\": \"\"}, \"colorscale\": [[0.0, \"#0d0887\"], [0.1111111111111111, \"#46039f\"], [0.2222222222222222, \"#7201a8\"], [0.3333333333333333, \"#9c179e\"], [0.4444444444444444, \"#bd3786\"], [0.5555555555555556, \"#d8576b\"], [0.6666666666666666, \"#ed7953\"], [0.7777777777777778, \"#fb9f3a\"], [0.8888888888888888, \"#fdca26\"], [1.0, \"#f0f921\"]], \"type\": \"surface\"}], \"table\": [{\"cells\": {\"fill\": {\"color\": \"#EBF0F8\"}, \"line\": {\"color\": \"white\"}}, \"header\": {\"fill\": {\"color\": \"#C8D4E3\"}, \"line\": {\"color\": \"white\"}}, \"type\": \"table\"}]}, \"layout\": {\"annotationdefaults\": {\"arrowcolor\": \"#2a3f5f\", \"arrowhead\": 0, \"arrowwidth\": 1}, \"coloraxis\": {\"colorbar\": {\"outlinewidth\": 0, \"ticks\": \"\"}}, \"colorscale\": {\"diverging\": [[0, \"#8e0152\"], [0.1, \"#c51b7d\"], [0.2, \"#de77ae\"], [0.3, \"#f1b6da\"], [0.4, \"#fde0ef\"], [0.5, \"#f7f7f7\"], [0.6, \"#e6f5d0\"], [0.7, \"#b8e186\"], [0.8, \"#7fbc41\"], [0.9, \"#4d9221\"], [1, \"#276419\"]], \"sequential\": [[0.0, \"#0d0887\"], [0.1111111111111111, \"#46039f\"], [0.2222222222222222, \"#7201a8\"], [0.3333333333333333, \"#9c179e\"], [0.4444444444444444, \"#bd3786\"], [0.5555555555555556, \"#d8576b\"], [0.6666666666666666, \"#ed7953\"], [0.7777777777777778, \"#fb9f3a\"], [0.8888888888888888, \"#fdca26\"], [1.0, \"#f0f921\"]], \"sequentialminus\": [[0.0, \"#0d0887\"], [0.1111111111111111, \"#46039f\"], [0.2222222222222222, \"#7201a8\"], [0.3333333333333333, \"#9c179e\"], [0.4444444444444444, \"#bd3786\"], [0.5555555555555556, \"#d8576b\"], [0.6666666666666666, \"#ed7953\"], [0.7777777777777778, \"#fb9f3a\"], [0.8888888888888888, \"#fdca26\"], [1.0, \"#f0f921\"]]}, \"colorway\": [\"#636efa\", \"#EF553B\", \"#00cc96\", \"#ab63fa\", \"#FFA15A\", \"#19d3f3\", \"#FF6692\", \"#B6E880\", \"#FF97FF\", \"#FECB52\"], \"font\": {\"color\": \"#2a3f5f\"}, \"geo\": {\"bgcolor\": \"white\", \"lakecolor\": \"white\", \"landcolor\": \"#E5ECF6\", \"showlakes\": true, \"showland\": true, \"subunitcolor\": \"white\"}, \"hoverlabel\": {\"align\": \"left\"}, \"hovermode\": \"closest\", \"mapbox\": {\"style\": \"light\"}, \"paper_bgcolor\": \"white\", \"plot_bgcolor\": \"#E5ECF6\", \"polar\": {\"angularaxis\": {\"gridcolor\": \"white\", \"linecolor\": \"white\", \"ticks\": \"\"}, \"bgcolor\": \"#E5ECF6\", \"radialaxis\": {\"gridcolor\": \"white\", \"linecolor\": \"white\", \"ticks\": \"\"}}, \"scene\": {\"xaxis\": {\"backgroundcolor\": \"#E5ECF6\", \"gridcolor\": \"white\", \"gridwidth\": 2, \"linecolor\": \"white\", \"showbackground\": true, \"ticks\": \"\", \"zerolinecolor\": \"white\"}, \"yaxis\": {\"backgroundcolor\": \"#E5ECF6\", \"gridcolor\": \"white\", \"gridwidth\": 2, \"linecolor\": \"white\", \"showbackground\": true, \"ticks\": \"\", \"zerolinecolor\": \"white\"}, \"zaxis\": {\"backgroundcolor\": \"#E5ECF6\", \"gridcolor\": \"white\", \"gridwidth\": 2, \"linecolor\": \"white\", \"showbackground\": true, \"ticks\": \"\", \"zerolinecolor\": \"white\"}}, \"shapedefaults\": {\"line\": {\"color\": \"#2a3f5f\"}}, \"ternary\": {\"aaxis\": {\"gridcolor\": \"white\", \"linecolor\": \"white\", \"ticks\": \"\"}, \"baxis\": {\"gridcolor\": \"white\", \"linecolor\": \"white\", \"ticks\": \"\"}, \"bgcolor\": \"#E5ECF6\", \"caxis\": {\"gridcolor\": \"white\", \"linecolor\": \"white\", \"ticks\": \"\"}}, \"title\": {\"x\": 0.05}, \"xaxis\": {\"automargin\": true, \"gridcolor\": \"white\", \"linecolor\": \"white\", \"ticks\": \"\", \"title\": {\"standoff\": 15}, \"zerolinecolor\": \"white\", \"zerolinewidth\": 2}, \"yaxis\": {\"automargin\": true, \"gridcolor\": \"white\", \"linecolor\": \"white\", \"ticks\": \"\", \"title\": {\"standoff\": 15}, \"zerolinecolor\": \"white\", \"zerolinewidth\": 2}}}, \"xaxis\": {\"anchor\": \"y\", \"domain\": [0.0, 1.0], \"title\": {\"text\": \"pca1\"}}, \"yaxis\": {\"anchor\": \"x\", \"domain\": [0.0, 1.0], \"title\": {\"text\": \"pca2\"}}},\n",
       "                        {\"responsive\": true}\n",
       "                    ).then(function(){\n",
       "                            \n",
       "var gd = document.getElementById('0f07cda9-05c6-4ff0-b869-6df2294037bc');\n",
       "var x = new MutationObserver(function (mutations, observer) {{\n",
       "        var display = window.getComputedStyle(gd).display;\n",
       "        if (!display || display === 'none') {{\n",
       "            console.log([gd, 'removed!']);\n",
       "            Plotly.purge(gd);\n",
       "            observer.disconnect();\n",
       "        }}\n",
       "}});\n",
       "\n",
       "// Listen for the removal of the full notebook cells\n",
       "var notebookContainer = gd.closest('#notebook-container');\n",
       "if (notebookContainer) {{\n",
       "    x.observe(notebookContainer, {childList: true});\n",
       "}}\n",
       "\n",
       "// Listen for the clearing of the current output cell\n",
       "var outputEl = gd.closest('.output');\n",
       "if (outputEl) {{\n",
       "    x.observe(outputEl, {childList: true});\n",
       "}}\n",
       "\n",
       "                        })\n",
       "                };\n",
       "                });\n",
       "            </script>\n",
       "        </div>"
      ]
     },
     "metadata": {},
     "output_type": "display_data"
    }
   ],
   "source": [
    "fig = px.scatter(dfX, x=\"pca1\", y=\"pca2\",\n",
    "                 hover_name=\"Country Name\")\n",
    "\n",
    "fig.show()"
   ]
  },
  {
   "cell_type": "code",
   "execution_count": 21,
   "metadata": {},
   "outputs": [
    {
     "data": {
      "application/vnd.plotly.v1+json": {
       "config": {
        "plotlyServerURL": "https://plot.ly"
       },
       "data": [
        {
         "hovertemplate": "<b>%{hovertext}</b><br><br>pca1=%{x}<br>pca2=%{y}<br>pca3=%{z}<extra></extra>",
         "hovertext": [
          "Afghanistan",
          "Albania",
          "Algeria",
          "Andorra",
          "Angola",
          "Argentina",
          "Australia",
          "Austria",
          "Azerbaijan",
          "Bangladesh",
          "Barbados",
          "Belgium",
          "Belize",
          "Bolivia",
          "Bosnia and Herzegovina",
          "Botswana",
          "Brazil",
          "Brunei Darussalam",
          "Bulgaria",
          "Burkina Faso",
          "Burundi",
          "Cameroon",
          "Canada",
          "Chad",
          "Chile",
          "China",
          "Colombia",
          "Congo, Dem. Rep.",
          "Costa Rica",
          "Croatia",
          "Cuba",
          "Cyprus",
          "Czech Republic",
          "Denmark",
          "Djibouti",
          "Dominica",
          "Dominican Republic",
          "Ecuador",
          "Egypt, Arab Rep.",
          "El Salvador",
          "Estonia",
          "Eswatini",
          "Finland",
          "France",
          "Gabon",
          "Gambia, The",
          "Germany",
          "Ghana",
          "Greece",
          "Greenland",
          "Guatemala",
          "Guyana",
          "Honduras",
          "Hungary",
          "Iceland",
          "India",
          "Indonesia",
          "Iran, Islamic Rep.",
          "Iraq",
          "Ireland",
          "Israel",
          "Italy",
          "Jamaica",
          "Japan",
          "Jordan",
          "Kazakhstan",
          "Kenya",
          "Korea, Rep.",
          "Kosovo",
          "Kuwait",
          "Kyrgyz Republic",
          "Lao PDR",
          "Lebanon",
          "Libya",
          "Luxembourg",
          "Madagascar",
          "Malawi",
          "Malaysia",
          "Mali",
          "Mauritania",
          "Mauritius",
          "Mexico",
          "Moldova",
          "Mongolia",
          "Morocco",
          "Mozambique",
          "Namibia",
          "Netherlands",
          "New Zealand",
          "Nicaragua",
          "Niger",
          "Nigeria",
          "Norway",
          "Oman",
          "Pakistan",
          "Panama",
          "Papua New Guinea",
          "Paraguay",
          "Peru",
          "Philippines",
          "Poland",
          "Portugal",
          "Qatar",
          "Romania",
          "Russian Federation",
          "Rwanda",
          "San Marino",
          "Saudi Arabia",
          "Serbia",
          "Seychelles",
          "Sierra Leone",
          "Singapore",
          "Slovak Republic",
          "Slovenia",
          "South Africa",
          "South Sudan",
          "Spain",
          "Sri Lanka",
          "Sudan",
          "Sweden",
          "Switzerland",
          "Syrian Arab Republic",
          "United Rep. of Tanzania",
          "Thailand",
          "Trinidad and Tobago",
          "Tunisia",
          "Turkey",
          "Uganda",
          "Ukraine",
          "United Arab Emirates",
          "United Kingdom",
          "United States of America",
          "Uruguay",
          "Uzbekistan",
          "Venezuela, RB",
          "Vietnam",
          "Zambia",
          "Zimbabwe"
         ],
         "legendgroup": "",
         "marker": {
          "color": "#636efa",
          "symbol": "circle"
         },
         "mode": "markers",
         "name": "",
         "scene": "scene",
         "showlegend": false,
         "type": "scatter3d",
         "x": [
          -0.5841435066445266,
          0.2747030654764339,
          -0.20004344927742018,
          0.36838771836138473,
          -0.6271921308737498,
          0.14701717556394311,
          0.3261808027105846,
          0.4288956266599061,
          0.02805343983152026,
          -0.04887272696855921,
          0.38881047169851923,
          0.4205556284515122,
          -0.27633181722997824,
          -0.26812665953645076,
          0.48328511729861423,
          -0.19109704574780748,
          0.04901149061834043,
          -0.021346717027405347,
          0.4845672737545444,
          -0.6219585726178479,
          -0.6653677031907239,
          -0.5756225298857757,
          0.4680704858029983,
          -0.6790886869553991,
          0.08915342337237595,
          0.4051276889856002,
          0.11627574682721586,
          -0.5850290384590839,
          0.08620579466178134,
          0.5670351117767676,
          0.38038327594082316,
          0.228405570354387,
          0.3948920614497405,
          0.4081500264620619,
          -0.31838468172722817,
          -0.12310994847987906,
          -0.14635950202191503,
          -0.030364044988267468,
          -0.27685217762163034,
          -0.0031045825555294946,
          0.3374368949218406,
          -0.4450699016425677,
          0.4518356461557728,
          0.5174341629408061,
          -0.4172377677611352,
          -0.7116496941396309,
          0.6190336213136974,
          -0.36446768341703756,
          0.4409512695910352,
          0.3002669544603048,
          -0.19550706353159344,
          -0.09993800805345923,
          -0.27270216584167134,
          0.4531886402154097,
          0.2635142441510583,
          0.08792876099920291,
          -0.017595393455127572,
          -0.057819812921440256,
          -0.4208542150396871,
          0.1775776390404491,
          0.0860949480672698,
          0.7015096291552859,
          0.07258976954241106,
          0.7805064055399875,
          -0.3486955111351194,
          -0.16906339013541927,
          -0.4110559666447339,
          0.5081212525651144,
          0.3453468480553925,
          -0.018714549343904378,
          -0.31345481681830223,
          -0.3398735643252502,
          -0.018233189907985593,
          -0.14536364073617802,
          0.2475381093601392,
          -0.5119445175541923,
          -0.619874623916947,
          0.04418554241106827,
          -0.7379408879901032,
          -0.48193859602949324,
          0.16038486803884827,
          -0.0811307888387999,
          0.22651426970193378,
          -0.1308557826934556,
          -0.13721519209046948,
          -0.662853296571803,
          -0.4562372642502469,
          0.3975467361407422,
          0.32448810842741066,
          -0.39564008955832486,
          -0.7566733472442065,
          -0.4900161792606091,
          0.3748211305530992,
          -0.07466187208508626,
          -0.27282166001523805,
          -0.025987143018632256,
          -0.3133681461148848,
          -0.09431016558283738,
          -0.052830276775064744,
          -0.13897776752453853,
          0.5356085459811312,
          0.6372874063615926,
          0.07873493431308685,
          0.5016568959115142,
          0.34911562899853366,
          -0.36430470202048,
          0.5042236150769615,
          -0.09710649055036247,
          0.5000887399194683,
          0.04396105710134189,
          -0.5424041845850479,
          0.5072091156384315,
          0.3670122080940161,
          0.45900669222022794,
          -0.11563970235267867,
          -0.5011277444818821,
          0.5161543206165479,
          0.15552699244669324,
          -0.4335169981700198,
          0.2934176899966383,
          0.392883771259611,
          -0.1805619093997084,
          -0.6483229204695585,
          0.2194925685113147,
          0.18082858818957118,
          -0.00807282303298952,
          0.09992099775996982,
          -0.5072645688343282,
          0.3699064087724568,
          0.025929466373103772,
          0.38480207578158004,
          0.46640660482504165,
          0.10049796047640602,
          -0.09220739656169863,
          -0.1242814564670142,
          0.13747345275694223,
          -0.657551599740027,
          -0.5717962343493643
         ],
         "y": [
          -0.10815387547118128,
          -0.2141539235524407,
          -0.04039944388216831,
          -0.6341789639147964,
          0.0856648686295405,
          0.31516170948362104,
          0.07231534963289615,
          -0.2697094643408141,
          0.17898686750390355,
          0.4361574053222499,
          0.07490117200697662,
          -0.10675483142322971,
          -0.17745661691991918,
          -0.3289862642685421,
          0.025818697799374752,
          0.4795243732851563,
          -0.14527679937775856,
          0.15343467000337813,
          -0.2437187394625331,
          -0.11937871667279697,
          -0.11912162550207539,
          -0.1110082737801864,
          0.11840536344134553,
          -0.13308827887098731,
          -0.38031498293402494,
          0.6699524399362169,
          0.3272348523247693,
          0.06839285994665635,
          -0.0984261297455556,
          0.0067426551043724735,
          0.14120544806843843,
          -0.28935807106319406,
          -0.361704406175168,
          -0.25549405283162246,
          -0.3314930474812896,
          -0.33138923566926076,
          -0.14101636047810337,
          0.27832007224669325,
          0.019328567560410678,
          0.1986359044634656,
          -0.5126469278132312,
          -0.06537825835191512,
          -0.35275414354495804,
          0.12858756227861826,
          -0.052845488262481526,
          -0.417577956613437,
          0.12912414062943772,
          0.2587957545834769,
          -0.4414187910539253,
          -0.2621719535783753,
          0.36229057247467644,
          0.12868782691686664,
          -0.045092478301947035,
          -0.261803524097825,
          -0.03178366342276451,
          0.8570010306612654,
          0.33417074360706156,
          0.0166147812297961,
          0.04620281467207305,
          -0.16474197451175518,
          0.18101515312375335,
          0.18585989806484354,
          0.16823950515398872,
          0.16500899866191995,
          -0.07383534929195691,
          -0.23335311324912886,
          0.33654826645482316,
          0.17159942927678198,
          -0.3263848339401408,
          0.32024133485848966,
          -0.15199483259469157,
          -0.1561841049847982,
          0.10916319965765481,
          0.2273767509684997,
          -0.33614884821145075,
          -0.12009498415718158,
          -0.14356707592438364,
          0.2679203719716856,
          -0.3123195990697931,
          0.03917586139012494,
          -0.3650388765496946,
          -0.023441986023721512,
          -0.26128449478293536,
          0.3581733083129471,
          -0.2015010160928182,
          -0.27518234606118874,
          -0.15727078746494996,
          -0.3386112814385152,
          0.04318474181166483,
          -0.6096351930116772,
          -0.21978418628348403,
          0.32687057031832895,
          -0.019471933164681966,
          0.38495260620397725,
          0.2569195331655831,
          0.12194894989795428,
          0.22217592590868707,
          0.2314866116454664,
          -0.0976351153536083,
          0.2560120073481035,
          0.20254310298798023,
          0.1449281716622765,
          0.456274614336396,
          0.07935695203286937,
          0.04650457647084659,
          0.36731818205330574,
          -0.24622768852845942,
          0.2803089120522963,
          0.0930869976347245,
          0.169107311197842,
          -0.1418435209653456,
          0.38069338572469047,
          -0.17903853773799644,
          -0.28668094006605804,
          0.2494877883323962,
          0.009994387472066513,
          -0.03973419365345895,
          0.21961181373424224,
          0.13159496129654585,
          -0.4837201678634017,
          -0.3189802821696814,
          0.2680735623537197,
          -0.24052107595121439,
          -0.21808452488998462,
          0.0679191711133802,
          -0.1212130055363013,
          0.3030290761565791,
          0.48640338136613415,
          -0.23202047422390634,
          0.3689160951103917,
          -0.06530466861294551,
          0.11659310217673048,
          -0.5360729649330361,
          0.38882532532627234,
          -0.1691981559328768,
          0.4248588805062681,
          -0.1312533560484933,
          -0.1595305009717485
         ],
         "z": [
          0.05604791810804267,
          0.018628857019932936,
          -0.0023758301558767735,
          0.0987368417372763,
          -0.03178596472599956,
          -0.15471230023495638,
          -0.06954286527893648,
          0.0055565528067675445,
          -0.1308614104531752,
          -0.015822784036855567,
          -0.16357505068828512,
          -0.03575715194912851,
          0.014992545879144899,
          0.0850091549559065,
          -0.11296940732592498,
          -0.2562772833890011,
          0.2753962066271325,
          -0.11231282044116987,
          -0.026799542440646952,
          0.04900839084376617,
          0.01709425685904505,
          0.042084213265260656,
          -0.11737699652083933,
          0.04544648911017177,
          0.06497113175485361,
          1.6645591860514464,
          -0.1738983347856597,
          0.05716318007363168,
          -0.04121166424510852,
          -0.10019787030280886,
          -0.18400781018186166,
          0.006165973216627713,
          0.05978517831856298,
          0.00588865683779328,
          0.05336637539253442,
          0.053132924050535685,
          -0.00555521524700746,
          -0.15437834953168678,
          0.0748313145214748,
          -0.1120474304618106,
          0.05579418735904451,
          -0.026045022212856383,
          0.028335714858461397,
          0.005933689572570476,
          0.0335135087844517,
          0.0958300854122799,
          -0.020610327620175218,
          -0.12249540232056763,
          0.03009990094616279,
          0.09419961838826756,
          -0.1196027601007904,
          -0.15870202657123642,
          -0.04719273524683837,
          -0.016668139502142285,
          -0.12243368883198731,
          1.304253750113104,
          0.17558241804347408,
          0.06426589858008004,
          0.014680682300636013,
          -0.020871662095924406,
          -0.10451543293254678,
          -0.007681485418990348,
          -0.12759803415064633,
          0.025856273831082317,
          -0.003969854009109474,
          0.03461559682485506,
          -0.12530242225898638,
          -0.05059724547396759,
          0.04652933711049038,
          -0.16108833728809036,
          0.007784563013354022,
          -0.012734301825645314,
          -0.06579368781223546,
          -0.1292846192583874,
          0.03804121841179715,
          0.05357850356391716,
          0.04036899401421709,
          -0.1005967618110739,
          0.09763319465330418,
          -0.06982631444748282,
          0.013013115372992209,
          0.10531371551278007,
          0.0032061075416206807,
          -0.08734503409641349,
          0.03495684797690881,
          0.10084530538304705,
          0.017947495787886406,
          0.04813684913609349,
          -0.11879328060639369,
          0.18416573408792464,
          0.08889075077060855,
          0.07217320032284345,
          -0.08769436527735346,
          -0.20539237150248618,
          0.14156597489759742,
          -0.11026892287364254,
          -0.12721052785241846,
          -0.13168994108231072,
          0.016431251389088953,
          0.023751602831117515,
          -0.1530464015626899,
          -0.19562933200874535,
          -0.22093717456206752,
          -0.13477826324818176,
          0.05784361343446423,
          -0.1390156162886131,
          0.010488492110208907,
          -0.09700428256641398,
          -0.13975450683735627,
          -0.1709658345552306,
          0.002745463207584705,
          -0.30527404452045165,
          -0.03219628358950808,
          0.0022941873695523254,
          -0.07566363305281357,
          -0.022109255637748234,
          0.029428184652986918,
          -0.13095174413347907,
          -0.04291822610676717,
          0.06401453153649081,
          0.0431243803778282,
          -0.14271903095679386,
          0.13092442399323376,
          0.05823984566530365,
          -0.1342750996117305,
          0.0005402475523039489,
          -0.04837255100659453,
          -0.1386380114609541,
          0.061129324865333526,
          -0.20916165387848107,
          0.033796726046356425,
          0.7039448548800769,
          0.11080287833341697,
          -0.1829332614497589,
          0.043376307940779534,
          -0.06359897504709165,
          0.03426850558618279,
          0.03129156718484104
         ]
        }
       ],
       "layout": {
        "legend": {
         "tracegroupgap": 0
        },
        "margin": {
         "t": 60
        },
        "scene": {
         "domain": {
          "x": [
           0,
           1
          ],
          "y": [
           0,
           1
          ]
         },
         "xaxis": {
          "title": {
           "text": "pca1"
          }
         },
         "yaxis": {
          "title": {
           "text": "pca2"
          }
         },
         "zaxis": {
          "title": {
           "text": "pca3"
          }
         }
        },
        "template": {
         "data": {
          "bar": [
           {
            "error_x": {
             "color": "#2a3f5f"
            },
            "error_y": {
             "color": "#2a3f5f"
            },
            "marker": {
             "line": {
              "color": "#E5ECF6",
              "width": 0.5
             }
            },
            "type": "bar"
           }
          ],
          "barpolar": [
           {
            "marker": {
             "line": {
              "color": "#E5ECF6",
              "width": 0.5
             }
            },
            "type": "barpolar"
           }
          ],
          "carpet": [
           {
            "aaxis": {
             "endlinecolor": "#2a3f5f",
             "gridcolor": "white",
             "linecolor": "white",
             "minorgridcolor": "white",
             "startlinecolor": "#2a3f5f"
            },
            "baxis": {
             "endlinecolor": "#2a3f5f",
             "gridcolor": "white",
             "linecolor": "white",
             "minorgridcolor": "white",
             "startlinecolor": "#2a3f5f"
            },
            "type": "carpet"
           }
          ],
          "choropleth": [
           {
            "colorbar": {
             "outlinewidth": 0,
             "ticks": ""
            },
            "type": "choropleth"
           }
          ],
          "contour": [
           {
            "colorbar": {
             "outlinewidth": 0,
             "ticks": ""
            },
            "colorscale": [
             [
              0,
              "#0d0887"
             ],
             [
              0.1111111111111111,
              "#46039f"
             ],
             [
              0.2222222222222222,
              "#7201a8"
             ],
             [
              0.3333333333333333,
              "#9c179e"
             ],
             [
              0.4444444444444444,
              "#bd3786"
             ],
             [
              0.5555555555555556,
              "#d8576b"
             ],
             [
              0.6666666666666666,
              "#ed7953"
             ],
             [
              0.7777777777777778,
              "#fb9f3a"
             ],
             [
              0.8888888888888888,
              "#fdca26"
             ],
             [
              1,
              "#f0f921"
             ]
            ],
            "type": "contour"
           }
          ],
          "contourcarpet": [
           {
            "colorbar": {
             "outlinewidth": 0,
             "ticks": ""
            },
            "type": "contourcarpet"
           }
          ],
          "heatmap": [
           {
            "colorbar": {
             "outlinewidth": 0,
             "ticks": ""
            },
            "colorscale": [
             [
              0,
              "#0d0887"
             ],
             [
              0.1111111111111111,
              "#46039f"
             ],
             [
              0.2222222222222222,
              "#7201a8"
             ],
             [
              0.3333333333333333,
              "#9c179e"
             ],
             [
              0.4444444444444444,
              "#bd3786"
             ],
             [
              0.5555555555555556,
              "#d8576b"
             ],
             [
              0.6666666666666666,
              "#ed7953"
             ],
             [
              0.7777777777777778,
              "#fb9f3a"
             ],
             [
              0.8888888888888888,
              "#fdca26"
             ],
             [
              1,
              "#f0f921"
             ]
            ],
            "type": "heatmap"
           }
          ],
          "heatmapgl": [
           {
            "colorbar": {
             "outlinewidth": 0,
             "ticks": ""
            },
            "colorscale": [
             [
              0,
              "#0d0887"
             ],
             [
              0.1111111111111111,
              "#46039f"
             ],
             [
              0.2222222222222222,
              "#7201a8"
             ],
             [
              0.3333333333333333,
              "#9c179e"
             ],
             [
              0.4444444444444444,
              "#bd3786"
             ],
             [
              0.5555555555555556,
              "#d8576b"
             ],
             [
              0.6666666666666666,
              "#ed7953"
             ],
             [
              0.7777777777777778,
              "#fb9f3a"
             ],
             [
              0.8888888888888888,
              "#fdca26"
             ],
             [
              1,
              "#f0f921"
             ]
            ],
            "type": "heatmapgl"
           }
          ],
          "histogram": [
           {
            "marker": {
             "colorbar": {
              "outlinewidth": 0,
              "ticks": ""
             }
            },
            "type": "histogram"
           }
          ],
          "histogram2d": [
           {
            "colorbar": {
             "outlinewidth": 0,
             "ticks": ""
            },
            "colorscale": [
             [
              0,
              "#0d0887"
             ],
             [
              0.1111111111111111,
              "#46039f"
             ],
             [
              0.2222222222222222,
              "#7201a8"
             ],
             [
              0.3333333333333333,
              "#9c179e"
             ],
             [
              0.4444444444444444,
              "#bd3786"
             ],
             [
              0.5555555555555556,
              "#d8576b"
             ],
             [
              0.6666666666666666,
              "#ed7953"
             ],
             [
              0.7777777777777778,
              "#fb9f3a"
             ],
             [
              0.8888888888888888,
              "#fdca26"
             ],
             [
              1,
              "#f0f921"
             ]
            ],
            "type": "histogram2d"
           }
          ],
          "histogram2dcontour": [
           {
            "colorbar": {
             "outlinewidth": 0,
             "ticks": ""
            },
            "colorscale": [
             [
              0,
              "#0d0887"
             ],
             [
              0.1111111111111111,
              "#46039f"
             ],
             [
              0.2222222222222222,
              "#7201a8"
             ],
             [
              0.3333333333333333,
              "#9c179e"
             ],
             [
              0.4444444444444444,
              "#bd3786"
             ],
             [
              0.5555555555555556,
              "#d8576b"
             ],
             [
              0.6666666666666666,
              "#ed7953"
             ],
             [
              0.7777777777777778,
              "#fb9f3a"
             ],
             [
              0.8888888888888888,
              "#fdca26"
             ],
             [
              1,
              "#f0f921"
             ]
            ],
            "type": "histogram2dcontour"
           }
          ],
          "mesh3d": [
           {
            "colorbar": {
             "outlinewidth": 0,
             "ticks": ""
            },
            "type": "mesh3d"
           }
          ],
          "parcoords": [
           {
            "line": {
             "colorbar": {
              "outlinewidth": 0,
              "ticks": ""
             }
            },
            "type": "parcoords"
           }
          ],
          "pie": [
           {
            "automargin": true,
            "type": "pie"
           }
          ],
          "scatter": [
           {
            "marker": {
             "colorbar": {
              "outlinewidth": 0,
              "ticks": ""
             }
            },
            "type": "scatter"
           }
          ],
          "scatter3d": [
           {
            "line": {
             "colorbar": {
              "outlinewidth": 0,
              "ticks": ""
             }
            },
            "marker": {
             "colorbar": {
              "outlinewidth": 0,
              "ticks": ""
             }
            },
            "type": "scatter3d"
           }
          ],
          "scattercarpet": [
           {
            "marker": {
             "colorbar": {
              "outlinewidth": 0,
              "ticks": ""
             }
            },
            "type": "scattercarpet"
           }
          ],
          "scattergeo": [
           {
            "marker": {
             "colorbar": {
              "outlinewidth": 0,
              "ticks": ""
             }
            },
            "type": "scattergeo"
           }
          ],
          "scattergl": [
           {
            "marker": {
             "colorbar": {
              "outlinewidth": 0,
              "ticks": ""
             }
            },
            "type": "scattergl"
           }
          ],
          "scattermapbox": [
           {
            "marker": {
             "colorbar": {
              "outlinewidth": 0,
              "ticks": ""
             }
            },
            "type": "scattermapbox"
           }
          ],
          "scatterpolar": [
           {
            "marker": {
             "colorbar": {
              "outlinewidth": 0,
              "ticks": ""
             }
            },
            "type": "scatterpolar"
           }
          ],
          "scatterpolargl": [
           {
            "marker": {
             "colorbar": {
              "outlinewidth": 0,
              "ticks": ""
             }
            },
            "type": "scatterpolargl"
           }
          ],
          "scatterternary": [
           {
            "marker": {
             "colorbar": {
              "outlinewidth": 0,
              "ticks": ""
             }
            },
            "type": "scatterternary"
           }
          ],
          "surface": [
           {
            "colorbar": {
             "outlinewidth": 0,
             "ticks": ""
            },
            "colorscale": [
             [
              0,
              "#0d0887"
             ],
             [
              0.1111111111111111,
              "#46039f"
             ],
             [
              0.2222222222222222,
              "#7201a8"
             ],
             [
              0.3333333333333333,
              "#9c179e"
             ],
             [
              0.4444444444444444,
              "#bd3786"
             ],
             [
              0.5555555555555556,
              "#d8576b"
             ],
             [
              0.6666666666666666,
              "#ed7953"
             ],
             [
              0.7777777777777778,
              "#fb9f3a"
             ],
             [
              0.8888888888888888,
              "#fdca26"
             ],
             [
              1,
              "#f0f921"
             ]
            ],
            "type": "surface"
           }
          ],
          "table": [
           {
            "cells": {
             "fill": {
              "color": "#EBF0F8"
             },
             "line": {
              "color": "white"
             }
            },
            "header": {
             "fill": {
              "color": "#C8D4E3"
             },
             "line": {
              "color": "white"
             }
            },
            "type": "table"
           }
          ]
         },
         "layout": {
          "annotationdefaults": {
           "arrowcolor": "#2a3f5f",
           "arrowhead": 0,
           "arrowwidth": 1
          },
          "coloraxis": {
           "colorbar": {
            "outlinewidth": 0,
            "ticks": ""
           }
          },
          "colorscale": {
           "diverging": [
            [
             0,
             "#8e0152"
            ],
            [
             0.1,
             "#c51b7d"
            ],
            [
             0.2,
             "#de77ae"
            ],
            [
             0.3,
             "#f1b6da"
            ],
            [
             0.4,
             "#fde0ef"
            ],
            [
             0.5,
             "#f7f7f7"
            ],
            [
             0.6,
             "#e6f5d0"
            ],
            [
             0.7,
             "#b8e186"
            ],
            [
             0.8,
             "#7fbc41"
            ],
            [
             0.9,
             "#4d9221"
            ],
            [
             1,
             "#276419"
            ]
           ],
           "sequential": [
            [
             0,
             "#0d0887"
            ],
            [
             0.1111111111111111,
             "#46039f"
            ],
            [
             0.2222222222222222,
             "#7201a8"
            ],
            [
             0.3333333333333333,
             "#9c179e"
            ],
            [
             0.4444444444444444,
             "#bd3786"
            ],
            [
             0.5555555555555556,
             "#d8576b"
            ],
            [
             0.6666666666666666,
             "#ed7953"
            ],
            [
             0.7777777777777778,
             "#fb9f3a"
            ],
            [
             0.8888888888888888,
             "#fdca26"
            ],
            [
             1,
             "#f0f921"
            ]
           ],
           "sequentialminus": [
            [
             0,
             "#0d0887"
            ],
            [
             0.1111111111111111,
             "#46039f"
            ],
            [
             0.2222222222222222,
             "#7201a8"
            ],
            [
             0.3333333333333333,
             "#9c179e"
            ],
            [
             0.4444444444444444,
             "#bd3786"
            ],
            [
             0.5555555555555556,
             "#d8576b"
            ],
            [
             0.6666666666666666,
             "#ed7953"
            ],
            [
             0.7777777777777778,
             "#fb9f3a"
            ],
            [
             0.8888888888888888,
             "#fdca26"
            ],
            [
             1,
             "#f0f921"
            ]
           ]
          },
          "colorway": [
           "#636efa",
           "#EF553B",
           "#00cc96",
           "#ab63fa",
           "#FFA15A",
           "#19d3f3",
           "#FF6692",
           "#B6E880",
           "#FF97FF",
           "#FECB52"
          ],
          "font": {
           "color": "#2a3f5f"
          },
          "geo": {
           "bgcolor": "white",
           "lakecolor": "white",
           "landcolor": "#E5ECF6",
           "showlakes": true,
           "showland": true,
           "subunitcolor": "white"
          },
          "hoverlabel": {
           "align": "left"
          },
          "hovermode": "closest",
          "mapbox": {
           "style": "light"
          },
          "paper_bgcolor": "white",
          "plot_bgcolor": "#E5ECF6",
          "polar": {
           "angularaxis": {
            "gridcolor": "white",
            "linecolor": "white",
            "ticks": ""
           },
           "bgcolor": "#E5ECF6",
           "radialaxis": {
            "gridcolor": "white",
            "linecolor": "white",
            "ticks": ""
           }
          },
          "scene": {
           "xaxis": {
            "backgroundcolor": "#E5ECF6",
            "gridcolor": "white",
            "gridwidth": 2,
            "linecolor": "white",
            "showbackground": true,
            "ticks": "",
            "zerolinecolor": "white"
           },
           "yaxis": {
            "backgroundcolor": "#E5ECF6",
            "gridcolor": "white",
            "gridwidth": 2,
            "linecolor": "white",
            "showbackground": true,
            "ticks": "",
            "zerolinecolor": "white"
           },
           "zaxis": {
            "backgroundcolor": "#E5ECF6",
            "gridcolor": "white",
            "gridwidth": 2,
            "linecolor": "white",
            "showbackground": true,
            "ticks": "",
            "zerolinecolor": "white"
           }
          },
          "shapedefaults": {
           "line": {
            "color": "#2a3f5f"
           }
          },
          "ternary": {
           "aaxis": {
            "gridcolor": "white",
            "linecolor": "white",
            "ticks": ""
           },
           "baxis": {
            "gridcolor": "white",
            "linecolor": "white",
            "ticks": ""
           },
           "bgcolor": "#E5ECF6",
           "caxis": {
            "gridcolor": "white",
            "linecolor": "white",
            "ticks": ""
           }
          },
          "title": {
           "x": 0.05
          },
          "xaxis": {
           "automargin": true,
           "gridcolor": "white",
           "linecolor": "white",
           "ticks": "",
           "title": {
            "standoff": 15
           },
           "zerolinecolor": "white",
           "zerolinewidth": 2
          },
          "yaxis": {
           "automargin": true,
           "gridcolor": "white",
           "linecolor": "white",
           "ticks": "",
           "title": {
            "standoff": 15
           },
           "zerolinecolor": "white",
           "zerolinewidth": 2
          }
         }
        }
       }
      },
      "text/html": [
       "<div>\n",
       "        \n",
       "        \n",
       "            <div id=\"e539d5dc-76dc-45f0-85bb-a197c4471d91\" class=\"plotly-graph-div\" style=\"height:525px; width:100%;\"></div>\n",
       "            <script type=\"text/javascript\">\n",
       "                require([\"plotly\"], function(Plotly) {\n",
       "                    window.PLOTLYENV=window.PLOTLYENV || {};\n",
       "                    \n",
       "                if (document.getElementById(\"e539d5dc-76dc-45f0-85bb-a197c4471d91\")) {\n",
       "                    Plotly.newPlot(\n",
       "                        'e539d5dc-76dc-45f0-85bb-a197c4471d91',\n",
       "                        [{\"hovertemplate\": \"<b>%{hovertext}</b><br><br>pca1=%{x}<br>pca2=%{y}<br>pca3=%{z}<extra></extra>\", \"hovertext\": [\"Afghanistan\", \"Albania\", \"Algeria\", \"Andorra\", \"Angola\", \"Argentina\", \"Australia\", \"Austria\", \"Azerbaijan\", \"Bangladesh\", \"Barbados\", \"Belgium\", \"Belize\", \"Bolivia\", \"Bosnia and Herzegovina\", \"Botswana\", \"Brazil\", \"Brunei Darussalam\", \"Bulgaria\", \"Burkina Faso\", \"Burundi\", \"Cameroon\", \"Canada\", \"Chad\", \"Chile\", \"China\", \"Colombia\", \"Congo, Dem. Rep.\", \"Costa Rica\", \"Croatia\", \"Cuba\", \"Cyprus\", \"Czech Republic\", \"Denmark\", \"Djibouti\", \"Dominica\", \"Dominican Republic\", \"Ecuador\", \"Egypt, Arab Rep.\", \"El Salvador\", \"Estonia\", \"Eswatini\", \"Finland\", \"France\", \"Gabon\", \"Gambia, The\", \"Germany\", \"Ghana\", \"Greece\", \"Greenland\", \"Guatemala\", \"Guyana\", \"Honduras\", \"Hungary\", \"Iceland\", \"India\", \"Indonesia\", \"Iran, Islamic Rep.\", \"Iraq\", \"Ireland\", \"Israel\", \"Italy\", \"Jamaica\", \"Japan\", \"Jordan\", \"Kazakhstan\", \"Kenya\", \"Korea, Rep.\", \"Kosovo\", \"Kuwait\", \"Kyrgyz Republic\", \"Lao PDR\", \"Lebanon\", \"Libya\", \"Luxembourg\", \"Madagascar\", \"Malawi\", \"Malaysia\", \"Mali\", \"Mauritania\", \"Mauritius\", \"Mexico\", \"Moldova\", \"Mongolia\", \"Morocco\", \"Mozambique\", \"Namibia\", \"Netherlands\", \"New Zealand\", \"Nicaragua\", \"Niger\", \"Nigeria\", \"Norway\", \"Oman\", \"Pakistan\", \"Panama\", \"Papua New Guinea\", \"Paraguay\", \"Peru\", \"Philippines\", \"Poland\", \"Portugal\", \"Qatar\", \"Romania\", \"Russian Federation\", \"Rwanda\", \"San Marino\", \"Saudi Arabia\", \"Serbia\", \"Seychelles\", \"Sierra Leone\", \"Singapore\", \"Slovak Republic\", \"Slovenia\", \"South Africa\", \"South Sudan\", \"Spain\", \"Sri Lanka\", \"Sudan\", \"Sweden\", \"Switzerland\", \"Syrian Arab Republic\", \"United Rep. of Tanzania\", \"Thailand\", \"Trinidad and Tobago\", \"Tunisia\", \"Turkey\", \"Uganda\", \"Ukraine\", \"United Arab Emirates\", \"United Kingdom\", \"United States of America\", \"Uruguay\", \"Uzbekistan\", \"Venezuela, RB\", \"Vietnam\", \"Zambia\", \"Zimbabwe\"], \"legendgroup\": \"\", \"marker\": {\"color\": \"#636efa\", \"symbol\": \"circle\"}, \"mode\": \"markers\", \"name\": \"\", \"scene\": \"scene\", \"showlegend\": false, \"type\": \"scatter3d\", \"x\": [-0.5841435066445266, 0.2747030654764339, -0.20004344927742018, 0.36838771836138473, -0.6271921308737498, 0.14701717556394311, 0.3261808027105846, 0.4288956266599061, 0.02805343983152026, -0.04887272696855921, 0.38881047169851923, 0.4205556284515122, -0.27633181722997824, -0.26812665953645076, 0.48328511729861423, -0.19109704574780748, 0.04901149061834043, -0.021346717027405347, 0.4845672737545444, -0.6219585726178479, -0.6653677031907239, -0.5756225298857757, 0.4680704858029983, -0.6790886869553991, 0.08915342337237595, 0.4051276889856002, 0.11627574682721586, -0.5850290384590839, 0.08620579466178134, 0.5670351117767676, 0.38038327594082316, 0.228405570354387, 0.3948920614497405, 0.4081500264620619, -0.31838468172722817, -0.12310994847987906, -0.14635950202191503, -0.030364044988267468, -0.27685217762163034, -0.0031045825555294946, 0.3374368949218406, -0.4450699016425677, 0.4518356461557728, 0.5174341629408061, -0.4172377677611352, -0.7116496941396309, 0.6190336213136974, -0.36446768341703756, 0.4409512695910352, 0.3002669544603048, -0.19550706353159344, -0.09993800805345923, -0.27270216584167134, 0.4531886402154097, 0.2635142441510583, 0.08792876099920291, -0.017595393455127572, -0.057819812921440256, -0.4208542150396871, 0.1775776390404491, 0.0860949480672698, 0.7015096291552859, 0.07258976954241106, 0.7805064055399875, -0.3486955111351194, -0.16906339013541927, -0.4110559666447339, 0.5081212525651144, 0.3453468480553925, -0.018714549343904378, -0.31345481681830223, -0.3398735643252502, -0.018233189907985593, -0.14536364073617802, 0.2475381093601392, -0.5119445175541923, -0.619874623916947, 0.04418554241106827, -0.7379408879901032, -0.48193859602949324, 0.16038486803884827, -0.0811307888387999, 0.22651426970193378, -0.1308557826934556, -0.13721519209046948, -0.662853296571803, -0.4562372642502469, 0.3975467361407422, 0.32448810842741066, -0.39564008955832486, -0.7566733472442065, -0.4900161792606091, 0.3748211305530992, -0.07466187208508626, -0.27282166001523805, -0.025987143018632256, -0.3133681461148848, -0.09431016558283738, -0.052830276775064744, -0.13897776752453853, 0.5356085459811312, 0.6372874063615926, 0.07873493431308685, 0.5016568959115142, 0.34911562899853366, -0.36430470202048, 0.5042236150769615, -0.09710649055036247, 0.5000887399194683, 0.04396105710134189, -0.5424041845850479, 0.5072091156384315, 0.3670122080940161, 0.45900669222022794, -0.11563970235267867, -0.5011277444818821, 0.5161543206165479, 0.15552699244669324, -0.4335169981700198, 0.2934176899966383, 0.392883771259611, -0.1805619093997084, -0.6483229204695585, 0.2194925685113147, 0.18082858818957118, -0.00807282303298952, 0.09992099775996982, -0.5072645688343282, 0.3699064087724568, 0.025929466373103772, 0.38480207578158004, 0.46640660482504165, 0.10049796047640602, -0.09220739656169863, -0.1242814564670142, 0.13747345275694223, -0.657551599740027, -0.5717962343493643], \"y\": [-0.10815387547118128, -0.2141539235524407, -0.04039944388216831, -0.6341789639147964, 0.0856648686295405, 0.31516170948362104, 0.07231534963289615, -0.2697094643408141, 0.17898686750390355, 0.4361574053222499, 0.07490117200697662, -0.10675483142322971, -0.17745661691991918, -0.3289862642685421, 0.025818697799374752, 0.4795243732851563, -0.14527679937775856, 0.15343467000337813, -0.2437187394625331, -0.11937871667279697, -0.11912162550207539, -0.1110082737801864, 0.11840536344134553, -0.13308827887098731, -0.38031498293402494, 0.6699524399362169, 0.3272348523247693, 0.06839285994665635, -0.0984261297455556, 0.0067426551043724735, 0.14120544806843843, -0.28935807106319406, -0.361704406175168, -0.25549405283162246, -0.3314930474812896, -0.33138923566926076, -0.14101636047810337, 0.27832007224669325, 0.019328567560410678, 0.1986359044634656, -0.5126469278132312, -0.06537825835191512, -0.35275414354495804, 0.12858756227861826, -0.052845488262481526, -0.417577956613437, 0.12912414062943772, 0.2587957545834769, -0.4414187910539253, -0.2621719535783753, 0.36229057247467644, 0.12868782691686664, -0.045092478301947035, -0.261803524097825, -0.03178366342276451, 0.8570010306612654, 0.33417074360706156, 0.0166147812297961, 0.04620281467207305, -0.16474197451175518, 0.18101515312375335, 0.18585989806484354, 0.16823950515398872, 0.16500899866191995, -0.07383534929195691, -0.23335311324912886, 0.33654826645482316, 0.17159942927678198, -0.3263848339401408, 0.32024133485848966, -0.15199483259469157, -0.1561841049847982, 0.10916319965765481, 0.2273767509684997, -0.33614884821145075, -0.12009498415718158, -0.14356707592438364, 0.2679203719716856, -0.3123195990697931, 0.03917586139012494, -0.3650388765496946, -0.023441986023721512, -0.26128449478293536, 0.3581733083129471, -0.2015010160928182, -0.27518234606118874, -0.15727078746494996, -0.3386112814385152, 0.04318474181166483, -0.6096351930116772, -0.21978418628348403, 0.32687057031832895, -0.019471933164681966, 0.38495260620397725, 0.2569195331655831, 0.12194894989795428, 0.22217592590868707, 0.2314866116454664, -0.0976351153536083, 0.2560120073481035, 0.20254310298798023, 0.1449281716622765, 0.456274614336396, 0.07935695203286937, 0.04650457647084659, 0.36731818205330574, -0.24622768852845942, 0.2803089120522963, 0.0930869976347245, 0.169107311197842, -0.1418435209653456, 0.38069338572469047, -0.17903853773799644, -0.28668094006605804, 0.2494877883323962, 0.009994387472066513, -0.03973419365345895, 0.21961181373424224, 0.13159496129654585, -0.4837201678634017, -0.3189802821696814, 0.2680735623537197, -0.24052107595121439, -0.21808452488998462, 0.0679191711133802, -0.1212130055363013, 0.3030290761565791, 0.48640338136613415, -0.23202047422390634, 0.3689160951103917, -0.06530466861294551, 0.11659310217673048, -0.5360729649330361, 0.38882532532627234, -0.1691981559328768, 0.4248588805062681, -0.1312533560484933, -0.1595305009717485], \"z\": [0.05604791810804267, 0.018628857019932936, -0.0023758301558767735, 0.0987368417372763, -0.03178596472599956, -0.15471230023495638, -0.06954286527893648, 0.0055565528067675445, -0.1308614104531752, -0.015822784036855567, -0.16357505068828512, -0.03575715194912851, 0.014992545879144899, 0.0850091549559065, -0.11296940732592498, -0.2562772833890011, 0.2753962066271325, -0.11231282044116987, -0.026799542440646952, 0.04900839084376617, 0.01709425685904505, 0.042084213265260656, -0.11737699652083933, 0.04544648911017177, 0.06497113175485361, 1.6645591860514464, -0.1738983347856597, 0.05716318007363168, -0.04121166424510852, -0.10019787030280886, -0.18400781018186166, 0.006165973216627713, 0.05978517831856298, 0.00588865683779328, 0.05336637539253442, 0.053132924050535685, -0.00555521524700746, -0.15437834953168678, 0.0748313145214748, -0.1120474304618106, 0.05579418735904451, -0.026045022212856383, 0.028335714858461397, 0.005933689572570476, 0.0335135087844517, 0.0958300854122799, -0.020610327620175218, -0.12249540232056763, 0.03009990094616279, 0.09419961838826756, -0.1196027601007904, -0.15870202657123642, -0.04719273524683837, -0.016668139502142285, -0.12243368883198731, 1.304253750113104, 0.17558241804347408, 0.06426589858008004, 0.014680682300636013, -0.020871662095924406, -0.10451543293254678, -0.007681485418990348, -0.12759803415064633, 0.025856273831082317, -0.003969854009109474, 0.03461559682485506, -0.12530242225898638, -0.05059724547396759, 0.04652933711049038, -0.16108833728809036, 0.007784563013354022, -0.012734301825645314, -0.06579368781223546, -0.1292846192583874, 0.03804121841179715, 0.05357850356391716, 0.04036899401421709, -0.1005967618110739, 0.09763319465330418, -0.06982631444748282, 0.013013115372992209, 0.10531371551278007, 0.0032061075416206807, -0.08734503409641349, 0.03495684797690881, 0.10084530538304705, 0.017947495787886406, 0.04813684913609349, -0.11879328060639369, 0.18416573408792464, 0.08889075077060855, 0.07217320032284345, -0.08769436527735346, -0.20539237150248618, 0.14156597489759742, -0.11026892287364254, -0.12721052785241846, -0.13168994108231072, 0.016431251389088953, 0.023751602831117515, -0.1530464015626899, -0.19562933200874535, -0.22093717456206752, -0.13477826324818176, 0.05784361343446423, -0.1390156162886131, 0.010488492110208907, -0.09700428256641398, -0.13975450683735627, -0.1709658345552306, 0.002745463207584705, -0.30527404452045165, -0.03219628358950808, 0.0022941873695523254, -0.07566363305281357, -0.022109255637748234, 0.029428184652986918, -0.13095174413347907, -0.04291822610676717, 0.06401453153649081, 0.0431243803778282, -0.14271903095679386, 0.13092442399323376, 0.05823984566530365, -0.1342750996117305, 0.0005402475523039489, -0.04837255100659453, -0.1386380114609541, 0.061129324865333526, -0.20916165387848107, 0.033796726046356425, 0.7039448548800769, 0.11080287833341697, -0.1829332614497589, 0.043376307940779534, -0.06359897504709165, 0.03426850558618279, 0.03129156718484104]}],\n",
       "                        {\"legend\": {\"tracegroupgap\": 0}, \"margin\": {\"t\": 60}, \"scene\": {\"domain\": {\"x\": [0.0, 1.0], \"y\": [0.0, 1.0]}, \"xaxis\": {\"title\": {\"text\": \"pca1\"}}, \"yaxis\": {\"title\": {\"text\": \"pca2\"}}, \"zaxis\": {\"title\": {\"text\": \"pca3\"}}}, \"template\": {\"data\": {\"bar\": [{\"error_x\": {\"color\": \"#2a3f5f\"}, \"error_y\": {\"color\": \"#2a3f5f\"}, \"marker\": {\"line\": {\"color\": \"#E5ECF6\", \"width\": 0.5}}, \"type\": \"bar\"}], \"barpolar\": [{\"marker\": {\"line\": {\"color\": \"#E5ECF6\", \"width\": 0.5}}, \"type\": \"barpolar\"}], \"carpet\": [{\"aaxis\": {\"endlinecolor\": \"#2a3f5f\", \"gridcolor\": \"white\", \"linecolor\": \"white\", \"minorgridcolor\": \"white\", \"startlinecolor\": \"#2a3f5f\"}, \"baxis\": {\"endlinecolor\": \"#2a3f5f\", \"gridcolor\": \"white\", \"linecolor\": \"white\", \"minorgridcolor\": \"white\", \"startlinecolor\": \"#2a3f5f\"}, \"type\": \"carpet\"}], \"choropleth\": [{\"colorbar\": {\"outlinewidth\": 0, \"ticks\": \"\"}, \"type\": \"choropleth\"}], \"contour\": [{\"colorbar\": {\"outlinewidth\": 0, \"ticks\": \"\"}, \"colorscale\": [[0.0, \"#0d0887\"], [0.1111111111111111, \"#46039f\"], [0.2222222222222222, \"#7201a8\"], [0.3333333333333333, \"#9c179e\"], [0.4444444444444444, \"#bd3786\"], [0.5555555555555556, \"#d8576b\"], [0.6666666666666666, \"#ed7953\"], [0.7777777777777778, \"#fb9f3a\"], [0.8888888888888888, \"#fdca26\"], [1.0, \"#f0f921\"]], \"type\": \"contour\"}], \"contourcarpet\": [{\"colorbar\": {\"outlinewidth\": 0, \"ticks\": \"\"}, \"type\": \"contourcarpet\"}], \"heatmap\": [{\"colorbar\": {\"outlinewidth\": 0, \"ticks\": \"\"}, \"colorscale\": [[0.0, \"#0d0887\"], [0.1111111111111111, \"#46039f\"], [0.2222222222222222, \"#7201a8\"], [0.3333333333333333, \"#9c179e\"], [0.4444444444444444, \"#bd3786\"], [0.5555555555555556, \"#d8576b\"], [0.6666666666666666, \"#ed7953\"], [0.7777777777777778, \"#fb9f3a\"], [0.8888888888888888, \"#fdca26\"], [1.0, \"#f0f921\"]], \"type\": \"heatmap\"}], \"heatmapgl\": [{\"colorbar\": {\"outlinewidth\": 0, \"ticks\": \"\"}, \"colorscale\": [[0.0, \"#0d0887\"], [0.1111111111111111, \"#46039f\"], [0.2222222222222222, \"#7201a8\"], [0.3333333333333333, \"#9c179e\"], [0.4444444444444444, \"#bd3786\"], [0.5555555555555556, \"#d8576b\"], [0.6666666666666666, \"#ed7953\"], [0.7777777777777778, \"#fb9f3a\"], [0.8888888888888888, \"#fdca26\"], [1.0, \"#f0f921\"]], \"type\": \"heatmapgl\"}], \"histogram\": [{\"marker\": {\"colorbar\": {\"outlinewidth\": 0, \"ticks\": \"\"}}, \"type\": \"histogram\"}], \"histogram2d\": [{\"colorbar\": {\"outlinewidth\": 0, \"ticks\": \"\"}, \"colorscale\": [[0.0, \"#0d0887\"], [0.1111111111111111, \"#46039f\"], [0.2222222222222222, \"#7201a8\"], [0.3333333333333333, \"#9c179e\"], [0.4444444444444444, \"#bd3786\"], [0.5555555555555556, \"#d8576b\"], [0.6666666666666666, \"#ed7953\"], [0.7777777777777778, \"#fb9f3a\"], [0.8888888888888888, \"#fdca26\"], [1.0, \"#f0f921\"]], \"type\": \"histogram2d\"}], \"histogram2dcontour\": [{\"colorbar\": {\"outlinewidth\": 0, \"ticks\": \"\"}, \"colorscale\": [[0.0, \"#0d0887\"], [0.1111111111111111, \"#46039f\"], [0.2222222222222222, \"#7201a8\"], [0.3333333333333333, \"#9c179e\"], [0.4444444444444444, \"#bd3786\"], [0.5555555555555556, \"#d8576b\"], [0.6666666666666666, \"#ed7953\"], [0.7777777777777778, \"#fb9f3a\"], [0.8888888888888888, \"#fdca26\"], [1.0, \"#f0f921\"]], \"type\": \"histogram2dcontour\"}], \"mesh3d\": [{\"colorbar\": {\"outlinewidth\": 0, \"ticks\": \"\"}, \"type\": \"mesh3d\"}], \"parcoords\": [{\"line\": {\"colorbar\": {\"outlinewidth\": 0, \"ticks\": \"\"}}, \"type\": \"parcoords\"}], \"pie\": [{\"automargin\": true, \"type\": \"pie\"}], \"scatter\": [{\"marker\": {\"colorbar\": {\"outlinewidth\": 0, \"ticks\": \"\"}}, \"type\": \"scatter\"}], \"scatter3d\": [{\"line\": {\"colorbar\": {\"outlinewidth\": 0, \"ticks\": \"\"}}, \"marker\": {\"colorbar\": {\"outlinewidth\": 0, \"ticks\": \"\"}}, \"type\": \"scatter3d\"}], \"scattercarpet\": [{\"marker\": {\"colorbar\": {\"outlinewidth\": 0, \"ticks\": \"\"}}, \"type\": \"scattercarpet\"}], \"scattergeo\": [{\"marker\": {\"colorbar\": {\"outlinewidth\": 0, \"ticks\": \"\"}}, \"type\": \"scattergeo\"}], \"scattergl\": [{\"marker\": {\"colorbar\": {\"outlinewidth\": 0, \"ticks\": \"\"}}, \"type\": \"scattergl\"}], \"scattermapbox\": [{\"marker\": {\"colorbar\": {\"outlinewidth\": 0, \"ticks\": \"\"}}, \"type\": \"scattermapbox\"}], \"scatterpolar\": [{\"marker\": {\"colorbar\": {\"outlinewidth\": 0, \"ticks\": \"\"}}, \"type\": \"scatterpolar\"}], \"scatterpolargl\": [{\"marker\": {\"colorbar\": {\"outlinewidth\": 0, \"ticks\": \"\"}}, \"type\": \"scatterpolargl\"}], \"scatterternary\": [{\"marker\": {\"colorbar\": {\"outlinewidth\": 0, \"ticks\": \"\"}}, \"type\": \"scatterternary\"}], \"surface\": [{\"colorbar\": {\"outlinewidth\": 0, \"ticks\": \"\"}, \"colorscale\": [[0.0, \"#0d0887\"], [0.1111111111111111, \"#46039f\"], [0.2222222222222222, \"#7201a8\"], [0.3333333333333333, \"#9c179e\"], [0.4444444444444444, \"#bd3786\"], [0.5555555555555556, \"#d8576b\"], [0.6666666666666666, \"#ed7953\"], [0.7777777777777778, \"#fb9f3a\"], [0.8888888888888888, \"#fdca26\"], [1.0, \"#f0f921\"]], \"type\": \"surface\"}], \"table\": [{\"cells\": {\"fill\": {\"color\": \"#EBF0F8\"}, \"line\": {\"color\": \"white\"}}, \"header\": {\"fill\": {\"color\": \"#C8D4E3\"}, \"line\": {\"color\": \"white\"}}, \"type\": \"table\"}]}, \"layout\": {\"annotationdefaults\": {\"arrowcolor\": \"#2a3f5f\", \"arrowhead\": 0, \"arrowwidth\": 1}, \"coloraxis\": {\"colorbar\": {\"outlinewidth\": 0, \"ticks\": \"\"}}, \"colorscale\": {\"diverging\": [[0, \"#8e0152\"], [0.1, \"#c51b7d\"], [0.2, \"#de77ae\"], [0.3, \"#f1b6da\"], [0.4, \"#fde0ef\"], [0.5, \"#f7f7f7\"], [0.6, \"#e6f5d0\"], [0.7, \"#b8e186\"], [0.8, \"#7fbc41\"], [0.9, \"#4d9221\"], [1, \"#276419\"]], \"sequential\": [[0.0, \"#0d0887\"], [0.1111111111111111, \"#46039f\"], [0.2222222222222222, \"#7201a8\"], [0.3333333333333333, \"#9c179e\"], [0.4444444444444444, \"#bd3786\"], [0.5555555555555556, \"#d8576b\"], [0.6666666666666666, \"#ed7953\"], [0.7777777777777778, \"#fb9f3a\"], [0.8888888888888888, \"#fdca26\"], [1.0, \"#f0f921\"]], \"sequentialminus\": [[0.0, \"#0d0887\"], [0.1111111111111111, \"#46039f\"], [0.2222222222222222, \"#7201a8\"], [0.3333333333333333, \"#9c179e\"], [0.4444444444444444, \"#bd3786\"], [0.5555555555555556, \"#d8576b\"], [0.6666666666666666, \"#ed7953\"], [0.7777777777777778, \"#fb9f3a\"], [0.8888888888888888, \"#fdca26\"], [1.0, \"#f0f921\"]]}, \"colorway\": [\"#636efa\", \"#EF553B\", \"#00cc96\", \"#ab63fa\", \"#FFA15A\", \"#19d3f3\", \"#FF6692\", \"#B6E880\", \"#FF97FF\", \"#FECB52\"], \"font\": {\"color\": \"#2a3f5f\"}, \"geo\": {\"bgcolor\": \"white\", \"lakecolor\": \"white\", \"landcolor\": \"#E5ECF6\", \"showlakes\": true, \"showland\": true, \"subunitcolor\": \"white\"}, \"hoverlabel\": {\"align\": \"left\"}, \"hovermode\": \"closest\", \"mapbox\": {\"style\": \"light\"}, \"paper_bgcolor\": \"white\", \"plot_bgcolor\": \"#E5ECF6\", \"polar\": {\"angularaxis\": {\"gridcolor\": \"white\", \"linecolor\": \"white\", \"ticks\": \"\"}, \"bgcolor\": \"#E5ECF6\", \"radialaxis\": {\"gridcolor\": \"white\", \"linecolor\": \"white\", \"ticks\": \"\"}}, \"scene\": {\"xaxis\": {\"backgroundcolor\": \"#E5ECF6\", \"gridcolor\": \"white\", \"gridwidth\": 2, \"linecolor\": \"white\", \"showbackground\": true, \"ticks\": \"\", \"zerolinecolor\": \"white\"}, \"yaxis\": {\"backgroundcolor\": \"#E5ECF6\", \"gridcolor\": \"white\", \"gridwidth\": 2, \"linecolor\": \"white\", \"showbackground\": true, \"ticks\": \"\", \"zerolinecolor\": \"white\"}, \"zaxis\": {\"backgroundcolor\": \"#E5ECF6\", \"gridcolor\": \"white\", \"gridwidth\": 2, \"linecolor\": \"white\", \"showbackground\": true, \"ticks\": \"\", \"zerolinecolor\": \"white\"}}, \"shapedefaults\": {\"line\": {\"color\": \"#2a3f5f\"}}, \"ternary\": {\"aaxis\": {\"gridcolor\": \"white\", \"linecolor\": \"white\", \"ticks\": \"\"}, \"baxis\": {\"gridcolor\": \"white\", \"linecolor\": \"white\", \"ticks\": \"\"}, \"bgcolor\": \"#E5ECF6\", \"caxis\": {\"gridcolor\": \"white\", \"linecolor\": \"white\", \"ticks\": \"\"}}, \"title\": {\"x\": 0.05}, \"xaxis\": {\"automargin\": true, \"gridcolor\": \"white\", \"linecolor\": \"white\", \"ticks\": \"\", \"title\": {\"standoff\": 15}, \"zerolinecolor\": \"white\", \"zerolinewidth\": 2}, \"yaxis\": {\"automargin\": true, \"gridcolor\": \"white\", \"linecolor\": \"white\", \"ticks\": \"\", \"title\": {\"standoff\": 15}, \"zerolinecolor\": \"white\", \"zerolinewidth\": 2}}}},\n",
       "                        {\"responsive\": true}\n",
       "                    ).then(function(){\n",
       "                            \n",
       "var gd = document.getElementById('e539d5dc-76dc-45f0-85bb-a197c4471d91');\n",
       "var x = new MutationObserver(function (mutations, observer) {{\n",
       "        var display = window.getComputedStyle(gd).display;\n",
       "        if (!display || display === 'none') {{\n",
       "            console.log([gd, 'removed!']);\n",
       "            Plotly.purge(gd);\n",
       "            observer.disconnect();\n",
       "        }}\n",
       "}});\n",
       "\n",
       "// Listen for the removal of the full notebook cells\n",
       "var notebookContainer = gd.closest('#notebook-container');\n",
       "if (notebookContainer) {{\n",
       "    x.observe(notebookContainer, {childList: true});\n",
       "}}\n",
       "\n",
       "// Listen for the clearing of the current output cell\n",
       "var outputEl = gd.closest('.output');\n",
       "if (outputEl) {{\n",
       "    x.observe(outputEl, {childList: true});\n",
       "}}\n",
       "\n",
       "                        })\n",
       "                };\n",
       "                });\n",
       "            </script>\n",
       "        </div>"
      ]
     },
     "metadata": {},
     "output_type": "display_data"
    }
   ],
   "source": [
    "fig = px.scatter_3d(dfX, x='pca1', y='pca2', z='pca3',hover_name='Country Name')\n",
    "fig.show()"
   ]
  },
  {
   "cell_type": "code",
   "execution_count": 59,
   "metadata": {},
   "outputs": [],
   "source": [
    "tsne = TSNE(n_components=3, verbose=0, perplexity=30, n_iter=300)\n",
    "tsne_results = tsne.fit_transform(X)"
   ]
  },
  {
   "cell_type": "code",
   "execution_count": 60,
   "metadata": {},
   "outputs": [],
   "source": [
    "dfX['first']=tsne_results[:,0]\n",
    "dfX['second']=tsne_results[:,1]\n",
    "dfX['third']=tsne_results[:,2]"
   ]
  },
  {
   "cell_type": "code",
   "execution_count": 58,
   "metadata": {},
   "outputs": [
    {
     "data": {
      "application/vnd.plotly.v1+json": {
       "config": {
        "plotlyServerURL": "https://plot.ly"
       },
       "data": [
        {
         "hovertemplate": "<b>%{hovertext}</b><br><br>first=%{x}<br>second=%{y}<extra></extra>",
         "hovertext": [
          "Afghanistan",
          "Albania",
          "Algeria",
          "Andorra",
          "Angola",
          "Argentina",
          "Australia",
          "Austria",
          "Azerbaijan",
          "Bangladesh",
          "Barbados",
          "Belgium",
          "Belize",
          "Bolivia",
          "Bosnia and Herzegovina",
          "Botswana",
          "Brazil",
          "Brunei Darussalam",
          "Bulgaria",
          "Burkina Faso",
          "Burundi",
          "Cameroon",
          "Canada",
          "Chad",
          "Chile",
          "China",
          "Colombia",
          "Congo, Dem. Rep.",
          "Costa Rica",
          "Croatia",
          "Cuba",
          "Cyprus",
          "Czech Republic",
          "Denmark",
          "Djibouti",
          "Dominica",
          "Dominican Republic",
          "Ecuador",
          "Egypt, Arab Rep.",
          "El Salvador",
          "Estonia",
          "Eswatini",
          "Finland",
          "France",
          "Gabon",
          "Gambia, The",
          "Germany",
          "Ghana",
          "Greece",
          "Greenland",
          "Guatemala",
          "Guyana",
          "Honduras",
          "Hungary",
          "Iceland",
          "India",
          "Indonesia",
          "Iran, Islamic Rep.",
          "Iraq",
          "Ireland",
          "Israel",
          "Italy",
          "Jamaica",
          "Japan",
          "Jordan",
          "Kazakhstan",
          "Kenya",
          "Korea, Rep.",
          "Kosovo",
          "Kuwait",
          "Kyrgyz Republic",
          "Lao PDR",
          "Lebanon",
          "Libya",
          "Luxembourg",
          "Madagascar",
          "Malawi",
          "Malaysia",
          "Mali",
          "Mauritania",
          "Mauritius",
          "Mexico",
          "Moldova",
          "Mongolia",
          "Morocco",
          "Mozambique",
          "Namibia",
          "Netherlands",
          "New Zealand",
          "Nicaragua",
          "Niger",
          "Nigeria",
          "Norway",
          "Oman",
          "Pakistan",
          "Panama",
          "Papua New Guinea",
          "Paraguay",
          "Peru",
          "Philippines",
          "Poland",
          "Portugal",
          "Qatar",
          "Romania",
          "Russian Federation",
          "Rwanda",
          "San Marino",
          "Saudi Arabia",
          "Serbia",
          "Seychelles",
          "Sierra Leone",
          "Singapore",
          "Slovak Republic",
          "Slovenia",
          "South Africa",
          "South Sudan",
          "Spain",
          "Sri Lanka",
          "Sudan",
          "Sweden",
          "Switzerland",
          "Syrian Arab Republic",
          "United Rep. of Tanzania",
          "Thailand",
          "Trinidad and Tobago",
          "Tunisia",
          "Turkey",
          "Uganda",
          "Ukraine",
          "United Arab Emirates",
          "United Kingdom",
          "United States of America",
          "Uruguay",
          "Uzbekistan",
          "Venezuela, RB",
          "Vietnam",
          "Zambia",
          "Zimbabwe"
         ],
         "legendgroup": "",
         "marker": {
          "color": "#636efa",
          "symbol": "circle"
         },
         "mode": "markers",
         "name": "",
         "showlegend": false,
         "type": "scatter",
         "x": [
          -16.436416625976562,
          15.21166706085205,
          -9.003201484680176,
          18.6834774017334,
          -17.6873779296875,
          -0.12030364573001862,
          6.3373847007751465,
          15.578749656677246,
          -0.7505268454551697,
          -5.882606029510498,
          7.069000720977783,
          12.57065486907959,
          -10.064908027648926,
          -9.961560249328613,
          11.5122652053833,
          -5.817965030670166,
          7.140652179718018,
          -1.3149313926696777,
          13.733537673950195,
          -14.492598533630371,
          -20.38591766357422,
          -15.873004913330078,
          7.699493885040283,
          -17.635093688964844,
          15.951168060302734,
          1.2884714603424072,
          1.1461549997329712,
          -15.328145980834961,
          -0.8862358331680298,
          11.701704025268555,
          8.184029579162598,
          15.250606536865234,
          16.959739685058594,
          15.19842529296875,
          -11.004508018493652,
          -8.252326965332031,
          -8.894683837890625,
          -3.5603880882263184,
          -10.009119033813477,
          -2.549394369125366,
          17.976367950439453,
          -15.044830322265625,
          16.154205322265625,
          11.316645622253418,
          -13.307462692260742,
          -15.956069946289062,
          7.730932235717773,
          -13.11906909942627,
          18.70703125,
          11.975635528564453,
          -6.828022003173828,
          1.0442218780517578,
          -10.221982955932617,
          14.731809616088867,
          5.414440631866455,
          1.5548815727233887,
          -3.835902690887451,
          -5.595263481140137,
          -12.46117115020752,
          13.661606788635254,
          -1.8180431127548218,
          12.192272186279297,
          -2.1291723251342773,
          8.68505573272705,
          -11.288641929626465,
          -8.88661003112793,
          -13.411737442016602,
          9.534441947937012,
          16.8940486907959,
          -8.163853645324707,
          -11.258234977722168,
          -8.823100090026855,
          -3.1181089878082275,
          -4.57246732711792,
          16.168872833251953,
          -12.76269817352295,
          -18.698209762573242,
          -3.312725067138672,
          -16.380428314208984,
          -18.54128074645996,
          15.029556274414062,
          -5.993393421173096,
          14.827333450317383,
          -5.8432745933532715,
          -7.441170692443848,
          -17.605714797973633,
          -16.4229793548584,
          16.793861389160156,
          10.421907424926758,
          -19.664079666137695,
          -18.85149574279785,
          -13.695025444030762,
          11.016667366027832,
          -9.224576950073242,
          -8.60834789276123,
          -2.7779572010040283,
          -9.56755256652832,
          -3.855046510696411,
          -7.151122093200684,
          -5.190328121185303,
          8.866766929626465,
          9.274653434753418,
          -2.642235517501831,
          9.483969688415527,
          7.84731388092041,
          -8.268449783325195,
          16.48076820373535,
          -7.180228233337402,
          10.522515296936035,
          0.3748248219490051,
          -13.876822471618652,
          5.8727498054504395,
          13.699810028076172,
          16.200834274291992,
          -4.995696544647217,
          -13.946293830871582,
          12.983908653259277,
          -1.0148733854293823,
          -10.922624588012695,
          19.526710510253906,
          17.186065673828125,
          -6.000222682952881,
          -19.01485252380371,
          13.456764221191406,
          5.0338544845581055,
          -2.263462543487549,
          -1.51193106174469,
          -10.996874809265137,
          17.91582489013672,
          -10.006951332092285,
          6.844202041625977,
          5.65789794921875,
          17.57724380493164,
          -4.596604824066162,
          -7.762503147125244,
          -2.2014291286468506,
          -19.821203231811523,
          -13.183052062988281
         ],
         "xaxis": "x",
         "y": [
          -1.9503482580184937,
          -3.647993326187134,
          -1.8651447296142578,
          -6.419869422912598,
          -2.526371479034424,
          4.3813629150390625,
          -1.5653722286224365,
          -1.549591302871704,
          2.2723870277404785,
          3.5266501903533936,
          -0.25321316719055176,
          -1.3584660291671753,
          -4.253365516662598,
          -5.69387674331665,
          -0.2677036225795746,
          7.260321140289307,
          6.641721725463867,
          -0.11692944169044495,
          -1.5274889469146729,
          -1.6743314266204834,
          -2.8165106773376465,
          -5.149499416351318,
          0.9618996977806091,
          -3.965941905975342,
          -7.258266448974609,
          -0.19276154041290283,
          3.927232265472412,
          -3.1222829818725586,
          9.52270221710205,
          0.7088809013366699,
          -0.2126983106136322,
          -5.960874080657959,
          -1.9704030752182007,
          -0.6984989047050476,
          -6.992671489715576,
          -6.237685680389404,
          -3.439558982849121,
          5.040215015411377,
          -0.7594451904296875,
          2.8048057556152344,
          2.504352331161499,
          -4.466486930847168,
          -2.41690731048584,
          2.1935343742370605,
          1.044013261795044,
          -7.849595546722412,
          2.1662709712982178,
          5.947972774505615,
          -5.023876190185547,
          -6.707726955413818,
          2.5604937076568604,
          6.114616870880127,
          -2.441464424133301,
          -2.0283138751983643,
          -2.277308225631714,
          -0.44136714935302734,
          0.17986442148685455,
          -2.720398187637329,
          0.5568593740463257,
          -4.644085884094238,
          5.266749382019043,
          3.0476980209350586,
          1.7898553609848022,
          -4.211976051330566,
          -1.7450188398361206,
          -4.7342610359191895,
          6.815214157104492,
          -1.48191499710083,
          -1.1811153888702393,
          5.863781452178955,
          -4.127782821655273,
          8.306732177734375,
          7.814074516296387,
          3.394789695739746,
          -5.369387626647949,
          -1.1889106035232544,
          -3.517430067062378,
          2.068387508392334,
          0.5708394646644592,
          -1.6353139877319336,
          -8.110830307006836,
          -4.253530979156494,
          -5.052453517913818,
          0.9074148535728455,
          -5.322787761688232,
          -5.700265407562256,
          -4.4465227127075195,
          -3.9495670795440674,
          -0.2292514145374298,
          7.80613899230957,
          -5.984085559844971,
          -6.269075870513916,
          -1.760202169418335,
          5.36068058013916,
          1.0046483278274536,
          4.027771949768066,
          2.5185816287994385,
          3.8681321144104004,
          -2.737884283065796,
          2.1400251388549805,
          1.4394874572753906,
          2.774975299835205,
          -2.8260600566864014,
          0.6398457288742065,
          -1.4967552423477173,
          3.089972972869873,
          0.8968123197555542,
          5.066312313079834,
          1.2651805877685547,
          2.6542153358459473,
          -1.0073957443237305,
          2.4800925254821777,
          -3.167398691177368,
          -0.32608357071876526,
          4.7417755126953125,
          -3.177128553390503,
          1.4103902578353882,
          5.019864559173584,
          0.940072238445282,
          -5.855823516845703,
          -3.5799098014831543,
          4.690930366516113,
          -8.938343048095703,
          -6.284139633178711,
          -0.36509913206100464,
          9.514970779418945,
          3.6487700939178467,
          7.240910053253174,
          -0.5820046067237854,
          5.016543865203857,
          -2.9277801513671875,
          -5.122890949249268,
          -7.66534948348999,
          6.058254718780518,
          -4.0275468826293945,
          6.8628644943237305,
          -3.9340627193450928,
          -2.1210594177246094
         ],
         "yaxis": "y"
        }
       ],
       "layout": {
        "legend": {
         "tracegroupgap": 0
        },
        "margin": {
         "t": 60
        },
        "template": {
         "data": {
          "bar": [
           {
            "error_x": {
             "color": "#2a3f5f"
            },
            "error_y": {
             "color": "#2a3f5f"
            },
            "marker": {
             "line": {
              "color": "#E5ECF6",
              "width": 0.5
             }
            },
            "type": "bar"
           }
          ],
          "barpolar": [
           {
            "marker": {
             "line": {
              "color": "#E5ECF6",
              "width": 0.5
             }
            },
            "type": "barpolar"
           }
          ],
          "carpet": [
           {
            "aaxis": {
             "endlinecolor": "#2a3f5f",
             "gridcolor": "white",
             "linecolor": "white",
             "minorgridcolor": "white",
             "startlinecolor": "#2a3f5f"
            },
            "baxis": {
             "endlinecolor": "#2a3f5f",
             "gridcolor": "white",
             "linecolor": "white",
             "minorgridcolor": "white",
             "startlinecolor": "#2a3f5f"
            },
            "type": "carpet"
           }
          ],
          "choropleth": [
           {
            "colorbar": {
             "outlinewidth": 0,
             "ticks": ""
            },
            "type": "choropleth"
           }
          ],
          "contour": [
           {
            "colorbar": {
             "outlinewidth": 0,
             "ticks": ""
            },
            "colorscale": [
             [
              0,
              "#0d0887"
             ],
             [
              0.1111111111111111,
              "#46039f"
             ],
             [
              0.2222222222222222,
              "#7201a8"
             ],
             [
              0.3333333333333333,
              "#9c179e"
             ],
             [
              0.4444444444444444,
              "#bd3786"
             ],
             [
              0.5555555555555556,
              "#d8576b"
             ],
             [
              0.6666666666666666,
              "#ed7953"
             ],
             [
              0.7777777777777778,
              "#fb9f3a"
             ],
             [
              0.8888888888888888,
              "#fdca26"
             ],
             [
              1,
              "#f0f921"
             ]
            ],
            "type": "contour"
           }
          ],
          "contourcarpet": [
           {
            "colorbar": {
             "outlinewidth": 0,
             "ticks": ""
            },
            "type": "contourcarpet"
           }
          ],
          "heatmap": [
           {
            "colorbar": {
             "outlinewidth": 0,
             "ticks": ""
            },
            "colorscale": [
             [
              0,
              "#0d0887"
             ],
             [
              0.1111111111111111,
              "#46039f"
             ],
             [
              0.2222222222222222,
              "#7201a8"
             ],
             [
              0.3333333333333333,
              "#9c179e"
             ],
             [
              0.4444444444444444,
              "#bd3786"
             ],
             [
              0.5555555555555556,
              "#d8576b"
             ],
             [
              0.6666666666666666,
              "#ed7953"
             ],
             [
              0.7777777777777778,
              "#fb9f3a"
             ],
             [
              0.8888888888888888,
              "#fdca26"
             ],
             [
              1,
              "#f0f921"
             ]
            ],
            "type": "heatmap"
           }
          ],
          "heatmapgl": [
           {
            "colorbar": {
             "outlinewidth": 0,
             "ticks": ""
            },
            "colorscale": [
             [
              0,
              "#0d0887"
             ],
             [
              0.1111111111111111,
              "#46039f"
             ],
             [
              0.2222222222222222,
              "#7201a8"
             ],
             [
              0.3333333333333333,
              "#9c179e"
             ],
             [
              0.4444444444444444,
              "#bd3786"
             ],
             [
              0.5555555555555556,
              "#d8576b"
             ],
             [
              0.6666666666666666,
              "#ed7953"
             ],
             [
              0.7777777777777778,
              "#fb9f3a"
             ],
             [
              0.8888888888888888,
              "#fdca26"
             ],
             [
              1,
              "#f0f921"
             ]
            ],
            "type": "heatmapgl"
           }
          ],
          "histogram": [
           {
            "marker": {
             "colorbar": {
              "outlinewidth": 0,
              "ticks": ""
             }
            },
            "type": "histogram"
           }
          ],
          "histogram2d": [
           {
            "colorbar": {
             "outlinewidth": 0,
             "ticks": ""
            },
            "colorscale": [
             [
              0,
              "#0d0887"
             ],
             [
              0.1111111111111111,
              "#46039f"
             ],
             [
              0.2222222222222222,
              "#7201a8"
             ],
             [
              0.3333333333333333,
              "#9c179e"
             ],
             [
              0.4444444444444444,
              "#bd3786"
             ],
             [
              0.5555555555555556,
              "#d8576b"
             ],
             [
              0.6666666666666666,
              "#ed7953"
             ],
             [
              0.7777777777777778,
              "#fb9f3a"
             ],
             [
              0.8888888888888888,
              "#fdca26"
             ],
             [
              1,
              "#f0f921"
             ]
            ],
            "type": "histogram2d"
           }
          ],
          "histogram2dcontour": [
           {
            "colorbar": {
             "outlinewidth": 0,
             "ticks": ""
            },
            "colorscale": [
             [
              0,
              "#0d0887"
             ],
             [
              0.1111111111111111,
              "#46039f"
             ],
             [
              0.2222222222222222,
              "#7201a8"
             ],
             [
              0.3333333333333333,
              "#9c179e"
             ],
             [
              0.4444444444444444,
              "#bd3786"
             ],
             [
              0.5555555555555556,
              "#d8576b"
             ],
             [
              0.6666666666666666,
              "#ed7953"
             ],
             [
              0.7777777777777778,
              "#fb9f3a"
             ],
             [
              0.8888888888888888,
              "#fdca26"
             ],
             [
              1,
              "#f0f921"
             ]
            ],
            "type": "histogram2dcontour"
           }
          ],
          "mesh3d": [
           {
            "colorbar": {
             "outlinewidth": 0,
             "ticks": ""
            },
            "type": "mesh3d"
           }
          ],
          "parcoords": [
           {
            "line": {
             "colorbar": {
              "outlinewidth": 0,
              "ticks": ""
             }
            },
            "type": "parcoords"
           }
          ],
          "pie": [
           {
            "automargin": true,
            "type": "pie"
           }
          ],
          "scatter": [
           {
            "marker": {
             "colorbar": {
              "outlinewidth": 0,
              "ticks": ""
             }
            },
            "type": "scatter"
           }
          ],
          "scatter3d": [
           {
            "line": {
             "colorbar": {
              "outlinewidth": 0,
              "ticks": ""
             }
            },
            "marker": {
             "colorbar": {
              "outlinewidth": 0,
              "ticks": ""
             }
            },
            "type": "scatter3d"
           }
          ],
          "scattercarpet": [
           {
            "marker": {
             "colorbar": {
              "outlinewidth": 0,
              "ticks": ""
             }
            },
            "type": "scattercarpet"
           }
          ],
          "scattergeo": [
           {
            "marker": {
             "colorbar": {
              "outlinewidth": 0,
              "ticks": ""
             }
            },
            "type": "scattergeo"
           }
          ],
          "scattergl": [
           {
            "marker": {
             "colorbar": {
              "outlinewidth": 0,
              "ticks": ""
             }
            },
            "type": "scattergl"
           }
          ],
          "scattermapbox": [
           {
            "marker": {
             "colorbar": {
              "outlinewidth": 0,
              "ticks": ""
             }
            },
            "type": "scattermapbox"
           }
          ],
          "scatterpolar": [
           {
            "marker": {
             "colorbar": {
              "outlinewidth": 0,
              "ticks": ""
             }
            },
            "type": "scatterpolar"
           }
          ],
          "scatterpolargl": [
           {
            "marker": {
             "colorbar": {
              "outlinewidth": 0,
              "ticks": ""
             }
            },
            "type": "scatterpolargl"
           }
          ],
          "scatterternary": [
           {
            "marker": {
             "colorbar": {
              "outlinewidth": 0,
              "ticks": ""
             }
            },
            "type": "scatterternary"
           }
          ],
          "surface": [
           {
            "colorbar": {
             "outlinewidth": 0,
             "ticks": ""
            },
            "colorscale": [
             [
              0,
              "#0d0887"
             ],
             [
              0.1111111111111111,
              "#46039f"
             ],
             [
              0.2222222222222222,
              "#7201a8"
             ],
             [
              0.3333333333333333,
              "#9c179e"
             ],
             [
              0.4444444444444444,
              "#bd3786"
             ],
             [
              0.5555555555555556,
              "#d8576b"
             ],
             [
              0.6666666666666666,
              "#ed7953"
             ],
             [
              0.7777777777777778,
              "#fb9f3a"
             ],
             [
              0.8888888888888888,
              "#fdca26"
             ],
             [
              1,
              "#f0f921"
             ]
            ],
            "type": "surface"
           }
          ],
          "table": [
           {
            "cells": {
             "fill": {
              "color": "#EBF0F8"
             },
             "line": {
              "color": "white"
             }
            },
            "header": {
             "fill": {
              "color": "#C8D4E3"
             },
             "line": {
              "color": "white"
             }
            },
            "type": "table"
           }
          ]
         },
         "layout": {
          "annotationdefaults": {
           "arrowcolor": "#2a3f5f",
           "arrowhead": 0,
           "arrowwidth": 1
          },
          "coloraxis": {
           "colorbar": {
            "outlinewidth": 0,
            "ticks": ""
           }
          },
          "colorscale": {
           "diverging": [
            [
             0,
             "#8e0152"
            ],
            [
             0.1,
             "#c51b7d"
            ],
            [
             0.2,
             "#de77ae"
            ],
            [
             0.3,
             "#f1b6da"
            ],
            [
             0.4,
             "#fde0ef"
            ],
            [
             0.5,
             "#f7f7f7"
            ],
            [
             0.6,
             "#e6f5d0"
            ],
            [
             0.7,
             "#b8e186"
            ],
            [
             0.8,
             "#7fbc41"
            ],
            [
             0.9,
             "#4d9221"
            ],
            [
             1,
             "#276419"
            ]
           ],
           "sequential": [
            [
             0,
             "#0d0887"
            ],
            [
             0.1111111111111111,
             "#46039f"
            ],
            [
             0.2222222222222222,
             "#7201a8"
            ],
            [
             0.3333333333333333,
             "#9c179e"
            ],
            [
             0.4444444444444444,
             "#bd3786"
            ],
            [
             0.5555555555555556,
             "#d8576b"
            ],
            [
             0.6666666666666666,
             "#ed7953"
            ],
            [
             0.7777777777777778,
             "#fb9f3a"
            ],
            [
             0.8888888888888888,
             "#fdca26"
            ],
            [
             1,
             "#f0f921"
            ]
           ],
           "sequentialminus": [
            [
             0,
             "#0d0887"
            ],
            [
             0.1111111111111111,
             "#46039f"
            ],
            [
             0.2222222222222222,
             "#7201a8"
            ],
            [
             0.3333333333333333,
             "#9c179e"
            ],
            [
             0.4444444444444444,
             "#bd3786"
            ],
            [
             0.5555555555555556,
             "#d8576b"
            ],
            [
             0.6666666666666666,
             "#ed7953"
            ],
            [
             0.7777777777777778,
             "#fb9f3a"
            ],
            [
             0.8888888888888888,
             "#fdca26"
            ],
            [
             1,
             "#f0f921"
            ]
           ]
          },
          "colorway": [
           "#636efa",
           "#EF553B",
           "#00cc96",
           "#ab63fa",
           "#FFA15A",
           "#19d3f3",
           "#FF6692",
           "#B6E880",
           "#FF97FF",
           "#FECB52"
          ],
          "font": {
           "color": "#2a3f5f"
          },
          "geo": {
           "bgcolor": "white",
           "lakecolor": "white",
           "landcolor": "#E5ECF6",
           "showlakes": true,
           "showland": true,
           "subunitcolor": "white"
          },
          "hoverlabel": {
           "align": "left"
          },
          "hovermode": "closest",
          "mapbox": {
           "style": "light"
          },
          "paper_bgcolor": "white",
          "plot_bgcolor": "#E5ECF6",
          "polar": {
           "angularaxis": {
            "gridcolor": "white",
            "linecolor": "white",
            "ticks": ""
           },
           "bgcolor": "#E5ECF6",
           "radialaxis": {
            "gridcolor": "white",
            "linecolor": "white",
            "ticks": ""
           }
          },
          "scene": {
           "xaxis": {
            "backgroundcolor": "#E5ECF6",
            "gridcolor": "white",
            "gridwidth": 2,
            "linecolor": "white",
            "showbackground": true,
            "ticks": "",
            "zerolinecolor": "white"
           },
           "yaxis": {
            "backgroundcolor": "#E5ECF6",
            "gridcolor": "white",
            "gridwidth": 2,
            "linecolor": "white",
            "showbackground": true,
            "ticks": "",
            "zerolinecolor": "white"
           },
           "zaxis": {
            "backgroundcolor": "#E5ECF6",
            "gridcolor": "white",
            "gridwidth": 2,
            "linecolor": "white",
            "showbackground": true,
            "ticks": "",
            "zerolinecolor": "white"
           }
          },
          "shapedefaults": {
           "line": {
            "color": "#2a3f5f"
           }
          },
          "ternary": {
           "aaxis": {
            "gridcolor": "white",
            "linecolor": "white",
            "ticks": ""
           },
           "baxis": {
            "gridcolor": "white",
            "linecolor": "white",
            "ticks": ""
           },
           "bgcolor": "#E5ECF6",
           "caxis": {
            "gridcolor": "white",
            "linecolor": "white",
            "ticks": ""
           }
          },
          "title": {
           "x": 0.05
          },
          "xaxis": {
           "automargin": true,
           "gridcolor": "white",
           "linecolor": "white",
           "ticks": "",
           "title": {
            "standoff": 15
           },
           "zerolinecolor": "white",
           "zerolinewidth": 2
          },
          "yaxis": {
           "automargin": true,
           "gridcolor": "white",
           "linecolor": "white",
           "ticks": "",
           "title": {
            "standoff": 15
           },
           "zerolinecolor": "white",
           "zerolinewidth": 2
          }
         }
        },
        "xaxis": {
         "anchor": "y",
         "domain": [
          0,
          1
         ],
         "title": {
          "text": "first"
         }
        },
        "yaxis": {
         "anchor": "x",
         "domain": [
          0,
          1
         ],
         "title": {
          "text": "second"
         }
        }
       }
      },
      "text/html": [
       "<div>\n",
       "        \n",
       "        \n",
       "            <div id=\"88e3c582-9733-449b-963a-997d15b3b80b\" class=\"plotly-graph-div\" style=\"height:525px; width:100%;\"></div>\n",
       "            <script type=\"text/javascript\">\n",
       "                require([\"plotly\"], function(Plotly) {\n",
       "                    window.PLOTLYENV=window.PLOTLYENV || {};\n",
       "                    \n",
       "                if (document.getElementById(\"88e3c582-9733-449b-963a-997d15b3b80b\")) {\n",
       "                    Plotly.newPlot(\n",
       "                        '88e3c582-9733-449b-963a-997d15b3b80b',\n",
       "                        [{\"hovertemplate\": \"<b>%{hovertext}</b><br><br>first=%{x}<br>second=%{y}<extra></extra>\", \"hovertext\": [\"Afghanistan\", \"Albania\", \"Algeria\", \"Andorra\", \"Angola\", \"Argentina\", \"Australia\", \"Austria\", \"Azerbaijan\", \"Bangladesh\", \"Barbados\", \"Belgium\", \"Belize\", \"Bolivia\", \"Bosnia and Herzegovina\", \"Botswana\", \"Brazil\", \"Brunei Darussalam\", \"Bulgaria\", \"Burkina Faso\", \"Burundi\", \"Cameroon\", \"Canada\", \"Chad\", \"Chile\", \"China\", \"Colombia\", \"Congo, Dem. Rep.\", \"Costa Rica\", \"Croatia\", \"Cuba\", \"Cyprus\", \"Czech Republic\", \"Denmark\", \"Djibouti\", \"Dominica\", \"Dominican Republic\", \"Ecuador\", \"Egypt, Arab Rep.\", \"El Salvador\", \"Estonia\", \"Eswatini\", \"Finland\", \"France\", \"Gabon\", \"Gambia, The\", \"Germany\", \"Ghana\", \"Greece\", \"Greenland\", \"Guatemala\", \"Guyana\", \"Honduras\", \"Hungary\", \"Iceland\", \"India\", \"Indonesia\", \"Iran, Islamic Rep.\", \"Iraq\", \"Ireland\", \"Israel\", \"Italy\", \"Jamaica\", \"Japan\", \"Jordan\", \"Kazakhstan\", \"Kenya\", \"Korea, Rep.\", \"Kosovo\", \"Kuwait\", \"Kyrgyz Republic\", \"Lao PDR\", \"Lebanon\", \"Libya\", \"Luxembourg\", \"Madagascar\", \"Malawi\", \"Malaysia\", \"Mali\", \"Mauritania\", \"Mauritius\", \"Mexico\", \"Moldova\", \"Mongolia\", \"Morocco\", \"Mozambique\", \"Namibia\", \"Netherlands\", \"New Zealand\", \"Nicaragua\", \"Niger\", \"Nigeria\", \"Norway\", \"Oman\", \"Pakistan\", \"Panama\", \"Papua New Guinea\", \"Paraguay\", \"Peru\", \"Philippines\", \"Poland\", \"Portugal\", \"Qatar\", \"Romania\", \"Russian Federation\", \"Rwanda\", \"San Marino\", \"Saudi Arabia\", \"Serbia\", \"Seychelles\", \"Sierra Leone\", \"Singapore\", \"Slovak Republic\", \"Slovenia\", \"South Africa\", \"South Sudan\", \"Spain\", \"Sri Lanka\", \"Sudan\", \"Sweden\", \"Switzerland\", \"Syrian Arab Republic\", \"United Rep. of Tanzania\", \"Thailand\", \"Trinidad and Tobago\", \"Tunisia\", \"Turkey\", \"Uganda\", \"Ukraine\", \"United Arab Emirates\", \"United Kingdom\", \"United States of America\", \"Uruguay\", \"Uzbekistan\", \"Venezuela, RB\", \"Vietnam\", \"Zambia\", \"Zimbabwe\"], \"legendgroup\": \"\", \"marker\": {\"color\": \"#636efa\", \"symbol\": \"circle\"}, \"mode\": \"markers\", \"name\": \"\", \"showlegend\": false, \"type\": \"scatter\", \"x\": [-16.436416625976562, 15.21166706085205, -9.003201484680176, 18.6834774017334, -17.6873779296875, -0.12030364573001862, 6.3373847007751465, 15.578749656677246, -0.7505268454551697, -5.882606029510498, 7.069000720977783, 12.57065486907959, -10.064908027648926, -9.961560249328613, 11.5122652053833, -5.817965030670166, 7.140652179718018, -1.3149313926696777, 13.733537673950195, -14.492598533630371, -20.38591766357422, -15.873004913330078, 7.699493885040283, -17.635093688964844, 15.951168060302734, 1.2884714603424072, 1.1461549997329712, -15.328145980834961, -0.8862358331680298, 11.701704025268555, 8.184029579162598, 15.250606536865234, 16.959739685058594, 15.19842529296875, -11.004508018493652, -8.252326965332031, -8.894683837890625, -3.5603880882263184, -10.009119033813477, -2.549394369125366, 17.976367950439453, -15.044830322265625, 16.154205322265625, 11.316645622253418, -13.307462692260742, -15.956069946289062, 7.730932235717773, -13.11906909942627, 18.70703125, 11.975635528564453, -6.828022003173828, 1.0442218780517578, -10.221982955932617, 14.731809616088867, 5.414440631866455, 1.5548815727233887, -3.835902690887451, -5.595263481140137, -12.46117115020752, 13.661606788635254, -1.8180431127548218, 12.192272186279297, -2.1291723251342773, 8.68505573272705, -11.288641929626465, -8.88661003112793, -13.411737442016602, 9.534441947937012, 16.8940486907959, -8.163853645324707, -11.258234977722168, -8.823100090026855, -3.1181089878082275, -4.57246732711792, 16.168872833251953, -12.76269817352295, -18.698209762573242, -3.312725067138672, -16.380428314208984, -18.54128074645996, 15.029556274414062, -5.993393421173096, 14.827333450317383, -5.8432745933532715, -7.441170692443848, -17.605714797973633, -16.4229793548584, 16.793861389160156, 10.421907424926758, -19.664079666137695, -18.85149574279785, -13.695025444030762, 11.016667366027832, -9.224576950073242, -8.60834789276123, -2.7779572010040283, -9.56755256652832, -3.855046510696411, -7.151122093200684, -5.190328121185303, 8.866766929626465, 9.274653434753418, -2.642235517501831, 9.483969688415527, 7.84731388092041, -8.268449783325195, 16.48076820373535, -7.180228233337402, 10.522515296936035, 0.3748248219490051, -13.876822471618652, 5.8727498054504395, 13.699810028076172, 16.200834274291992, -4.995696544647217, -13.946293830871582, 12.983908653259277, -1.0148733854293823, -10.922624588012695, 19.526710510253906, 17.186065673828125, -6.000222682952881, -19.01485252380371, 13.456764221191406, 5.0338544845581055, -2.263462543487549, -1.51193106174469, -10.996874809265137, 17.91582489013672, -10.006951332092285, 6.844202041625977, 5.65789794921875, 17.57724380493164, -4.596604824066162, -7.762503147125244, -2.2014291286468506, -19.821203231811523, -13.183052062988281], \"xaxis\": \"x\", \"y\": [-1.9503482580184937, -3.647993326187134, -1.8651447296142578, -6.419869422912598, -2.526371479034424, 4.3813629150390625, -1.5653722286224365, -1.549591302871704, 2.2723870277404785, 3.5266501903533936, -0.25321316719055176, -1.3584660291671753, -4.253365516662598, -5.69387674331665, -0.2677036225795746, 7.260321140289307, 6.641721725463867, -0.11692944169044495, -1.5274889469146729, -1.6743314266204834, -2.8165106773376465, -5.149499416351318, 0.9618996977806091, -3.965941905975342, -7.258266448974609, -0.19276154041290283, 3.927232265472412, -3.1222829818725586, 9.52270221710205, 0.7088809013366699, -0.2126983106136322, -5.960874080657959, -1.9704030752182007, -0.6984989047050476, -6.992671489715576, -6.237685680389404, -3.439558982849121, 5.040215015411377, -0.7594451904296875, 2.8048057556152344, 2.504352331161499, -4.466486930847168, -2.41690731048584, 2.1935343742370605, 1.044013261795044, -7.849595546722412, 2.1662709712982178, 5.947972774505615, -5.023876190185547, -6.707726955413818, 2.5604937076568604, 6.114616870880127, -2.441464424133301, -2.0283138751983643, -2.277308225631714, -0.44136714935302734, 0.17986442148685455, -2.720398187637329, 0.5568593740463257, -4.644085884094238, 5.266749382019043, 3.0476980209350586, 1.7898553609848022, -4.211976051330566, -1.7450188398361206, -4.7342610359191895, 6.815214157104492, -1.48191499710083, -1.1811153888702393, 5.863781452178955, -4.127782821655273, 8.306732177734375, 7.814074516296387, 3.394789695739746, -5.369387626647949, -1.1889106035232544, -3.517430067062378, 2.068387508392334, 0.5708394646644592, -1.6353139877319336, -8.110830307006836, -4.253530979156494, -5.052453517913818, 0.9074148535728455, -5.322787761688232, -5.700265407562256, -4.4465227127075195, -3.9495670795440674, -0.2292514145374298, 7.80613899230957, -5.984085559844971, -6.269075870513916, -1.760202169418335, 5.36068058013916, 1.0046483278274536, 4.027771949768066, 2.5185816287994385, 3.8681321144104004, -2.737884283065796, 2.1400251388549805, 1.4394874572753906, 2.774975299835205, -2.8260600566864014, 0.6398457288742065, -1.4967552423477173, 3.089972972869873, 0.8968123197555542, 5.066312313079834, 1.2651805877685547, 2.6542153358459473, -1.0073957443237305, 2.4800925254821777, -3.167398691177368, -0.32608357071876526, 4.7417755126953125, -3.177128553390503, 1.4103902578353882, 5.019864559173584, 0.940072238445282, -5.855823516845703, -3.5799098014831543, 4.690930366516113, -8.938343048095703, -6.284139633178711, -0.36509913206100464, 9.514970779418945, 3.6487700939178467, 7.240910053253174, -0.5820046067237854, 5.016543865203857, -2.9277801513671875, -5.122890949249268, -7.66534948348999, 6.058254718780518, -4.0275468826293945, 6.8628644943237305, -3.9340627193450928, -2.1210594177246094], \"yaxis\": \"y\"}],\n",
       "                        {\"legend\": {\"tracegroupgap\": 0}, \"margin\": {\"t\": 60}, \"template\": {\"data\": {\"bar\": [{\"error_x\": {\"color\": \"#2a3f5f\"}, \"error_y\": {\"color\": \"#2a3f5f\"}, \"marker\": {\"line\": {\"color\": \"#E5ECF6\", \"width\": 0.5}}, \"type\": \"bar\"}], \"barpolar\": [{\"marker\": {\"line\": {\"color\": \"#E5ECF6\", \"width\": 0.5}}, \"type\": \"barpolar\"}], \"carpet\": [{\"aaxis\": {\"endlinecolor\": \"#2a3f5f\", \"gridcolor\": \"white\", \"linecolor\": \"white\", \"minorgridcolor\": \"white\", \"startlinecolor\": \"#2a3f5f\"}, \"baxis\": {\"endlinecolor\": \"#2a3f5f\", \"gridcolor\": \"white\", \"linecolor\": \"white\", \"minorgridcolor\": \"white\", \"startlinecolor\": \"#2a3f5f\"}, \"type\": \"carpet\"}], \"choropleth\": [{\"colorbar\": {\"outlinewidth\": 0, \"ticks\": \"\"}, \"type\": \"choropleth\"}], \"contour\": [{\"colorbar\": {\"outlinewidth\": 0, \"ticks\": \"\"}, \"colorscale\": [[0.0, \"#0d0887\"], [0.1111111111111111, \"#46039f\"], [0.2222222222222222, \"#7201a8\"], [0.3333333333333333, \"#9c179e\"], [0.4444444444444444, \"#bd3786\"], [0.5555555555555556, \"#d8576b\"], [0.6666666666666666, \"#ed7953\"], [0.7777777777777778, \"#fb9f3a\"], [0.8888888888888888, \"#fdca26\"], [1.0, \"#f0f921\"]], \"type\": \"contour\"}], \"contourcarpet\": [{\"colorbar\": {\"outlinewidth\": 0, \"ticks\": \"\"}, \"type\": \"contourcarpet\"}], \"heatmap\": [{\"colorbar\": {\"outlinewidth\": 0, \"ticks\": \"\"}, \"colorscale\": [[0.0, \"#0d0887\"], [0.1111111111111111, \"#46039f\"], [0.2222222222222222, \"#7201a8\"], [0.3333333333333333, \"#9c179e\"], [0.4444444444444444, \"#bd3786\"], [0.5555555555555556, \"#d8576b\"], [0.6666666666666666, \"#ed7953\"], [0.7777777777777778, \"#fb9f3a\"], [0.8888888888888888, \"#fdca26\"], [1.0, \"#f0f921\"]], \"type\": \"heatmap\"}], \"heatmapgl\": [{\"colorbar\": {\"outlinewidth\": 0, \"ticks\": \"\"}, \"colorscale\": [[0.0, \"#0d0887\"], [0.1111111111111111, \"#46039f\"], [0.2222222222222222, \"#7201a8\"], [0.3333333333333333, \"#9c179e\"], [0.4444444444444444, \"#bd3786\"], [0.5555555555555556, \"#d8576b\"], [0.6666666666666666, \"#ed7953\"], [0.7777777777777778, \"#fb9f3a\"], [0.8888888888888888, \"#fdca26\"], [1.0, \"#f0f921\"]], \"type\": \"heatmapgl\"}], \"histogram\": [{\"marker\": {\"colorbar\": {\"outlinewidth\": 0, \"ticks\": \"\"}}, \"type\": \"histogram\"}], \"histogram2d\": [{\"colorbar\": {\"outlinewidth\": 0, \"ticks\": \"\"}, \"colorscale\": [[0.0, \"#0d0887\"], [0.1111111111111111, \"#46039f\"], [0.2222222222222222, \"#7201a8\"], [0.3333333333333333, \"#9c179e\"], [0.4444444444444444, \"#bd3786\"], [0.5555555555555556, \"#d8576b\"], [0.6666666666666666, \"#ed7953\"], [0.7777777777777778, \"#fb9f3a\"], [0.8888888888888888, \"#fdca26\"], [1.0, \"#f0f921\"]], \"type\": \"histogram2d\"}], \"histogram2dcontour\": [{\"colorbar\": {\"outlinewidth\": 0, \"ticks\": \"\"}, \"colorscale\": [[0.0, \"#0d0887\"], [0.1111111111111111, \"#46039f\"], [0.2222222222222222, \"#7201a8\"], [0.3333333333333333, \"#9c179e\"], [0.4444444444444444, \"#bd3786\"], [0.5555555555555556, \"#d8576b\"], [0.6666666666666666, \"#ed7953\"], [0.7777777777777778, \"#fb9f3a\"], [0.8888888888888888, \"#fdca26\"], [1.0, \"#f0f921\"]], \"type\": \"histogram2dcontour\"}], \"mesh3d\": [{\"colorbar\": {\"outlinewidth\": 0, \"ticks\": \"\"}, \"type\": \"mesh3d\"}], \"parcoords\": [{\"line\": {\"colorbar\": {\"outlinewidth\": 0, \"ticks\": \"\"}}, \"type\": \"parcoords\"}], \"pie\": [{\"automargin\": true, \"type\": \"pie\"}], \"scatter\": [{\"marker\": {\"colorbar\": {\"outlinewidth\": 0, \"ticks\": \"\"}}, \"type\": \"scatter\"}], \"scatter3d\": [{\"line\": {\"colorbar\": {\"outlinewidth\": 0, \"ticks\": \"\"}}, \"marker\": {\"colorbar\": {\"outlinewidth\": 0, \"ticks\": \"\"}}, \"type\": \"scatter3d\"}], \"scattercarpet\": [{\"marker\": {\"colorbar\": {\"outlinewidth\": 0, \"ticks\": \"\"}}, \"type\": \"scattercarpet\"}], \"scattergeo\": [{\"marker\": {\"colorbar\": {\"outlinewidth\": 0, \"ticks\": \"\"}}, \"type\": \"scattergeo\"}], \"scattergl\": [{\"marker\": {\"colorbar\": {\"outlinewidth\": 0, \"ticks\": \"\"}}, \"type\": \"scattergl\"}], \"scattermapbox\": [{\"marker\": {\"colorbar\": {\"outlinewidth\": 0, \"ticks\": \"\"}}, \"type\": \"scattermapbox\"}], \"scatterpolar\": [{\"marker\": {\"colorbar\": {\"outlinewidth\": 0, \"ticks\": \"\"}}, \"type\": \"scatterpolar\"}], \"scatterpolargl\": [{\"marker\": {\"colorbar\": {\"outlinewidth\": 0, \"ticks\": \"\"}}, \"type\": \"scatterpolargl\"}], \"scatterternary\": [{\"marker\": {\"colorbar\": {\"outlinewidth\": 0, \"ticks\": \"\"}}, \"type\": \"scatterternary\"}], \"surface\": [{\"colorbar\": {\"outlinewidth\": 0, \"ticks\": \"\"}, \"colorscale\": [[0.0, \"#0d0887\"], [0.1111111111111111, \"#46039f\"], [0.2222222222222222, \"#7201a8\"], [0.3333333333333333, \"#9c179e\"], [0.4444444444444444, \"#bd3786\"], [0.5555555555555556, \"#d8576b\"], [0.6666666666666666, \"#ed7953\"], [0.7777777777777778, \"#fb9f3a\"], [0.8888888888888888, \"#fdca26\"], [1.0, \"#f0f921\"]], \"type\": \"surface\"}], \"table\": [{\"cells\": {\"fill\": {\"color\": \"#EBF0F8\"}, \"line\": {\"color\": \"white\"}}, \"header\": {\"fill\": {\"color\": \"#C8D4E3\"}, \"line\": {\"color\": \"white\"}}, \"type\": \"table\"}]}, \"layout\": {\"annotationdefaults\": {\"arrowcolor\": \"#2a3f5f\", \"arrowhead\": 0, \"arrowwidth\": 1}, \"coloraxis\": {\"colorbar\": {\"outlinewidth\": 0, \"ticks\": \"\"}}, \"colorscale\": {\"diverging\": [[0, \"#8e0152\"], [0.1, \"#c51b7d\"], [0.2, \"#de77ae\"], [0.3, \"#f1b6da\"], [0.4, \"#fde0ef\"], [0.5, \"#f7f7f7\"], [0.6, \"#e6f5d0\"], [0.7, \"#b8e186\"], [0.8, \"#7fbc41\"], [0.9, \"#4d9221\"], [1, \"#276419\"]], \"sequential\": [[0.0, \"#0d0887\"], [0.1111111111111111, \"#46039f\"], [0.2222222222222222, \"#7201a8\"], [0.3333333333333333, \"#9c179e\"], [0.4444444444444444, \"#bd3786\"], [0.5555555555555556, \"#d8576b\"], [0.6666666666666666, \"#ed7953\"], [0.7777777777777778, \"#fb9f3a\"], [0.8888888888888888, \"#fdca26\"], [1.0, \"#f0f921\"]], \"sequentialminus\": [[0.0, \"#0d0887\"], [0.1111111111111111, \"#46039f\"], [0.2222222222222222, \"#7201a8\"], [0.3333333333333333, \"#9c179e\"], [0.4444444444444444, \"#bd3786\"], [0.5555555555555556, \"#d8576b\"], [0.6666666666666666, \"#ed7953\"], [0.7777777777777778, \"#fb9f3a\"], [0.8888888888888888, \"#fdca26\"], [1.0, \"#f0f921\"]]}, \"colorway\": [\"#636efa\", \"#EF553B\", \"#00cc96\", \"#ab63fa\", \"#FFA15A\", \"#19d3f3\", \"#FF6692\", \"#B6E880\", \"#FF97FF\", \"#FECB52\"], \"font\": {\"color\": \"#2a3f5f\"}, \"geo\": {\"bgcolor\": \"white\", \"lakecolor\": \"white\", \"landcolor\": \"#E5ECF6\", \"showlakes\": true, \"showland\": true, \"subunitcolor\": \"white\"}, \"hoverlabel\": {\"align\": \"left\"}, \"hovermode\": \"closest\", \"mapbox\": {\"style\": \"light\"}, \"paper_bgcolor\": \"white\", \"plot_bgcolor\": \"#E5ECF6\", \"polar\": {\"angularaxis\": {\"gridcolor\": \"white\", \"linecolor\": \"white\", \"ticks\": \"\"}, \"bgcolor\": \"#E5ECF6\", \"radialaxis\": {\"gridcolor\": \"white\", \"linecolor\": \"white\", \"ticks\": \"\"}}, \"scene\": {\"xaxis\": {\"backgroundcolor\": \"#E5ECF6\", \"gridcolor\": \"white\", \"gridwidth\": 2, \"linecolor\": \"white\", \"showbackground\": true, \"ticks\": \"\", \"zerolinecolor\": \"white\"}, \"yaxis\": {\"backgroundcolor\": \"#E5ECF6\", \"gridcolor\": \"white\", \"gridwidth\": 2, \"linecolor\": \"white\", \"showbackground\": true, \"ticks\": \"\", \"zerolinecolor\": \"white\"}, \"zaxis\": {\"backgroundcolor\": \"#E5ECF6\", \"gridcolor\": \"white\", \"gridwidth\": 2, \"linecolor\": \"white\", \"showbackground\": true, \"ticks\": \"\", \"zerolinecolor\": \"white\"}}, \"shapedefaults\": {\"line\": {\"color\": \"#2a3f5f\"}}, \"ternary\": {\"aaxis\": {\"gridcolor\": \"white\", \"linecolor\": \"white\", \"ticks\": \"\"}, \"baxis\": {\"gridcolor\": \"white\", \"linecolor\": \"white\", \"ticks\": \"\"}, \"bgcolor\": \"#E5ECF6\", \"caxis\": {\"gridcolor\": \"white\", \"linecolor\": \"white\", \"ticks\": \"\"}}, \"title\": {\"x\": 0.05}, \"xaxis\": {\"automargin\": true, \"gridcolor\": \"white\", \"linecolor\": \"white\", \"ticks\": \"\", \"title\": {\"standoff\": 15}, \"zerolinecolor\": \"white\", \"zerolinewidth\": 2}, \"yaxis\": {\"automargin\": true, \"gridcolor\": \"white\", \"linecolor\": \"white\", \"ticks\": \"\", \"title\": {\"standoff\": 15}, \"zerolinecolor\": \"white\", \"zerolinewidth\": 2}}}, \"xaxis\": {\"anchor\": \"y\", \"domain\": [0.0, 1.0], \"title\": {\"text\": \"first\"}}, \"yaxis\": {\"anchor\": \"x\", \"domain\": [0.0, 1.0], \"title\": {\"text\": \"second\"}}},\n",
       "                        {\"responsive\": true}\n",
       "                    ).then(function(){\n",
       "                            \n",
       "var gd = document.getElementById('88e3c582-9733-449b-963a-997d15b3b80b');\n",
       "var x = new MutationObserver(function (mutations, observer) {{\n",
       "        var display = window.getComputedStyle(gd).display;\n",
       "        if (!display || display === 'none') {{\n",
       "            console.log([gd, 'removed!']);\n",
       "            Plotly.purge(gd);\n",
       "            observer.disconnect();\n",
       "        }}\n",
       "}});\n",
       "\n",
       "// Listen for the removal of the full notebook cells\n",
       "var notebookContainer = gd.closest('#notebook-container');\n",
       "if (notebookContainer) {{\n",
       "    x.observe(notebookContainer, {childList: true});\n",
       "}}\n",
       "\n",
       "// Listen for the clearing of the current output cell\n",
       "var outputEl = gd.closest('.output');\n",
       "if (outputEl) {{\n",
       "    x.observe(outputEl, {childList: true});\n",
       "}}\n",
       "\n",
       "                        })\n",
       "                };\n",
       "                });\n",
       "            </script>\n",
       "        </div>"
      ]
     },
     "metadata": {},
     "output_type": "display_data"
    }
   ],
   "source": [
    "fig = px.scatter(dfX, x=\"first\", y=\"second\",\n",
    "                 hover_name=\"Country Name\")\n",
    "\n",
    "fig.show()"
   ]
  },
  {
   "cell_type": "code",
   "execution_count": 61,
   "metadata": {},
   "outputs": [
    {
     "data": {
      "application/vnd.plotly.v1+json": {
       "config": {
        "plotlyServerURL": "https://plot.ly"
       },
       "data": [
        {
         "hovertemplate": "<b>%{hovertext}</b><br><br>first=%{x}<br>second=%{y}<br>third=%{z}<extra></extra>",
         "hovertext": [
          "Afghanistan",
          "Albania",
          "Algeria",
          "Andorra",
          "Angola",
          "Argentina",
          "Australia",
          "Austria",
          "Azerbaijan",
          "Bangladesh",
          "Barbados",
          "Belgium",
          "Belize",
          "Bolivia",
          "Bosnia and Herzegovina",
          "Botswana",
          "Brazil",
          "Brunei Darussalam",
          "Bulgaria",
          "Burkina Faso",
          "Burundi",
          "Cameroon",
          "Canada",
          "Chad",
          "Chile",
          "China",
          "Colombia",
          "Congo, Dem. Rep.",
          "Costa Rica",
          "Croatia",
          "Cuba",
          "Cyprus",
          "Czech Republic",
          "Denmark",
          "Djibouti",
          "Dominica",
          "Dominican Republic",
          "Ecuador",
          "Egypt, Arab Rep.",
          "El Salvador",
          "Estonia",
          "Eswatini",
          "Finland",
          "France",
          "Gabon",
          "Gambia, The",
          "Germany",
          "Ghana",
          "Greece",
          "Greenland",
          "Guatemala",
          "Guyana",
          "Honduras",
          "Hungary",
          "Iceland",
          "India",
          "Indonesia",
          "Iran, Islamic Rep.",
          "Iraq",
          "Ireland",
          "Israel",
          "Italy",
          "Jamaica",
          "Japan",
          "Jordan",
          "Kazakhstan",
          "Kenya",
          "Korea, Rep.",
          "Kosovo",
          "Kuwait",
          "Kyrgyz Republic",
          "Lao PDR",
          "Lebanon",
          "Libya",
          "Luxembourg",
          "Madagascar",
          "Malawi",
          "Malaysia",
          "Mali",
          "Mauritania",
          "Mauritius",
          "Mexico",
          "Moldova",
          "Mongolia",
          "Morocco",
          "Mozambique",
          "Namibia",
          "Netherlands",
          "New Zealand",
          "Nicaragua",
          "Niger",
          "Nigeria",
          "Norway",
          "Oman",
          "Pakistan",
          "Panama",
          "Papua New Guinea",
          "Paraguay",
          "Peru",
          "Philippines",
          "Poland",
          "Portugal",
          "Qatar",
          "Romania",
          "Russian Federation",
          "Rwanda",
          "San Marino",
          "Saudi Arabia",
          "Serbia",
          "Seychelles",
          "Sierra Leone",
          "Singapore",
          "Slovak Republic",
          "Slovenia",
          "South Africa",
          "South Sudan",
          "Spain",
          "Sri Lanka",
          "Sudan",
          "Sweden",
          "Switzerland",
          "Syrian Arab Republic",
          "United Rep. of Tanzania",
          "Thailand",
          "Trinidad and Tobago",
          "Tunisia",
          "Turkey",
          "Uganda",
          "Ukraine",
          "United Arab Emirates",
          "United Kingdom",
          "United States of America",
          "Uruguay",
          "Uzbekistan",
          "Venezuela, RB",
          "Vietnam",
          "Zambia",
          "Zimbabwe"
         ],
         "legendgroup": "",
         "marker": {
          "color": "#636efa",
          "symbol": "circle"
         },
         "mode": "markers",
         "name": "",
         "scene": "scene",
         "showlegend": false,
         "type": "scatter3d",
         "x": [
          0.4414770007133484,
          32.53771209716797,
          13.047063827514648,
          3.2731246948242188,
          35.90265655517578,
          -36.139747619628906,
          57.10253143310547,
          29.040082931518555,
          19.987653732299805,
          13.935555458068848,
          -211.05465698242188,
          -6.739909648895264,
          12.692240715026855,
          57.647621154785156,
          56.15868377685547,
          -33.22092819213867,
          9.43797779083252,
          -23.91291618347168,
          -33.01743698120117,
          -28.98189926147461,
          0.7886905670166016,
          -9.71928882598877,
          1.3475124835968018,
          -37.5780143737793,
          39.50652313232422,
          23.724645614624023,
          4.273317337036133,
          -1.7541347742080688,
          23.931177139282227,
          -37.12509536743164,
          -5.154634952545166,
          35.321876525878906,
          20.549604415893555,
          53.14863967895508,
          7.27553653717041,
          -2.8287041187286377,
          -107.82958984375,
          -72.92798614501953,
          -15.731618881225586,
          32.28512954711914,
          20.330930709838867,
          -17.291208267211914,
          -20.32857894897461,
          -44.8659553527832,
          12.680126190185547,
          27.026866912841797,
          -5.9130778312683105,
          41.42028045654297,
          -33.8250617980957,
          9.761759757995605,
          -10.579206466674805,
          2.6581692695617676,
          -20.77654457092285,
          7.147332668304443,
          7.100265979766846,
          -7.228927135467529,
          -8.364017486572266,
          4.022505283355713,
          -21.449155807495117,
          14.046630859375,
          -2.928124189376831,
          24.631860733032227,
          -18.14402961730957,
          9.47529411315918,
          -16.203947067260742,
          4.573200225830078,
          -5.332001209259033,
          8.255736351013184,
          -21.142425537109375,
          -21.780548095703125,
          -12.286093711853027,
          19.081958770751953,
          -2.3705382347106934,
          36.300315856933594,
          -10.77189826965332,
          -13.040043830871582,
          55.096641540527344,
          4.707165718078613,
          -85.61322784423828,
          -11.354013442993164,
          20.957674026489258,
          44.63439178466797,
          22.881244659423828,
          -14.734594345092773,
          18.760181427001953,
          -118.4892349243164,
          -17.393138885498047,
          17.319910049438477,
          38.36994552612305,
          -3.2445321083068848,
          0.6316266059875488,
          -23.57820701599121,
          61.090599060058594,
          31.04896354675293,
          -5.924520015716553,
          -25.48267936706543,
          -27.848291397094727,
          -53.41179656982422,
          34.326053619384766,
          13.584053993225098,
          -38.64425277709961,
          14.656169891357422,
          -17.392789840698242,
          8.273428916931152,
          1.321454405784607,
          9.645425796508789,
          31.035884857177734,
          -22.78120231628418,
          33.51129150390625,
          -11.07793140411377,
          -5.917862892150879,
          -10.266167640686035,
          19.520164489746094,
          33.900882720947266,
          -1.3003661632537842,
          9.904969215393066,
          15.861311912536621,
          -53.860328674316406,
          -25.825695037841797,
          -33.59992218017578,
          -67.93832397460938,
          -14.809281349182129,
          1.6080213785171509,
          -1.116469383239746,
          -4.711030960083008,
          1.5660215616226196,
          -17.011592864990234,
          -29.170595169067383,
          26.330219268798828,
          -17.706893920898438,
          -38.819705963134766,
          16.33777618408203,
          25.51825714111328,
          33.01286315917969,
          39.913631439208984,
          -15.706194877624512,
          39.78339385986328,
          7.725620269775391
         ],
         "y": [
          -10.98690128326416,
          -0.3184189796447754,
          16.431968688964844,
          31.901119232177734,
          5.194454669952393,
          -7.481865882873535,
          -26.04850959777832,
          -9.525396347045898,
          -13.827495574951172,
          -4.576547622680664,
          -150.87657165527344,
          16.261699676513672,
          -3.7921836376190186,
          -52.784446716308594,
          -36.078670501708984,
          -6.9113898277282715,
          -2.1735568046569824,
          -3.398583173751831,
          9.959511756896973,
          -36.80415725708008,
          21.110197067260742,
          30.65638542175293,
          3.621177911758423,
          5.891433238983154,
          11.346126556396484,
          -51.10606002807617,
          -24.66596794128418,
          33.757999420166016,
          2.599841594696045,
          8.753253936767578,
          -17.854307174682617,
          58.60767364501953,
          10.785024642944336,
          33.334346771240234,
          7.2555694580078125,
          18.76634979248047,
          78.1362075805664,
          -25.067110061645508,
          34.34893035888672,
          -72.3080825805664,
          -14.534394264221191,
          21.80568504333496,
          -12.891168594360352,
          -0.6500113010406494,
          30.464445114135742,
          29.611549377441406,
          -7.319722652435303,
          -11.656810760498047,
          23.695615768432617,
          -7.874515533447266,
          6.742076396942139,
          -4.609812259674072,
          7.880564212799072,
          -52.689632415771484,
          8.785000801086426,
          -34.89826202392578,
          -15.840544700622559,
          -9.92198657989502,
          22.357519149780273,
          -16.481460571289062,
          -16.13117218017578,
          -29.242050170898438,
          8.612586975097656,
          -27.34613609313965,
          22.84208106994629,
          11.890119552612305,
          -0.48640161752700806,
          -41.760986328125,
          7.7709455490112305,
          -24.477685928344727,
          4.361660003662109,
          12.494828224182129,
          -3.3880538940429688,
          -5.602571487426758,
          -106.36434936523438,
          -0.07833892852067947,
          -93.22416687011719,
          9.749964714050293,
          -197.7394256591797,
          13.68786907196045,
          17.965229034423828,
          -15.719169616699219,
          -15.651302337646484,
          -34.93046951293945,
          -1.4048075675964355,
          -74.00779724121094,
          7.340670108795166,
          7.2864813804626465,
          42.181121826171875,
          15.9027099609375,
          3.146944761276245,
          2.678638458251953,
          -36.16020202636719,
          -24.99827766418457,
          1.8886902332305908,
          -9.088967323303223,
          12.638468742370605,
          -12.778645515441895,
          -20.225784301757812,
          35.829261779785156,
          -18.82050132751465,
          -36.0020866394043,
          24.342472076416016,
          -19.758502960205078,
          -28.550033569335938,
          -18.05320930480957,
          26.34894561767578,
          -18.201309204101562,
          -16.399120330810547,
          -3.501978874206543,
          18.631061553955078,
          -29.057083129882812,
          -19.268325805664062,
          11.343408584594727,
          -16.194143295288086,
          7.445021629333496,
          22.903446197509766,
          17.179683685302734,
          -77.21997833251953,
          -23.1774959564209,
          16.645898818969727,
          -6.208042144775391,
          29.64337730407715,
          -32.38927459716797,
          7.790675640106201,
          29.2132568359375,
          5.025596618652344,
          5.23064661026001,
          2.1785287857055664,
          -18.59053611755371,
          18.9075927734375,
          -31.879291534423828,
          -0.22761735320091248,
          19.813465118408203,
          -24.047847747802734,
          -20.640806198120117,
          -20.78865623474121,
          21.66200828552246
         ],
         "z": [
          31.74285125732422,
          3.5097997188568115,
          25.11170768737793,
          -13.37592601776123,
          20.351972579956055,
          -3.020991086959839,
          -6.365087032318115,
          14.852517127990723,
          -7.0297160148620605,
          -13.563597679138184,
          89.75041961669922,
          -37.96488952636719,
          22.27866554260254,
          39.11905288696289,
          -35.177886962890625,
          -22.680822372436523,
          0.510848879814148,
          -10.000007629394531,
          -21.399099349975586,
          -7.890111446380615,
          37.18907165527344,
          16.81367301940918,
          69.89647674560547,
          31.001876831054688,
          -0.8967118859291077,
          -29.167377471923828,
          23.239036560058594,
          5.015120983123779,
          30.41606903076172,
          5.656790733337402,
          -18.263622283935547,
          -25.056745529174805,
          0.3272729516029358,
          -56.0224609375,
          13.354650497436523,
          -9.185375213623047,
          218.95245361328125,
          13.815710067749023,
          -1.0956220626831055,
          25.182327270507812,
          -26.626718521118164,
          25.455364227294922,
          -33.39626693725586,
          7.356235980987549,
          -1.9692015647888184,
          3.8356997966766357,
          -30.74038314819336,
          3.456583261489868,
          -12.831589698791504,
          -34.49745178222656,
          -0.47909027338027954,
          -20.00189781188965,
          7.8856401443481445,
          23.222421646118164,
          -13.915706634521484,
          17.113080978393555,
          13.526496887207031,
          12.123336791992188,
          9.308883666992188,
          4.795279502868652,
          -2.1890647411346436,
          -7.595749378204346,
          -14.366228103637695,
          -26.528230667114258,
          -5.9767351150512695,
          -0.2263767123222351,
          40.29475784301758,
          -0.6152269840240479,
          -44.16554641723633,
          11.919118881225586,
          53.86990737915039,
          14.639105796813965,
          -5.127783298492432,
          -21.04730987548828,
          -82.34512329101562,
          21.71391487121582,
          -64.72366333007812,
          -31.936607360839844,
          -20.05783462524414,
          33.63059997558594,
          -10.425402641296387,
          18.31348991394043,
          -47.17193603515625,
          -2.1706535816192627,
          9.414018630981445,
          -11.206329345703125,
          42.29157638549805,
          -23.538799285888672,
          -32.23472595214844,
          21.80308723449707,
          27.351533889770508,
          30.958459854125977,
          -96.25001525878906,
          6.748606204986572,
          10.886331558227539,
          9.295416831970215,
          -3.5639054775238037,
          8.448785781860352,
          -34.36265182495117,
          15.332716941833496,
          69.17489624023438,
          -15.11572551727295,
          -24.253507614135742,
          -13.217082977294922,
          3.962427854537964,
          75.48202514648438,
          -17.9512882232666,
          -14.298933982849121,
          -10.964834213256836,
          -15.98713493347168,
          7.460411071777344,
          -27.049646377563477,
          18.869550704956055,
          -16.001802444458008,
          -39.45005416870117,
          38.31853103637695,
          -24.11968231201172,
          -5.051809310913086,
          -56.704322814941406,
          -0.9987494945526123,
          -42.345523834228516,
          1.258815050125122,
          24.827938079833984,
          -12.195791244506836,
          -20.515151977539062,
          -27.777490615844727,
          -29.033355712890625,
          18.934532165527344,
          -7.809615135192871,
          26.337038040161133,
          -53.919097900390625,
          8.624897003173828,
          -32.336997985839844,
          15.936578750610352,
          74.78770446777344,
          -2.357098340988159,
          39.08208084106445,
          9.803014755249023
         ]
        }
       ],
       "layout": {
        "legend": {
         "tracegroupgap": 0
        },
        "margin": {
         "t": 60
        },
        "scene": {
         "domain": {
          "x": [
           0,
           1
          ],
          "y": [
           0,
           1
          ]
         },
         "xaxis": {
          "title": {
           "text": "first"
          }
         },
         "yaxis": {
          "title": {
           "text": "second"
          }
         },
         "zaxis": {
          "title": {
           "text": "third"
          }
         }
        },
        "template": {
         "data": {
          "bar": [
           {
            "error_x": {
             "color": "#2a3f5f"
            },
            "error_y": {
             "color": "#2a3f5f"
            },
            "marker": {
             "line": {
              "color": "#E5ECF6",
              "width": 0.5
             }
            },
            "type": "bar"
           }
          ],
          "barpolar": [
           {
            "marker": {
             "line": {
              "color": "#E5ECF6",
              "width": 0.5
             }
            },
            "type": "barpolar"
           }
          ],
          "carpet": [
           {
            "aaxis": {
             "endlinecolor": "#2a3f5f",
             "gridcolor": "white",
             "linecolor": "white",
             "minorgridcolor": "white",
             "startlinecolor": "#2a3f5f"
            },
            "baxis": {
             "endlinecolor": "#2a3f5f",
             "gridcolor": "white",
             "linecolor": "white",
             "minorgridcolor": "white",
             "startlinecolor": "#2a3f5f"
            },
            "type": "carpet"
           }
          ],
          "choropleth": [
           {
            "colorbar": {
             "outlinewidth": 0,
             "ticks": ""
            },
            "type": "choropleth"
           }
          ],
          "contour": [
           {
            "colorbar": {
             "outlinewidth": 0,
             "ticks": ""
            },
            "colorscale": [
             [
              0,
              "#0d0887"
             ],
             [
              0.1111111111111111,
              "#46039f"
             ],
             [
              0.2222222222222222,
              "#7201a8"
             ],
             [
              0.3333333333333333,
              "#9c179e"
             ],
             [
              0.4444444444444444,
              "#bd3786"
             ],
             [
              0.5555555555555556,
              "#d8576b"
             ],
             [
              0.6666666666666666,
              "#ed7953"
             ],
             [
              0.7777777777777778,
              "#fb9f3a"
             ],
             [
              0.8888888888888888,
              "#fdca26"
             ],
             [
              1,
              "#f0f921"
             ]
            ],
            "type": "contour"
           }
          ],
          "contourcarpet": [
           {
            "colorbar": {
             "outlinewidth": 0,
             "ticks": ""
            },
            "type": "contourcarpet"
           }
          ],
          "heatmap": [
           {
            "colorbar": {
             "outlinewidth": 0,
             "ticks": ""
            },
            "colorscale": [
             [
              0,
              "#0d0887"
             ],
             [
              0.1111111111111111,
              "#46039f"
             ],
             [
              0.2222222222222222,
              "#7201a8"
             ],
             [
              0.3333333333333333,
              "#9c179e"
             ],
             [
              0.4444444444444444,
              "#bd3786"
             ],
             [
              0.5555555555555556,
              "#d8576b"
             ],
             [
              0.6666666666666666,
              "#ed7953"
             ],
             [
              0.7777777777777778,
              "#fb9f3a"
             ],
             [
              0.8888888888888888,
              "#fdca26"
             ],
             [
              1,
              "#f0f921"
             ]
            ],
            "type": "heatmap"
           }
          ],
          "heatmapgl": [
           {
            "colorbar": {
             "outlinewidth": 0,
             "ticks": ""
            },
            "colorscale": [
             [
              0,
              "#0d0887"
             ],
             [
              0.1111111111111111,
              "#46039f"
             ],
             [
              0.2222222222222222,
              "#7201a8"
             ],
             [
              0.3333333333333333,
              "#9c179e"
             ],
             [
              0.4444444444444444,
              "#bd3786"
             ],
             [
              0.5555555555555556,
              "#d8576b"
             ],
             [
              0.6666666666666666,
              "#ed7953"
             ],
             [
              0.7777777777777778,
              "#fb9f3a"
             ],
             [
              0.8888888888888888,
              "#fdca26"
             ],
             [
              1,
              "#f0f921"
             ]
            ],
            "type": "heatmapgl"
           }
          ],
          "histogram": [
           {
            "marker": {
             "colorbar": {
              "outlinewidth": 0,
              "ticks": ""
             }
            },
            "type": "histogram"
           }
          ],
          "histogram2d": [
           {
            "colorbar": {
             "outlinewidth": 0,
             "ticks": ""
            },
            "colorscale": [
             [
              0,
              "#0d0887"
             ],
             [
              0.1111111111111111,
              "#46039f"
             ],
             [
              0.2222222222222222,
              "#7201a8"
             ],
             [
              0.3333333333333333,
              "#9c179e"
             ],
             [
              0.4444444444444444,
              "#bd3786"
             ],
             [
              0.5555555555555556,
              "#d8576b"
             ],
             [
              0.6666666666666666,
              "#ed7953"
             ],
             [
              0.7777777777777778,
              "#fb9f3a"
             ],
             [
              0.8888888888888888,
              "#fdca26"
             ],
             [
              1,
              "#f0f921"
             ]
            ],
            "type": "histogram2d"
           }
          ],
          "histogram2dcontour": [
           {
            "colorbar": {
             "outlinewidth": 0,
             "ticks": ""
            },
            "colorscale": [
             [
              0,
              "#0d0887"
             ],
             [
              0.1111111111111111,
              "#46039f"
             ],
             [
              0.2222222222222222,
              "#7201a8"
             ],
             [
              0.3333333333333333,
              "#9c179e"
             ],
             [
              0.4444444444444444,
              "#bd3786"
             ],
             [
              0.5555555555555556,
              "#d8576b"
             ],
             [
              0.6666666666666666,
              "#ed7953"
             ],
             [
              0.7777777777777778,
              "#fb9f3a"
             ],
             [
              0.8888888888888888,
              "#fdca26"
             ],
             [
              1,
              "#f0f921"
             ]
            ],
            "type": "histogram2dcontour"
           }
          ],
          "mesh3d": [
           {
            "colorbar": {
             "outlinewidth": 0,
             "ticks": ""
            },
            "type": "mesh3d"
           }
          ],
          "parcoords": [
           {
            "line": {
             "colorbar": {
              "outlinewidth": 0,
              "ticks": ""
             }
            },
            "type": "parcoords"
           }
          ],
          "pie": [
           {
            "automargin": true,
            "type": "pie"
           }
          ],
          "scatter": [
           {
            "marker": {
             "colorbar": {
              "outlinewidth": 0,
              "ticks": ""
             }
            },
            "type": "scatter"
           }
          ],
          "scatter3d": [
           {
            "line": {
             "colorbar": {
              "outlinewidth": 0,
              "ticks": ""
             }
            },
            "marker": {
             "colorbar": {
              "outlinewidth": 0,
              "ticks": ""
             }
            },
            "type": "scatter3d"
           }
          ],
          "scattercarpet": [
           {
            "marker": {
             "colorbar": {
              "outlinewidth": 0,
              "ticks": ""
             }
            },
            "type": "scattercarpet"
           }
          ],
          "scattergeo": [
           {
            "marker": {
             "colorbar": {
              "outlinewidth": 0,
              "ticks": ""
             }
            },
            "type": "scattergeo"
           }
          ],
          "scattergl": [
           {
            "marker": {
             "colorbar": {
              "outlinewidth": 0,
              "ticks": ""
             }
            },
            "type": "scattergl"
           }
          ],
          "scattermapbox": [
           {
            "marker": {
             "colorbar": {
              "outlinewidth": 0,
              "ticks": ""
             }
            },
            "type": "scattermapbox"
           }
          ],
          "scatterpolar": [
           {
            "marker": {
             "colorbar": {
              "outlinewidth": 0,
              "ticks": ""
             }
            },
            "type": "scatterpolar"
           }
          ],
          "scatterpolargl": [
           {
            "marker": {
             "colorbar": {
              "outlinewidth": 0,
              "ticks": ""
             }
            },
            "type": "scatterpolargl"
           }
          ],
          "scatterternary": [
           {
            "marker": {
             "colorbar": {
              "outlinewidth": 0,
              "ticks": ""
             }
            },
            "type": "scatterternary"
           }
          ],
          "surface": [
           {
            "colorbar": {
             "outlinewidth": 0,
             "ticks": ""
            },
            "colorscale": [
             [
              0,
              "#0d0887"
             ],
             [
              0.1111111111111111,
              "#46039f"
             ],
             [
              0.2222222222222222,
              "#7201a8"
             ],
             [
              0.3333333333333333,
              "#9c179e"
             ],
             [
              0.4444444444444444,
              "#bd3786"
             ],
             [
              0.5555555555555556,
              "#d8576b"
             ],
             [
              0.6666666666666666,
              "#ed7953"
             ],
             [
              0.7777777777777778,
              "#fb9f3a"
             ],
             [
              0.8888888888888888,
              "#fdca26"
             ],
             [
              1,
              "#f0f921"
             ]
            ],
            "type": "surface"
           }
          ],
          "table": [
           {
            "cells": {
             "fill": {
              "color": "#EBF0F8"
             },
             "line": {
              "color": "white"
             }
            },
            "header": {
             "fill": {
              "color": "#C8D4E3"
             },
             "line": {
              "color": "white"
             }
            },
            "type": "table"
           }
          ]
         },
         "layout": {
          "annotationdefaults": {
           "arrowcolor": "#2a3f5f",
           "arrowhead": 0,
           "arrowwidth": 1
          },
          "coloraxis": {
           "colorbar": {
            "outlinewidth": 0,
            "ticks": ""
           }
          },
          "colorscale": {
           "diverging": [
            [
             0,
             "#8e0152"
            ],
            [
             0.1,
             "#c51b7d"
            ],
            [
             0.2,
             "#de77ae"
            ],
            [
             0.3,
             "#f1b6da"
            ],
            [
             0.4,
             "#fde0ef"
            ],
            [
             0.5,
             "#f7f7f7"
            ],
            [
             0.6,
             "#e6f5d0"
            ],
            [
             0.7,
             "#b8e186"
            ],
            [
             0.8,
             "#7fbc41"
            ],
            [
             0.9,
             "#4d9221"
            ],
            [
             1,
             "#276419"
            ]
           ],
           "sequential": [
            [
             0,
             "#0d0887"
            ],
            [
             0.1111111111111111,
             "#46039f"
            ],
            [
             0.2222222222222222,
             "#7201a8"
            ],
            [
             0.3333333333333333,
             "#9c179e"
            ],
            [
             0.4444444444444444,
             "#bd3786"
            ],
            [
             0.5555555555555556,
             "#d8576b"
            ],
            [
             0.6666666666666666,
             "#ed7953"
            ],
            [
             0.7777777777777778,
             "#fb9f3a"
            ],
            [
             0.8888888888888888,
             "#fdca26"
            ],
            [
             1,
             "#f0f921"
            ]
           ],
           "sequentialminus": [
            [
             0,
             "#0d0887"
            ],
            [
             0.1111111111111111,
             "#46039f"
            ],
            [
             0.2222222222222222,
             "#7201a8"
            ],
            [
             0.3333333333333333,
             "#9c179e"
            ],
            [
             0.4444444444444444,
             "#bd3786"
            ],
            [
             0.5555555555555556,
             "#d8576b"
            ],
            [
             0.6666666666666666,
             "#ed7953"
            ],
            [
             0.7777777777777778,
             "#fb9f3a"
            ],
            [
             0.8888888888888888,
             "#fdca26"
            ],
            [
             1,
             "#f0f921"
            ]
           ]
          },
          "colorway": [
           "#636efa",
           "#EF553B",
           "#00cc96",
           "#ab63fa",
           "#FFA15A",
           "#19d3f3",
           "#FF6692",
           "#B6E880",
           "#FF97FF",
           "#FECB52"
          ],
          "font": {
           "color": "#2a3f5f"
          },
          "geo": {
           "bgcolor": "white",
           "lakecolor": "white",
           "landcolor": "#E5ECF6",
           "showlakes": true,
           "showland": true,
           "subunitcolor": "white"
          },
          "hoverlabel": {
           "align": "left"
          },
          "hovermode": "closest",
          "mapbox": {
           "style": "light"
          },
          "paper_bgcolor": "white",
          "plot_bgcolor": "#E5ECF6",
          "polar": {
           "angularaxis": {
            "gridcolor": "white",
            "linecolor": "white",
            "ticks": ""
           },
           "bgcolor": "#E5ECF6",
           "radialaxis": {
            "gridcolor": "white",
            "linecolor": "white",
            "ticks": ""
           }
          },
          "scene": {
           "xaxis": {
            "backgroundcolor": "#E5ECF6",
            "gridcolor": "white",
            "gridwidth": 2,
            "linecolor": "white",
            "showbackground": true,
            "ticks": "",
            "zerolinecolor": "white"
           },
           "yaxis": {
            "backgroundcolor": "#E5ECF6",
            "gridcolor": "white",
            "gridwidth": 2,
            "linecolor": "white",
            "showbackground": true,
            "ticks": "",
            "zerolinecolor": "white"
           },
           "zaxis": {
            "backgroundcolor": "#E5ECF6",
            "gridcolor": "white",
            "gridwidth": 2,
            "linecolor": "white",
            "showbackground": true,
            "ticks": "",
            "zerolinecolor": "white"
           }
          },
          "shapedefaults": {
           "line": {
            "color": "#2a3f5f"
           }
          },
          "ternary": {
           "aaxis": {
            "gridcolor": "white",
            "linecolor": "white",
            "ticks": ""
           },
           "baxis": {
            "gridcolor": "white",
            "linecolor": "white",
            "ticks": ""
           },
           "bgcolor": "#E5ECF6",
           "caxis": {
            "gridcolor": "white",
            "linecolor": "white",
            "ticks": ""
           }
          },
          "title": {
           "x": 0.05
          },
          "xaxis": {
           "automargin": true,
           "gridcolor": "white",
           "linecolor": "white",
           "ticks": "",
           "title": {
            "standoff": 15
           },
           "zerolinecolor": "white",
           "zerolinewidth": 2
          },
          "yaxis": {
           "automargin": true,
           "gridcolor": "white",
           "linecolor": "white",
           "ticks": "",
           "title": {
            "standoff": 15
           },
           "zerolinecolor": "white",
           "zerolinewidth": 2
          }
         }
        }
       }
      },
      "text/html": [
       "<div>\n",
       "        \n",
       "        \n",
       "            <div id=\"a6a4c73c-4822-4646-af25-8eebd6578df9\" class=\"plotly-graph-div\" style=\"height:525px; width:100%;\"></div>\n",
       "            <script type=\"text/javascript\">\n",
       "                require([\"plotly\"], function(Plotly) {\n",
       "                    window.PLOTLYENV=window.PLOTLYENV || {};\n",
       "                    \n",
       "                if (document.getElementById(\"a6a4c73c-4822-4646-af25-8eebd6578df9\")) {\n",
       "                    Plotly.newPlot(\n",
       "                        'a6a4c73c-4822-4646-af25-8eebd6578df9',\n",
       "                        [{\"hovertemplate\": \"<b>%{hovertext}</b><br><br>first=%{x}<br>second=%{y}<br>third=%{z}<extra></extra>\", \"hovertext\": [\"Afghanistan\", \"Albania\", \"Algeria\", \"Andorra\", \"Angola\", \"Argentina\", \"Australia\", \"Austria\", \"Azerbaijan\", \"Bangladesh\", \"Barbados\", \"Belgium\", \"Belize\", \"Bolivia\", \"Bosnia and Herzegovina\", \"Botswana\", \"Brazil\", \"Brunei Darussalam\", \"Bulgaria\", \"Burkina Faso\", \"Burundi\", \"Cameroon\", \"Canada\", \"Chad\", \"Chile\", \"China\", \"Colombia\", \"Congo, Dem. Rep.\", \"Costa Rica\", \"Croatia\", \"Cuba\", \"Cyprus\", \"Czech Republic\", \"Denmark\", \"Djibouti\", \"Dominica\", \"Dominican Republic\", \"Ecuador\", \"Egypt, Arab Rep.\", \"El Salvador\", \"Estonia\", \"Eswatini\", \"Finland\", \"France\", \"Gabon\", \"Gambia, The\", \"Germany\", \"Ghana\", \"Greece\", \"Greenland\", \"Guatemala\", \"Guyana\", \"Honduras\", \"Hungary\", \"Iceland\", \"India\", \"Indonesia\", \"Iran, Islamic Rep.\", \"Iraq\", \"Ireland\", \"Israel\", \"Italy\", \"Jamaica\", \"Japan\", \"Jordan\", \"Kazakhstan\", \"Kenya\", \"Korea, Rep.\", \"Kosovo\", \"Kuwait\", \"Kyrgyz Republic\", \"Lao PDR\", \"Lebanon\", \"Libya\", \"Luxembourg\", \"Madagascar\", \"Malawi\", \"Malaysia\", \"Mali\", \"Mauritania\", \"Mauritius\", \"Mexico\", \"Moldova\", \"Mongolia\", \"Morocco\", \"Mozambique\", \"Namibia\", \"Netherlands\", \"New Zealand\", \"Nicaragua\", \"Niger\", \"Nigeria\", \"Norway\", \"Oman\", \"Pakistan\", \"Panama\", \"Papua New Guinea\", \"Paraguay\", \"Peru\", \"Philippines\", \"Poland\", \"Portugal\", \"Qatar\", \"Romania\", \"Russian Federation\", \"Rwanda\", \"San Marino\", \"Saudi Arabia\", \"Serbia\", \"Seychelles\", \"Sierra Leone\", \"Singapore\", \"Slovak Republic\", \"Slovenia\", \"South Africa\", \"South Sudan\", \"Spain\", \"Sri Lanka\", \"Sudan\", \"Sweden\", \"Switzerland\", \"Syrian Arab Republic\", \"United Rep. of Tanzania\", \"Thailand\", \"Trinidad and Tobago\", \"Tunisia\", \"Turkey\", \"Uganda\", \"Ukraine\", \"United Arab Emirates\", \"United Kingdom\", \"United States of America\", \"Uruguay\", \"Uzbekistan\", \"Venezuela, RB\", \"Vietnam\", \"Zambia\", \"Zimbabwe\"], \"legendgroup\": \"\", \"marker\": {\"color\": \"#636efa\", \"symbol\": \"circle\"}, \"mode\": \"markers\", \"name\": \"\", \"scene\": \"scene\", \"showlegend\": false, \"type\": \"scatter3d\", \"x\": [0.4414770007133484, 32.53771209716797, 13.047063827514648, 3.2731246948242188, 35.90265655517578, -36.139747619628906, 57.10253143310547, 29.040082931518555, 19.987653732299805, 13.935555458068848, -211.05465698242188, -6.739909648895264, 12.692240715026855, 57.647621154785156, 56.15868377685547, -33.22092819213867, 9.43797779083252, -23.91291618347168, -33.01743698120117, -28.98189926147461, 0.7886905670166016, -9.71928882598877, 1.3475124835968018, -37.5780143737793, 39.50652313232422, 23.724645614624023, 4.273317337036133, -1.7541347742080688, 23.931177139282227, -37.12509536743164, -5.154634952545166, 35.321876525878906, 20.549604415893555, 53.14863967895508, 7.27553653717041, -2.8287041187286377, -107.82958984375, -72.92798614501953, -15.731618881225586, 32.28512954711914, 20.330930709838867, -17.291208267211914, -20.32857894897461, -44.8659553527832, 12.680126190185547, 27.026866912841797, -5.9130778312683105, 41.42028045654297, -33.8250617980957, 9.761759757995605, -10.579206466674805, 2.6581692695617676, -20.77654457092285, 7.147332668304443, 7.100265979766846, -7.228927135467529, -8.364017486572266, 4.022505283355713, -21.449155807495117, 14.046630859375, -2.928124189376831, 24.631860733032227, -18.14402961730957, 9.47529411315918, -16.203947067260742, 4.573200225830078, -5.332001209259033, 8.255736351013184, -21.142425537109375, -21.780548095703125, -12.286093711853027, 19.081958770751953, -2.3705382347106934, 36.300315856933594, -10.77189826965332, -13.040043830871582, 55.096641540527344, 4.707165718078613, -85.61322784423828, -11.354013442993164, 20.957674026489258, 44.63439178466797, 22.881244659423828, -14.734594345092773, 18.760181427001953, -118.4892349243164, -17.393138885498047, 17.319910049438477, 38.36994552612305, -3.2445321083068848, 0.6316266059875488, -23.57820701599121, 61.090599060058594, 31.04896354675293, -5.924520015716553, -25.48267936706543, -27.848291397094727, -53.41179656982422, 34.326053619384766, 13.584053993225098, -38.64425277709961, 14.656169891357422, -17.392789840698242, 8.273428916931152, 1.321454405784607, 9.645425796508789, 31.035884857177734, -22.78120231628418, 33.51129150390625, -11.07793140411377, -5.917862892150879, -10.266167640686035, 19.520164489746094, 33.900882720947266, -1.3003661632537842, 9.904969215393066, 15.861311912536621, -53.860328674316406, -25.825695037841797, -33.59992218017578, -67.93832397460938, -14.809281349182129, 1.6080213785171509, -1.116469383239746, -4.711030960083008, 1.5660215616226196, -17.011592864990234, -29.170595169067383, 26.330219268798828, -17.706893920898438, -38.819705963134766, 16.33777618408203, 25.51825714111328, 33.01286315917969, 39.913631439208984, -15.706194877624512, 39.78339385986328, 7.725620269775391], \"y\": [-10.98690128326416, -0.3184189796447754, 16.431968688964844, 31.901119232177734, 5.194454669952393, -7.481865882873535, -26.04850959777832, -9.525396347045898, -13.827495574951172, -4.576547622680664, -150.87657165527344, 16.261699676513672, -3.7921836376190186, -52.784446716308594, -36.078670501708984, -6.9113898277282715, -2.1735568046569824, -3.398583173751831, 9.959511756896973, -36.80415725708008, 21.110197067260742, 30.65638542175293, 3.621177911758423, 5.891433238983154, 11.346126556396484, -51.10606002807617, -24.66596794128418, 33.757999420166016, 2.599841594696045, 8.753253936767578, -17.854307174682617, 58.60767364501953, 10.785024642944336, 33.334346771240234, 7.2555694580078125, 18.76634979248047, 78.1362075805664, -25.067110061645508, 34.34893035888672, -72.3080825805664, -14.534394264221191, 21.80568504333496, -12.891168594360352, -0.6500113010406494, 30.464445114135742, 29.611549377441406, -7.319722652435303, -11.656810760498047, 23.695615768432617, -7.874515533447266, 6.742076396942139, -4.609812259674072, 7.880564212799072, -52.689632415771484, 8.785000801086426, -34.89826202392578, -15.840544700622559, -9.92198657989502, 22.357519149780273, -16.481460571289062, -16.13117218017578, -29.242050170898438, 8.612586975097656, -27.34613609313965, 22.84208106994629, 11.890119552612305, -0.48640161752700806, -41.760986328125, 7.7709455490112305, -24.477685928344727, 4.361660003662109, 12.494828224182129, -3.3880538940429688, -5.602571487426758, -106.36434936523438, -0.07833892852067947, -93.22416687011719, 9.749964714050293, -197.7394256591797, 13.68786907196045, 17.965229034423828, -15.719169616699219, -15.651302337646484, -34.93046951293945, -1.4048075675964355, -74.00779724121094, 7.340670108795166, 7.2864813804626465, 42.181121826171875, 15.9027099609375, 3.146944761276245, 2.678638458251953, -36.16020202636719, -24.99827766418457, 1.8886902332305908, -9.088967323303223, 12.638468742370605, -12.778645515441895, -20.225784301757812, 35.829261779785156, -18.82050132751465, -36.0020866394043, 24.342472076416016, -19.758502960205078, -28.550033569335938, -18.05320930480957, 26.34894561767578, -18.201309204101562, -16.399120330810547, -3.501978874206543, 18.631061553955078, -29.057083129882812, -19.268325805664062, 11.343408584594727, -16.194143295288086, 7.445021629333496, 22.903446197509766, 17.179683685302734, -77.21997833251953, -23.1774959564209, 16.645898818969727, -6.208042144775391, 29.64337730407715, -32.38927459716797, 7.790675640106201, 29.2132568359375, 5.025596618652344, 5.23064661026001, 2.1785287857055664, -18.59053611755371, 18.9075927734375, -31.879291534423828, -0.22761735320091248, 19.813465118408203, -24.047847747802734, -20.640806198120117, -20.78865623474121, 21.66200828552246], \"z\": [31.74285125732422, 3.5097997188568115, 25.11170768737793, -13.37592601776123, 20.351972579956055, -3.020991086959839, -6.365087032318115, 14.852517127990723, -7.0297160148620605, -13.563597679138184, 89.75041961669922, -37.96488952636719, 22.27866554260254, 39.11905288696289, -35.177886962890625, -22.680822372436523, 0.510848879814148, -10.000007629394531, -21.399099349975586, -7.890111446380615, 37.18907165527344, 16.81367301940918, 69.89647674560547, 31.001876831054688, -0.8967118859291077, -29.167377471923828, 23.239036560058594, 5.015120983123779, 30.41606903076172, 5.656790733337402, -18.263622283935547, -25.056745529174805, 0.3272729516029358, -56.0224609375, 13.354650497436523, -9.185375213623047, 218.95245361328125, 13.815710067749023, -1.0956220626831055, 25.182327270507812, -26.626718521118164, 25.455364227294922, -33.39626693725586, 7.356235980987549, -1.9692015647888184, 3.8356997966766357, -30.74038314819336, 3.456583261489868, -12.831589698791504, -34.49745178222656, -0.47909027338027954, -20.00189781188965, 7.8856401443481445, 23.222421646118164, -13.915706634521484, 17.113080978393555, 13.526496887207031, 12.123336791992188, 9.308883666992188, 4.795279502868652, -2.1890647411346436, -7.595749378204346, -14.366228103637695, -26.528230667114258, -5.9767351150512695, -0.2263767123222351, 40.29475784301758, -0.6152269840240479, -44.16554641723633, 11.919118881225586, 53.86990737915039, 14.639105796813965, -5.127783298492432, -21.04730987548828, -82.34512329101562, 21.71391487121582, -64.72366333007812, -31.936607360839844, -20.05783462524414, 33.63059997558594, -10.425402641296387, 18.31348991394043, -47.17193603515625, -2.1706535816192627, 9.414018630981445, -11.206329345703125, 42.29157638549805, -23.538799285888672, -32.23472595214844, 21.80308723449707, 27.351533889770508, 30.958459854125977, -96.25001525878906, 6.748606204986572, 10.886331558227539, 9.295416831970215, -3.5639054775238037, 8.448785781860352, -34.36265182495117, 15.332716941833496, 69.17489624023438, -15.11572551727295, -24.253507614135742, -13.217082977294922, 3.962427854537964, 75.48202514648438, -17.9512882232666, -14.298933982849121, -10.964834213256836, -15.98713493347168, 7.460411071777344, -27.049646377563477, 18.869550704956055, -16.001802444458008, -39.45005416870117, 38.31853103637695, -24.11968231201172, -5.051809310913086, -56.704322814941406, -0.9987494945526123, -42.345523834228516, 1.258815050125122, 24.827938079833984, -12.195791244506836, -20.515151977539062, -27.777490615844727, -29.033355712890625, 18.934532165527344, -7.809615135192871, 26.337038040161133, -53.919097900390625, 8.624897003173828, -32.336997985839844, 15.936578750610352, 74.78770446777344, -2.357098340988159, 39.08208084106445, 9.803014755249023]}],\n",
       "                        {\"legend\": {\"tracegroupgap\": 0}, \"margin\": {\"t\": 60}, \"scene\": {\"domain\": {\"x\": [0.0, 1.0], \"y\": [0.0, 1.0]}, \"xaxis\": {\"title\": {\"text\": \"first\"}}, \"yaxis\": {\"title\": {\"text\": \"second\"}}, \"zaxis\": {\"title\": {\"text\": \"third\"}}}, \"template\": {\"data\": {\"bar\": [{\"error_x\": {\"color\": \"#2a3f5f\"}, \"error_y\": {\"color\": \"#2a3f5f\"}, \"marker\": {\"line\": {\"color\": \"#E5ECF6\", \"width\": 0.5}}, \"type\": \"bar\"}], \"barpolar\": [{\"marker\": {\"line\": {\"color\": \"#E5ECF6\", \"width\": 0.5}}, \"type\": \"barpolar\"}], \"carpet\": [{\"aaxis\": {\"endlinecolor\": \"#2a3f5f\", \"gridcolor\": \"white\", \"linecolor\": \"white\", \"minorgridcolor\": \"white\", \"startlinecolor\": \"#2a3f5f\"}, \"baxis\": {\"endlinecolor\": \"#2a3f5f\", \"gridcolor\": \"white\", \"linecolor\": \"white\", \"minorgridcolor\": \"white\", \"startlinecolor\": \"#2a3f5f\"}, \"type\": \"carpet\"}], \"choropleth\": [{\"colorbar\": {\"outlinewidth\": 0, \"ticks\": \"\"}, \"type\": \"choropleth\"}], \"contour\": [{\"colorbar\": {\"outlinewidth\": 0, \"ticks\": \"\"}, \"colorscale\": [[0.0, \"#0d0887\"], [0.1111111111111111, \"#46039f\"], [0.2222222222222222, \"#7201a8\"], [0.3333333333333333, \"#9c179e\"], [0.4444444444444444, \"#bd3786\"], [0.5555555555555556, \"#d8576b\"], [0.6666666666666666, \"#ed7953\"], [0.7777777777777778, \"#fb9f3a\"], [0.8888888888888888, \"#fdca26\"], [1.0, \"#f0f921\"]], \"type\": \"contour\"}], \"contourcarpet\": [{\"colorbar\": {\"outlinewidth\": 0, \"ticks\": \"\"}, \"type\": \"contourcarpet\"}], \"heatmap\": [{\"colorbar\": {\"outlinewidth\": 0, \"ticks\": \"\"}, \"colorscale\": [[0.0, \"#0d0887\"], [0.1111111111111111, \"#46039f\"], [0.2222222222222222, \"#7201a8\"], [0.3333333333333333, \"#9c179e\"], [0.4444444444444444, \"#bd3786\"], [0.5555555555555556, \"#d8576b\"], [0.6666666666666666, \"#ed7953\"], [0.7777777777777778, \"#fb9f3a\"], [0.8888888888888888, \"#fdca26\"], [1.0, \"#f0f921\"]], \"type\": \"heatmap\"}], \"heatmapgl\": [{\"colorbar\": {\"outlinewidth\": 0, \"ticks\": \"\"}, \"colorscale\": [[0.0, \"#0d0887\"], [0.1111111111111111, \"#46039f\"], [0.2222222222222222, \"#7201a8\"], [0.3333333333333333, \"#9c179e\"], [0.4444444444444444, \"#bd3786\"], [0.5555555555555556, \"#d8576b\"], [0.6666666666666666, \"#ed7953\"], [0.7777777777777778, \"#fb9f3a\"], [0.8888888888888888, \"#fdca26\"], [1.0, \"#f0f921\"]], \"type\": \"heatmapgl\"}], \"histogram\": [{\"marker\": {\"colorbar\": {\"outlinewidth\": 0, \"ticks\": \"\"}}, \"type\": \"histogram\"}], \"histogram2d\": [{\"colorbar\": {\"outlinewidth\": 0, \"ticks\": \"\"}, \"colorscale\": [[0.0, \"#0d0887\"], [0.1111111111111111, \"#46039f\"], [0.2222222222222222, \"#7201a8\"], [0.3333333333333333, \"#9c179e\"], [0.4444444444444444, \"#bd3786\"], [0.5555555555555556, \"#d8576b\"], [0.6666666666666666, \"#ed7953\"], [0.7777777777777778, \"#fb9f3a\"], [0.8888888888888888, \"#fdca26\"], [1.0, \"#f0f921\"]], \"type\": \"histogram2d\"}], \"histogram2dcontour\": [{\"colorbar\": {\"outlinewidth\": 0, \"ticks\": \"\"}, \"colorscale\": [[0.0, \"#0d0887\"], [0.1111111111111111, \"#46039f\"], [0.2222222222222222, \"#7201a8\"], [0.3333333333333333, \"#9c179e\"], [0.4444444444444444, \"#bd3786\"], [0.5555555555555556, \"#d8576b\"], [0.6666666666666666, \"#ed7953\"], [0.7777777777777778, \"#fb9f3a\"], [0.8888888888888888, \"#fdca26\"], [1.0, \"#f0f921\"]], \"type\": \"histogram2dcontour\"}], \"mesh3d\": [{\"colorbar\": {\"outlinewidth\": 0, \"ticks\": \"\"}, \"type\": \"mesh3d\"}], \"parcoords\": [{\"line\": {\"colorbar\": {\"outlinewidth\": 0, \"ticks\": \"\"}}, \"type\": \"parcoords\"}], \"pie\": [{\"automargin\": true, \"type\": \"pie\"}], \"scatter\": [{\"marker\": {\"colorbar\": {\"outlinewidth\": 0, \"ticks\": \"\"}}, \"type\": \"scatter\"}], \"scatter3d\": [{\"line\": {\"colorbar\": {\"outlinewidth\": 0, \"ticks\": \"\"}}, \"marker\": {\"colorbar\": {\"outlinewidth\": 0, \"ticks\": \"\"}}, \"type\": \"scatter3d\"}], \"scattercarpet\": [{\"marker\": {\"colorbar\": {\"outlinewidth\": 0, \"ticks\": \"\"}}, \"type\": \"scattercarpet\"}], \"scattergeo\": [{\"marker\": {\"colorbar\": {\"outlinewidth\": 0, \"ticks\": \"\"}}, \"type\": \"scattergeo\"}], \"scattergl\": [{\"marker\": {\"colorbar\": {\"outlinewidth\": 0, \"ticks\": \"\"}}, \"type\": \"scattergl\"}], \"scattermapbox\": [{\"marker\": {\"colorbar\": {\"outlinewidth\": 0, \"ticks\": \"\"}}, \"type\": \"scattermapbox\"}], \"scatterpolar\": [{\"marker\": {\"colorbar\": {\"outlinewidth\": 0, \"ticks\": \"\"}}, \"type\": \"scatterpolar\"}], \"scatterpolargl\": [{\"marker\": {\"colorbar\": {\"outlinewidth\": 0, \"ticks\": \"\"}}, \"type\": \"scatterpolargl\"}], \"scatterternary\": [{\"marker\": {\"colorbar\": {\"outlinewidth\": 0, \"ticks\": \"\"}}, \"type\": \"scatterternary\"}], \"surface\": [{\"colorbar\": {\"outlinewidth\": 0, \"ticks\": \"\"}, \"colorscale\": [[0.0, \"#0d0887\"], [0.1111111111111111, \"#46039f\"], [0.2222222222222222, \"#7201a8\"], [0.3333333333333333, \"#9c179e\"], [0.4444444444444444, \"#bd3786\"], [0.5555555555555556, \"#d8576b\"], [0.6666666666666666, \"#ed7953\"], [0.7777777777777778, \"#fb9f3a\"], [0.8888888888888888, \"#fdca26\"], [1.0, \"#f0f921\"]], \"type\": \"surface\"}], \"table\": [{\"cells\": {\"fill\": {\"color\": \"#EBF0F8\"}, \"line\": {\"color\": \"white\"}}, \"header\": {\"fill\": {\"color\": \"#C8D4E3\"}, \"line\": {\"color\": \"white\"}}, \"type\": \"table\"}]}, \"layout\": {\"annotationdefaults\": {\"arrowcolor\": \"#2a3f5f\", \"arrowhead\": 0, \"arrowwidth\": 1}, \"coloraxis\": {\"colorbar\": {\"outlinewidth\": 0, \"ticks\": \"\"}}, \"colorscale\": {\"diverging\": [[0, \"#8e0152\"], [0.1, \"#c51b7d\"], [0.2, \"#de77ae\"], [0.3, \"#f1b6da\"], [0.4, \"#fde0ef\"], [0.5, \"#f7f7f7\"], [0.6, \"#e6f5d0\"], [0.7, \"#b8e186\"], [0.8, \"#7fbc41\"], [0.9, \"#4d9221\"], [1, \"#276419\"]], \"sequential\": [[0.0, \"#0d0887\"], [0.1111111111111111, \"#46039f\"], [0.2222222222222222, \"#7201a8\"], [0.3333333333333333, \"#9c179e\"], [0.4444444444444444, \"#bd3786\"], [0.5555555555555556, \"#d8576b\"], [0.6666666666666666, \"#ed7953\"], [0.7777777777777778, \"#fb9f3a\"], [0.8888888888888888, \"#fdca26\"], [1.0, \"#f0f921\"]], \"sequentialminus\": [[0.0, \"#0d0887\"], [0.1111111111111111, \"#46039f\"], [0.2222222222222222, \"#7201a8\"], [0.3333333333333333, \"#9c179e\"], [0.4444444444444444, \"#bd3786\"], [0.5555555555555556, \"#d8576b\"], [0.6666666666666666, \"#ed7953\"], [0.7777777777777778, \"#fb9f3a\"], [0.8888888888888888, \"#fdca26\"], [1.0, \"#f0f921\"]]}, \"colorway\": [\"#636efa\", \"#EF553B\", \"#00cc96\", \"#ab63fa\", \"#FFA15A\", \"#19d3f3\", \"#FF6692\", \"#B6E880\", \"#FF97FF\", \"#FECB52\"], \"font\": {\"color\": \"#2a3f5f\"}, \"geo\": {\"bgcolor\": \"white\", \"lakecolor\": \"white\", \"landcolor\": \"#E5ECF6\", \"showlakes\": true, \"showland\": true, \"subunitcolor\": \"white\"}, \"hoverlabel\": {\"align\": \"left\"}, \"hovermode\": \"closest\", \"mapbox\": {\"style\": \"light\"}, \"paper_bgcolor\": \"white\", \"plot_bgcolor\": \"#E5ECF6\", \"polar\": {\"angularaxis\": {\"gridcolor\": \"white\", \"linecolor\": \"white\", \"ticks\": \"\"}, \"bgcolor\": \"#E5ECF6\", \"radialaxis\": {\"gridcolor\": \"white\", \"linecolor\": \"white\", \"ticks\": \"\"}}, \"scene\": {\"xaxis\": {\"backgroundcolor\": \"#E5ECF6\", \"gridcolor\": \"white\", \"gridwidth\": 2, \"linecolor\": \"white\", \"showbackground\": true, \"ticks\": \"\", \"zerolinecolor\": \"white\"}, \"yaxis\": {\"backgroundcolor\": \"#E5ECF6\", \"gridcolor\": \"white\", \"gridwidth\": 2, \"linecolor\": \"white\", \"showbackground\": true, \"ticks\": \"\", \"zerolinecolor\": \"white\"}, \"zaxis\": {\"backgroundcolor\": \"#E5ECF6\", \"gridcolor\": \"white\", \"gridwidth\": 2, \"linecolor\": \"white\", \"showbackground\": true, \"ticks\": \"\", \"zerolinecolor\": \"white\"}}, \"shapedefaults\": {\"line\": {\"color\": \"#2a3f5f\"}}, \"ternary\": {\"aaxis\": {\"gridcolor\": \"white\", \"linecolor\": \"white\", \"ticks\": \"\"}, \"baxis\": {\"gridcolor\": \"white\", \"linecolor\": \"white\", \"ticks\": \"\"}, \"bgcolor\": \"#E5ECF6\", \"caxis\": {\"gridcolor\": \"white\", \"linecolor\": \"white\", \"ticks\": \"\"}}, \"title\": {\"x\": 0.05}, \"xaxis\": {\"automargin\": true, \"gridcolor\": \"white\", \"linecolor\": \"white\", \"ticks\": \"\", \"title\": {\"standoff\": 15}, \"zerolinecolor\": \"white\", \"zerolinewidth\": 2}, \"yaxis\": {\"automargin\": true, \"gridcolor\": \"white\", \"linecolor\": \"white\", \"ticks\": \"\", \"title\": {\"standoff\": 15}, \"zerolinecolor\": \"white\", \"zerolinewidth\": 2}}}},\n",
       "                        {\"responsive\": true}\n",
       "                    ).then(function(){\n",
       "                            \n",
       "var gd = document.getElementById('a6a4c73c-4822-4646-af25-8eebd6578df9');\n",
       "var x = new MutationObserver(function (mutations, observer) {{\n",
       "        var display = window.getComputedStyle(gd).display;\n",
       "        if (!display || display === 'none') {{\n",
       "            console.log([gd, 'removed!']);\n",
       "            Plotly.purge(gd);\n",
       "            observer.disconnect();\n",
       "        }}\n",
       "}});\n",
       "\n",
       "// Listen for the removal of the full notebook cells\n",
       "var notebookContainer = gd.closest('#notebook-container');\n",
       "if (notebookContainer) {{\n",
       "    x.observe(notebookContainer, {childList: true});\n",
       "}}\n",
       "\n",
       "// Listen for the clearing of the current output cell\n",
       "var outputEl = gd.closest('.output');\n",
       "if (outputEl) {{\n",
       "    x.observe(outputEl, {childList: true});\n",
       "}}\n",
       "\n",
       "                        })\n",
       "                };\n",
       "                });\n",
       "            </script>\n",
       "        </div>"
      ]
     },
     "metadata": {},
     "output_type": "display_data"
    }
   ],
   "source": [
    "fig = px.scatter_3d(dfX, x='first', y='second', z='third',hover_name='Country Name')\n",
    "fig.show()"
   ]
  }
 ],
 "metadata": {
  "kernelspec": {
   "display_name": "Python 3",
   "language": "python",
   "name": "python3"
  },
  "language_info": {
   "codemirror_mode": {
    "name": "ipython",
    "version": 3
   },
   "file_extension": ".py",
   "mimetype": "text/x-python",
   "name": "python",
   "nbconvert_exporter": "python",
   "pygments_lexer": "ipython3",
   "version": "3.6.0"
  }
 },
 "nbformat": 4,
 "nbformat_minor": 2
}
